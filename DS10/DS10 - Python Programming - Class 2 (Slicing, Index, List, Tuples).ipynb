{
 "cells": [
  {
   "cell_type": "markdown",
   "id": "6dc8614d",
   "metadata": {},
   "source": [
    "# Slicing and Indexing"
   ]
  },
  {
   "cell_type": "code",
   "execution_count": 1,
   "id": "2780a0ac",
   "metadata": {},
   "outputs": [],
   "source": [
    "company = 'The Scholar'"
   ]
  },
  {
   "cell_type": "code",
   "execution_count": 3,
   "id": "0548aa74",
   "metadata": {},
   "outputs": [
    {
     "data": {
      "text/plain": [
       "str"
      ]
     },
     "execution_count": 3,
     "metadata": {},
     "output_type": "execute_result"
    }
   ],
   "source": [
    "type(company)"
   ]
  },
  {
   "cell_type": "code",
   "execution_count": 4,
   "id": "4a9f3956",
   "metadata": {},
   "outputs": [
    {
     "data": {
      "text/plain": [
       "'The Scholar'"
      ]
     },
     "execution_count": 4,
     "metadata": {},
     "output_type": "execute_result"
    }
   ],
   "source": [
    "company"
   ]
  },
  {
   "cell_type": "markdown",
   "id": "c68dfd10",
   "metadata": {},
   "source": [
    "**Slicing will always happens with a [] square bracket**"
   ]
  },
  {
   "cell_type": "code",
   "execution_count": 5,
   "id": "62eefa98",
   "metadata": {},
   "outputs": [
    {
     "data": {
      "text/plain": [
       "'S'"
      ]
     },
     "execution_count": 5,
     "metadata": {},
     "output_type": "execute_result"
    }
   ],
   "source": [
    "company[4]"
   ]
  },
  {
   "cell_type": "markdown",
   "id": "35f7f245",
   "metadata": {},
   "source": [
    "**When you are calling a function it will always be using () normal brackets**"
   ]
  },
  {
   "cell_type": "markdown",
   "id": "faa5cfaf",
   "metadata": {},
   "source": [
    "By default the slicing happens from left to right\n",
    "company[7:1:1] - The last +1 is the direction, if it is a positive value it will be left to right and if it is a negative value it will be from right to left"
   ]
  },
  {
   "cell_type": "code",
   "execution_count": 18,
   "id": "52cdfc95",
   "metadata": {},
   "outputs": [
    {
     "data": {
      "text/plain": [
       "'Sch'"
      ]
     },
     "execution_count": 18,
     "metadata": {},
     "output_type": "execute_result"
    }
   ],
   "source": [
    "company[4:7:1]"
   ]
  },
  {
   "cell_type": "code",
   "execution_count": 10,
   "id": "980b2580",
   "metadata": {},
   "outputs": [
    {
     "data": {
      "text/plain": [
       "'e Sch'"
      ]
     },
     "execution_count": 10,
     "metadata": {},
     "output_type": "execute_result"
    }
   ],
   "source": [
    "company[2:7]"
   ]
  },
  {
   "cell_type": "code",
   "execution_count": 11,
   "id": "0766cf2e",
   "metadata": {},
   "outputs": [
    {
     "data": {
      "text/plain": [
       "'The Schol'"
      ]
     },
     "execution_count": 11,
     "metadata": {},
     "output_type": "execute_result"
    }
   ],
   "source": [
    "company[0:9]"
   ]
  },
  {
   "cell_type": "code",
   "execution_count": 19,
   "id": "814b7f64",
   "metadata": {},
   "outputs": [
    {
     "data": {
      "text/plain": [
       "'oS'"
      ]
     },
     "execution_count": 19,
     "metadata": {},
     "output_type": "execute_result"
    }
   ],
   "source": [
    "company[7:1:-3]"
   ]
  },
  {
   "cell_type": "code",
   "execution_count": 20,
   "id": "bfcf823f",
   "metadata": {},
   "outputs": [
    {
     "data": {
      "text/plain": [
       "'r'"
      ]
     },
     "execution_count": 20,
     "metadata": {},
     "output_type": "execute_result"
    }
   ],
   "source": [
    "company[10]"
   ]
  },
  {
   "cell_type": "code",
   "execution_count": 21,
   "id": "397f4868",
   "metadata": {},
   "outputs": [
    {
     "data": {
      "text/plain": [
       "'r'"
      ]
     },
     "execution_count": 21,
     "metadata": {},
     "output_type": "execute_result"
    }
   ],
   "source": [
    "company[-1]"
   ]
  },
  {
   "cell_type": "code",
   "execution_count": 22,
   "id": "80f9121c",
   "metadata": {},
   "outputs": [
    {
     "data": {
      "text/plain": [
       "'S'"
      ]
     },
     "execution_count": 22,
     "metadata": {},
     "output_type": "execute_result"
    }
   ],
   "source": [
    "company[4]"
   ]
  },
  {
   "cell_type": "code",
   "execution_count": 23,
   "id": "12d43f7e",
   "metadata": {},
   "outputs": [
    {
     "data": {
      "text/plain": [
       "'S'"
      ]
     },
     "execution_count": 23,
     "metadata": {},
     "output_type": "execute_result"
    }
   ],
   "source": [
    "company[-7]"
   ]
  },
  {
   "cell_type": "code",
   "execution_count": 24,
   "id": "11319c73",
   "metadata": {},
   "outputs": [
    {
     "data": {
      "text/plain": [
       "' Schol'"
      ]
     },
     "execution_count": 24,
     "metadata": {},
     "output_type": "execute_result"
    }
   ],
   "source": [
    "company[-8:-2]"
   ]
  },
  {
   "cell_type": "code",
   "execution_count": 25,
   "id": "f8fa4aeb",
   "metadata": {},
   "outputs": [
    {
     "data": {
      "text/plain": [
       "' Sch'"
      ]
     },
     "execution_count": 25,
     "metadata": {},
     "output_type": "execute_result"
    }
   ],
   "source": [
    "company[-8:7]"
   ]
  },
  {
   "cell_type": "code",
   "execution_count": 26,
   "id": "9f5a5450",
   "metadata": {},
   "outputs": [
    {
     "data": {
      "text/plain": [
       "'e Schol'"
      ]
     },
     "execution_count": 26,
     "metadata": {},
     "output_type": "execute_result"
    }
   ],
   "source": [
    "company[2:-2]"
   ]
  },
  {
   "cell_type": "code",
   "execution_count": 27,
   "id": "c0ea9e5c",
   "metadata": {},
   "outputs": [
    {
     "data": {
      "text/plain": [
       "'ohcS'"
      ]
     },
     "execution_count": 27,
     "metadata": {},
     "output_type": "execute_result"
    }
   ],
   "source": [
    "company[7:-8:-1]"
   ]
  },
  {
   "cell_type": "code",
   "execution_count": 28,
   "id": "e8b6e5d0",
   "metadata": {},
   "outputs": [
    {
     "data": {
      "text/plain": [
       "'lohcS '"
      ]
     },
     "execution_count": 28,
     "metadata": {},
     "output_type": "execute_result"
    }
   ],
   "source": [
    "company[-3:-9:-1]"
   ]
  },
  {
   "cell_type": "code",
   "execution_count": 29,
   "id": "3bd145b2",
   "metadata": {},
   "outputs": [
    {
     "data": {
      "text/plain": [
       "'h'"
      ]
     },
     "execution_count": 29,
     "metadata": {},
     "output_type": "execute_result"
    }
   ],
   "source": [
    "company[1:-11:-1]"
   ]
  },
  {
   "cell_type": "markdown",
   "id": "cd45298c",
   "metadata": {},
   "source": [
    "**In the below example there is no starting and ending point so it will start from the start and end till the end**"
   ]
  },
  {
   "cell_type": "code",
   "execution_count": 30,
   "id": "1199924d",
   "metadata": {},
   "outputs": [
    {
     "data": {
      "text/plain": [
       "'ralohcS ehT'"
      ]
     },
     "execution_count": 30,
     "metadata": {},
     "output_type": "execute_result"
    }
   ],
   "source": [
    "company[::-1]"
   ]
  },
  {
   "cell_type": "code",
   "execution_count": 31,
   "id": "b5c27ede",
   "metadata": {},
   "outputs": [
    {
     "data": {
      "text/plain": [
       "'raloh'"
      ]
     },
     "execution_count": 31,
     "metadata": {},
     "output_type": "execute_result"
    }
   ],
   "source": [
    "company[:5:-1]"
   ]
  },
  {
   "cell_type": "code",
   "execution_count": 32,
   "id": "82db8954",
   "metadata": {},
   "outputs": [
    {
     "data": {
      "text/plain": [
       "'cS ehT'"
      ]
     },
     "execution_count": 32,
     "metadata": {},
     "output_type": "execute_result"
    }
   ],
   "source": [
    "company[5::-1]"
   ]
  },
  {
   "cell_type": "code",
   "execution_count": 33,
   "id": "d63204ef",
   "metadata": {},
   "outputs": [
    {
     "data": {
      "text/plain": [
       "'holar'"
      ]
     },
     "execution_count": 33,
     "metadata": {},
     "output_type": "execute_result"
    }
   ],
   "source": [
    "company[-5::]"
   ]
  },
  {
   "cell_type": "code",
   "execution_count": 34,
   "id": "71950087",
   "metadata": {},
   "outputs": [
    {
     "data": {
      "text/plain": [
       "'h'"
      ]
     },
     "execution_count": 34,
     "metadata": {},
     "output_type": "execute_result"
    }
   ],
   "source": [
    "company[-5:-7:-2]"
   ]
  },
  {
   "cell_type": "markdown",
   "id": "1989fbc2",
   "metadata": {},
   "source": [
    "# Data Structures in Python\n",
    "\n",
    "**What are the in-built data structures are there in python**\n",
    "    \n",
    "    1) Lists \n",
    "        \n",
    "        a) Lists are always created using [] brackets\n",
    "        b) Lists can have heterogeneous data i.e. We can have different datatypes \n",
    "        c) Duplicates are entertained\n",
    "        d) Lists are growable in nature - You can add more values in the list\n",
    "        e) Lists are mutable in nature - We can add, update, delete from the list without changing the memory location\n",
    "    \n",
    "    2) Tuples \n",
    "        a) Tuples are always created using the () brackets\n",
    "        b) Tuples can have heterogeneous data i.e. We can have different datatypes \n",
    "        c) Duplicates are entertained\n",
    "        d) Tuples are not growable in nature - You cannot add, remove, update anything in the tuples\n",
    "        e) Tuples are immutable in nature - You cannot change the value\n",
    "    \n",
    "    3) Sets \n",
    "    \n",
    "    4) Dictionaries"
   ]
  },
  {
   "cell_type": "code",
   "execution_count": 37,
   "id": "add5c310",
   "metadata": {},
   "outputs": [],
   "source": [
    "list1 = ['A',10,5.5,True,'A']"
   ]
  },
  {
   "cell_type": "code",
   "execution_count": 38,
   "id": "b8f6ec6b",
   "metadata": {},
   "outputs": [
    {
     "data": {
      "text/plain": [
       "list"
      ]
     },
     "execution_count": 38,
     "metadata": {},
     "output_type": "execute_result"
    }
   ],
   "source": [
    "type(list1)"
   ]
  },
  {
   "cell_type": "code",
   "execution_count": 57,
   "id": "1815f758",
   "metadata": {},
   "outputs": [
    {
     "ename": "TypeError",
     "evalue": "unsupported operand type(s) for +: 'int' and 'str'",
     "output_type": "error",
     "traceback": [
      "\u001b[1;31m---------------------------------------------------------------------------\u001b[0m",
      "\u001b[1;31mTypeError\u001b[0m                                 Traceback (most recent call last)",
      "\u001b[1;32m~\\AppData\\Local\\Temp\\ipykernel_12516\\202590907.py\u001b[0m in \u001b[0;36m<module>\u001b[1;34m\u001b[0m\n\u001b[1;32m----> 1\u001b[1;33m \u001b[0msum\u001b[0m\u001b[1;33m(\u001b[0m\u001b[0mlist1\u001b[0m\u001b[1;33m)\u001b[0m\u001b[1;33m\u001b[0m\u001b[1;33m\u001b[0m\u001b[0m\n\u001b[0m",
      "\u001b[1;31mTypeError\u001b[0m: unsupported operand type(s) for +: 'int' and 'str'"
     ]
    }
   ],
   "source": [
    "sum(list1)"
   ]
  },
  {
   "cell_type": "code",
   "execution_count": 42,
   "id": "88f1a349",
   "metadata": {},
   "outputs": [
    {
     "data": {
      "text/plain": [
       "[]"
      ]
     },
     "execution_count": 42,
     "metadata": {},
     "output_type": "execute_result"
    }
   ],
   "source": [
    "list1[1:4:-1]"
   ]
  },
  {
   "cell_type": "code",
   "execution_count": 47,
   "id": "85a54326",
   "metadata": {},
   "outputs": [
    {
     "data": {
      "text/plain": [
       "str"
      ]
     },
     "execution_count": 47,
     "metadata": {},
     "output_type": "execute_result"
    }
   ],
   "source": [
    "type(list1[4])"
   ]
  },
  {
   "cell_type": "code",
   "execution_count": 84,
   "id": "8baf68ec",
   "metadata": {},
   "outputs": [],
   "source": [
    "ages = [21,23,33,22,22,33,44,22,44,55,44,22,11,23]"
   ]
  },
  {
   "cell_type": "code",
   "execution_count": 55,
   "id": "03efee82",
   "metadata": {},
   "outputs": [
    {
     "data": {
      "text/plain": [
       "14"
      ]
     },
     "execution_count": 55,
     "metadata": {},
     "output_type": "execute_result"
    }
   ],
   "source": [
    "len(ages)"
   ]
  },
  {
   "cell_type": "code",
   "execution_count": 56,
   "id": "2cb0756d",
   "metadata": {},
   "outputs": [
    {
     "data": {
      "text/plain": [
       "419"
      ]
     },
     "execution_count": 56,
     "metadata": {},
     "output_type": "execute_result"
    }
   ],
   "source": [
    "sum(ages)"
   ]
  },
  {
   "cell_type": "code",
   "execution_count": 58,
   "id": "a6696eeb",
   "metadata": {},
   "outputs": [
    {
     "data": {
      "text/plain": [
       "11"
      ]
     },
     "execution_count": 58,
     "metadata": {},
     "output_type": "execute_result"
    }
   ],
   "source": [
    "min(ages)"
   ]
  },
  {
   "cell_type": "code",
   "execution_count": 59,
   "id": "d1126864",
   "metadata": {},
   "outputs": [
    {
     "data": {
      "text/plain": [
       "55"
      ]
     },
     "execution_count": 59,
     "metadata": {},
     "output_type": "execute_result"
    }
   ],
   "source": [
    "max(ages)"
   ]
  },
  {
   "cell_type": "code",
   "execution_count": 62,
   "id": "c535f136",
   "metadata": {},
   "outputs": [
    {
     "data": {
      "text/plain": [
       "29.928571428571427"
      ]
     },
     "execution_count": 62,
     "metadata": {},
     "output_type": "execute_result"
    }
   ],
   "source": [
    "sum(ages)/len(ages)"
   ]
  },
  {
   "cell_type": "markdown",
   "id": "9137d85d",
   "metadata": {},
   "source": [
    "**Functions of Lists**"
   ]
  },
  {
   "cell_type": "markdown",
   "id": "3f32be28",
   "metadata": {},
   "source": [
    "**append() - It appends a value inside the list at the end, append can take only one arguement**"
   ]
  },
  {
   "cell_type": "code",
   "execution_count": 67,
   "id": "4cbacb3e",
   "metadata": {},
   "outputs": [],
   "source": [
    "ages.append(100)"
   ]
  },
  {
   "cell_type": "markdown",
   "id": "56a8bb13",
   "metadata": {},
   "source": [
    "**In the below example append considers below list [100,200] as a single arguement, it inserted the value inside the list as a list, list of list**"
   ]
  },
  {
   "cell_type": "code",
   "execution_count": 69,
   "id": "7da37c97",
   "metadata": {},
   "outputs": [],
   "source": [
    "ages.append([100,200])"
   ]
  },
  {
   "cell_type": "code",
   "execution_count": 71,
   "id": "b8e9de78",
   "metadata": {},
   "outputs": [
    {
     "data": {
      "text/plain": [
       "17"
      ]
     },
     "execution_count": 71,
     "metadata": {},
     "output_type": "execute_result"
    }
   ],
   "source": [
    "len(ages)"
   ]
  },
  {
   "cell_type": "code",
   "execution_count": 73,
   "id": "edcab92a",
   "metadata": {},
   "outputs": [
    {
     "data": {
      "text/plain": [
       "[100, 200]"
      ]
     },
     "execution_count": 73,
     "metadata": {},
     "output_type": "execute_result"
    }
   ],
   "source": [
    "ages[16]"
   ]
  },
  {
   "cell_type": "code",
   "execution_count": 75,
   "id": "5470a1e2",
   "metadata": {},
   "outputs": [
    {
     "data": {
      "text/plain": [
       "[100, 200]"
      ]
     },
     "execution_count": 75,
     "metadata": {},
     "output_type": "execute_result"
    }
   ],
   "source": [
    "ages[-1]"
   ]
  },
  {
   "cell_type": "code",
   "execution_count": 78,
   "id": "155b8681",
   "metadata": {},
   "outputs": [
    {
     "data": {
      "text/plain": [
       "200"
      ]
     },
     "execution_count": 78,
     "metadata": {},
     "output_type": "execute_result"
    }
   ],
   "source": [
    "ages[16][1]"
   ]
  },
  {
   "cell_type": "code",
   "execution_count": 79,
   "id": "1d7e3afb",
   "metadata": {},
   "outputs": [
    {
     "data": {
      "text/plain": [
       "[21, 23, 33, 22, 22, 33, 44, 22, 44, 55, 44, 22, 11, 23, 100, 100, [100, 200]]"
      ]
     },
     "execution_count": 79,
     "metadata": {},
     "output_type": "execute_result"
    }
   ],
   "source": [
    "ages"
   ]
  },
  {
   "cell_type": "code",
   "execution_count": 80,
   "id": "e625a311",
   "metadata": {},
   "outputs": [],
   "source": [
    "del ages[-1]"
   ]
  },
  {
   "cell_type": "code",
   "execution_count": 81,
   "id": "412a94c4",
   "metadata": {},
   "outputs": [
    {
     "data": {
      "text/plain": [
       "[21, 23, 33, 22, 22, 33, 44, 22, 44, 55, 44, 22, 11, 23, 100, 100]"
      ]
     },
     "execution_count": 81,
     "metadata": {},
     "output_type": "execute_result"
    }
   ],
   "source": [
    "ages"
   ]
  },
  {
   "cell_type": "markdown",
   "id": "2a1ef590",
   "metadata": {},
   "source": [
    "**clear() - It will clear all the list elements and keep the list as is as an empty list**"
   ]
  },
  {
   "cell_type": "code",
   "execution_count": 82,
   "id": "63c9a939",
   "metadata": {},
   "outputs": [],
   "source": [
    "ages.clear()"
   ]
  },
  {
   "cell_type": "markdown",
   "id": "0cc3a23b",
   "metadata": {},
   "source": [
    "**copy() - Copy command create the actual backup of the list, ages is in one memory location and ages1 is in the another memory location, ages2 = ages will point to the same list**"
   ]
  },
  {
   "cell_type": "code",
   "execution_count": 86,
   "id": "696a9944",
   "metadata": {},
   "outputs": [],
   "source": [
    "ages1 = ages.copy()"
   ]
  },
  {
   "cell_type": "code",
   "execution_count": 90,
   "id": "df252947",
   "metadata": {},
   "outputs": [],
   "source": [
    "ages2 = ages"
   ]
  },
  {
   "cell_type": "code",
   "execution_count": 98,
   "id": "35761e1a",
   "metadata": {},
   "outputs": [
    {
     "data": {
      "text/plain": [
       "2925853506816"
      ]
     },
     "execution_count": 98,
     "metadata": {},
     "output_type": "execute_result"
    }
   ],
   "source": [
    "id(ages)"
   ]
  },
  {
   "cell_type": "code",
   "execution_count": 93,
   "id": "6516d203",
   "metadata": {},
   "outputs": [
    {
     "data": {
      "text/plain": [
       "2925853531712"
      ]
     },
     "execution_count": 93,
     "metadata": {},
     "output_type": "execute_result"
    }
   ],
   "source": [
    "id(ages1)"
   ]
  },
  {
   "cell_type": "code",
   "execution_count": 100,
   "id": "96602acb",
   "metadata": {},
   "outputs": [
    {
     "data": {
      "text/plain": [
       "2925853506816"
      ]
     },
     "execution_count": 100,
     "metadata": {},
     "output_type": "execute_result"
    }
   ],
   "source": [
    "id(ages2)"
   ]
  },
  {
   "cell_type": "code",
   "execution_count": 96,
   "id": "39a86a9e",
   "metadata": {},
   "outputs": [],
   "source": [
    "ages[0] =22"
   ]
  },
  {
   "cell_type": "code",
   "execution_count": 99,
   "id": "5cd3d9b0",
   "metadata": {},
   "outputs": [
    {
     "data": {
      "text/plain": [
       "[22, 23, 33, 22, 22, 33, 44, 22, 44, 55, 44, 22, 11, 23]"
      ]
     },
     "execution_count": 99,
     "metadata": {},
     "output_type": "execute_result"
    }
   ],
   "source": [
    "ages"
   ]
  },
  {
   "cell_type": "code",
   "execution_count": 101,
   "id": "44e3a801",
   "metadata": {},
   "outputs": [
    {
     "data": {
      "text/plain": [
       "[22, 23, 33, 22, 22, 33, 44, 22, 44, 55, 44, 22, 11, 23]"
      ]
     },
     "execution_count": 101,
     "metadata": {},
     "output_type": "execute_result"
    }
   ],
   "source": [
    "ages2"
   ]
  },
  {
   "cell_type": "code",
   "execution_count": 102,
   "id": "588fa887",
   "metadata": {},
   "outputs": [
    {
     "data": {
      "text/plain": [
       "[21, 23, 33, 22, 22, 33, 44, 22, 44, 55, 44, 22, 11, 23]"
      ]
     },
     "execution_count": 102,
     "metadata": {},
     "output_type": "execute_result"
    }
   ],
   "source": [
    "ages1"
   ]
  },
  {
   "cell_type": "code",
   "execution_count": 103,
   "id": "5a894710",
   "metadata": {},
   "outputs": [],
   "source": [
    "del ages2 "
   ]
  },
  {
   "cell_type": "code",
   "execution_count": 105,
   "id": "d696ace6",
   "metadata": {},
   "outputs": [],
   "source": [
    "del ages1"
   ]
  },
  {
   "cell_type": "code",
   "execution_count": 108,
   "id": "6add77cc",
   "metadata": {},
   "outputs": [
    {
     "data": {
      "text/plain": [
       "[22, 23, 33, 22, 22, 33, 44, 22, 44, 55, 44, 22, 11, 23]"
      ]
     },
     "execution_count": 108,
     "metadata": {},
     "output_type": "execute_result"
    }
   ],
   "source": [
    "ages"
   ]
  },
  {
   "cell_type": "markdown",
   "id": "307624ef",
   "metadata": {},
   "source": [
    "**count() - Count the number of values in the list**"
   ]
  },
  {
   "cell_type": "code",
   "execution_count": 107,
   "id": "6d743335",
   "metadata": {},
   "outputs": [
    {
     "data": {
      "text/plain": [
       "5"
      ]
     },
     "execution_count": 107,
     "metadata": {},
     "output_type": "execute_result"
    }
   ],
   "source": [
    "ages.count(22)"
   ]
  },
  {
   "cell_type": "markdown",
   "id": "9a4b8676",
   "metadata": {},
   "source": [
    "**extend() - It will add multiple values in the list as an individual elements, we have to pass a list of values**"
   ]
  },
  {
   "cell_type": "code",
   "execution_count": 112,
   "id": "01366e5b",
   "metadata": {},
   "outputs": [],
   "source": [
    "ages.extend([10,20])"
   ]
  },
  {
   "cell_type": "code",
   "execution_count": 113,
   "id": "99f67aa9",
   "metadata": {},
   "outputs": [
    {
     "data": {
      "text/plain": [
       "[22, 23, 33, 22, 22, 33, 44, 22, 44, 55, 44, 22, 11, 23, 10, 20]"
      ]
     },
     "execution_count": 113,
     "metadata": {},
     "output_type": "execute_result"
    }
   ],
   "source": [
    "ages"
   ]
  },
  {
   "cell_type": "markdown",
   "id": "cdcee52b",
   "metadata": {},
   "source": [
    "**index() - It will always gives the first index of the value**"
   ]
  },
  {
   "cell_type": "code",
   "execution_count": 115,
   "id": "c9e4ee2f",
   "metadata": {},
   "outputs": [
    {
     "data": {
      "text/plain": [
       "1"
      ]
     },
     "execution_count": 115,
     "metadata": {},
     "output_type": "execute_result"
    }
   ],
   "source": [
    "ages.index(23)"
   ]
  },
  {
   "cell_type": "markdown",
   "id": "62f12414",
   "metadata": {},
   "source": [
    "**insert() - It will insert a value at a particular index position**"
   ]
  },
  {
   "cell_type": "code",
   "execution_count": 116,
   "id": "897fd173",
   "metadata": {},
   "outputs": [],
   "source": [
    "ages.insert(7,100)"
   ]
  },
  {
   "cell_type": "code",
   "execution_count": 122,
   "id": "a5dbdf03",
   "metadata": {},
   "outputs": [
    {
     "data": {
      "text/plain": [
       "[22, 23, 33, 22, 22, 33, 44, 100, 22, 44, 55, 44, 22, 11, 23, 10]"
      ]
     },
     "execution_count": 122,
     "metadata": {},
     "output_type": "execute_result"
    }
   ],
   "source": [
    "ages"
   ]
  },
  {
   "cell_type": "markdown",
   "id": "539e73b2",
   "metadata": {},
   "source": [
    "**pop() - It takes one or zero arguements. If we are not passing any arguement then it will remove the last value, however, if we pass the index of any specific value it will remove that indexed value**"
   ]
  },
  {
   "cell_type": "code",
   "execution_count": 123,
   "id": "544c216f",
   "metadata": {},
   "outputs": [
    {
     "data": {
      "text/plain": [
       "44"
      ]
     },
     "execution_count": 123,
     "metadata": {},
     "output_type": "execute_result"
    }
   ],
   "source": [
    "ages.pop(9)"
   ]
  },
  {
   "cell_type": "markdown",
   "id": "fecddab8",
   "metadata": {},
   "source": [
    "**remove() - It takes one arguement and that is the value which is present in the list. If there are duplicates it will remove the first instance of the duplicates**"
   ]
  },
  {
   "cell_type": "code",
   "execution_count": 127,
   "id": "505943e6",
   "metadata": {},
   "outputs": [],
   "source": [
    "ages.remove(100)"
   ]
  },
  {
   "cell_type": "code",
   "execution_count": 129,
   "id": "32853199",
   "metadata": {},
   "outputs": [],
   "source": [
    "ages.remove(23)"
   ]
  },
  {
   "cell_type": "code",
   "execution_count": 130,
   "id": "0b074e6e",
   "metadata": {},
   "outputs": [
    {
     "data": {
      "text/plain": [
       "[22, 33, 22, 22, 33, 44, 22, 55, 44, 22, 11, 23, 10]"
      ]
     },
     "execution_count": 130,
     "metadata": {},
     "output_type": "execute_result"
    }
   ],
   "source": [
    "ages"
   ]
  },
  {
   "cell_type": "markdown",
   "id": "dc3a973d",
   "metadata": {},
   "source": [
    "**reverse() - It will flip the list**"
   ]
  },
  {
   "cell_type": "code",
   "execution_count": 131,
   "id": "e2093023",
   "metadata": {},
   "outputs": [],
   "source": [
    "ages.reverse()"
   ]
  },
  {
   "cell_type": "code",
   "execution_count": 132,
   "id": "22461a59",
   "metadata": {},
   "outputs": [
    {
     "data": {
      "text/plain": [
       "[10, 23, 11, 22, 44, 55, 22, 44, 33, 22, 22, 33, 22]"
      ]
     },
     "execution_count": 132,
     "metadata": {},
     "output_type": "execute_result"
    }
   ],
   "source": [
    "ages"
   ]
  },
  {
   "cell_type": "markdown",
   "id": "cbd58953",
   "metadata": {},
   "source": [
    "**sort() - By default the sorting happens is an ascending order, if we want to do the descending order then we can pass the reverse arguemnt inside the sort function as True**"
   ]
  },
  {
   "cell_type": "code",
   "execution_count": 133,
   "id": "c2681055",
   "metadata": {},
   "outputs": [],
   "source": [
    "ages.sort()"
   ]
  },
  {
   "cell_type": "code",
   "execution_count": 135,
   "id": "48de017e",
   "metadata": {},
   "outputs": [],
   "source": [
    "ages.sort(reverse=True)"
   ]
  },
  {
   "cell_type": "code",
   "execution_count": 136,
   "id": "ace666f2",
   "metadata": {},
   "outputs": [
    {
     "data": {
      "text/plain": [
       "[55, 44, 44, 33, 33, 23, 22, 22, 22, 22, 22, 11, 10]"
      ]
     },
     "execution_count": 136,
     "metadata": {},
     "output_type": "execute_result"
    }
   ],
   "source": [
    "ages"
   ]
  },
  {
   "cell_type": "markdown",
   "id": "00e8ee8b",
   "metadata": {},
   "source": [
    "**Tuples**"
   ]
  },
  {
   "cell_type": "code",
   "execution_count": 137,
   "id": "5903feaf",
   "metadata": {},
   "outputs": [],
   "source": [
    "salary = (23,43,22,33,22,11,22,44,33)"
   ]
  },
  {
   "cell_type": "code",
   "execution_count": 138,
   "id": "30dbf41d",
   "metadata": {},
   "outputs": [
    {
     "data": {
      "text/plain": [
       "tuple"
      ]
     },
     "execution_count": 138,
     "metadata": {},
     "output_type": "execute_result"
    }
   ],
   "source": [
    "type(salary)"
   ]
  },
  {
   "cell_type": "code",
   "execution_count": 139,
   "id": "4ec72150",
   "metadata": {},
   "outputs": [],
   "source": [
    "tuple1 = ('A',10,10.5,True)"
   ]
  },
  {
   "cell_type": "code",
   "execution_count": 141,
   "id": "4f7ed297",
   "metadata": {},
   "outputs": [
    {
     "ename": "TypeError",
     "evalue": "'tuple' object does not support item assignment",
     "output_type": "error",
     "traceback": [
      "\u001b[1;31m---------------------------------------------------------------------------\u001b[0m",
      "\u001b[1;31mTypeError\u001b[0m                                 Traceback (most recent call last)",
      "\u001b[1;32m~\\AppData\\Local\\Temp\\ipykernel_12516\\3592099511.py\u001b[0m in \u001b[0;36m<module>\u001b[1;34m\u001b[0m\n\u001b[1;32m----> 1\u001b[1;33m \u001b[0mtuple1\u001b[0m\u001b[1;33m[\u001b[0m\u001b[1;36m0\u001b[0m\u001b[1;33m]\u001b[0m \u001b[1;33m=\u001b[0m \u001b[1;36m23\u001b[0m\u001b[1;33m\u001b[0m\u001b[1;33m\u001b[0m\u001b[0m\n\u001b[0m",
      "\u001b[1;31mTypeError\u001b[0m: 'tuple' object does not support item assignment"
     ]
    }
   ],
   "source": [
    "tuple1[0] = 23"
   ]
  },
  {
   "cell_type": "code",
   "execution_count": 142,
   "id": "29c1e558",
   "metadata": {},
   "outputs": [
    {
     "data": {
      "text/plain": [
       "3"
      ]
     },
     "execution_count": 142,
     "metadata": {},
     "output_type": "execute_result"
    }
   ],
   "source": [
    "salary.count(22)"
   ]
  },
  {
   "cell_type": "code",
   "execution_count": 143,
   "id": "3a2ea35f",
   "metadata": {},
   "outputs": [
    {
     "data": {
      "text/plain": [
       "2"
      ]
     },
     "execution_count": 143,
     "metadata": {},
     "output_type": "execute_result"
    }
   ],
   "source": [
    "salary.index(22)"
   ]
  },
  {
   "cell_type": "markdown",
   "id": "defd08cf",
   "metadata": {},
   "source": [
    "**Lists - We can use where we can change the values frequently**\n",
    "\n",
    "**Tuples - We can use where we cannot change the value frequently or never**"
   ]
  },
  {
   "cell_type": "markdown",
   "id": "fa1d93ae",
   "metadata": {},
   "source": [
    "**How can we change the values in the Tuples**\n",
    "\n",
    "    1) Convert the tuple to a list \n",
    "    2) As lists are mutable lets change the value in the converted list\n",
    "    3) We will convert the list back to the tuple \n",
    "    \n",
    "    Memory location will change - It will overwrite the previous tuple hence, it will change the memory location. "
   ]
  },
  {
   "cell_type": "code",
   "execution_count": 148,
   "id": "9fffc20e",
   "metadata": {},
   "outputs": [
    {
     "data": {
      "text/plain": [
       "2925818507152"
      ]
     },
     "execution_count": 148,
     "metadata": {},
     "output_type": "execute_result"
    }
   ],
   "source": [
    "salary\n",
    "id(salary)"
   ]
  },
  {
   "cell_type": "code",
   "execution_count": 145,
   "id": "e9b7c1a7",
   "metadata": {},
   "outputs": [],
   "source": [
    "a = list(salary)"
   ]
  },
  {
   "cell_type": "code",
   "execution_count": 147,
   "id": "29e3f8b6",
   "metadata": {},
   "outputs": [],
   "source": [
    "a[0] = 22"
   ]
  },
  {
   "cell_type": "code",
   "execution_count": 149,
   "id": "cc09a1e4",
   "metadata": {},
   "outputs": [],
   "source": [
    "salary = tuple(a)"
   ]
  },
  {
   "cell_type": "code",
   "execution_count": 150,
   "id": "b34a2a6e",
   "metadata": {},
   "outputs": [
    {
     "data": {
      "text/plain": [
       "2925855107664"
      ]
     },
     "execution_count": 150,
     "metadata": {},
     "output_type": "execute_result"
    }
   ],
   "source": [
    "id(salary)"
   ]
  }
 ],
 "metadata": {
  "kernelspec": {
   "display_name": "Python 3 (ipykernel)",
   "language": "python",
   "name": "python3"
  },
  "language_info": {
   "codemirror_mode": {
    "name": "ipython",
    "version": 3
   },
   "file_extension": ".py",
   "mimetype": "text/x-python",
   "name": "python",
   "nbconvert_exporter": "python",
   "pygments_lexer": "ipython3",
   "version": "3.9.13"
  }
 },
 "nbformat": 4,
 "nbformat_minor": 5
}

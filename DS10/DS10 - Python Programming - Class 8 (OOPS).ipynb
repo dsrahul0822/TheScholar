{
 "cells": [
  {
   "cell_type": "markdown",
   "id": "572a26ba",
   "metadata": {},
   "source": [
    "**Functional Programming**"
   ]
  },
  {
   "cell_type": "code",
   "execution_count": 1,
   "id": "70e15ba6",
   "metadata": {},
   "outputs": [],
   "source": [
    "def celtofer(c):\n",
    "    f = (c*9/5)+32\n",
    "    return f"
   ]
  },
  {
   "cell_type": "code",
   "execution_count": 2,
   "id": "9fe5cb84",
   "metadata": {},
   "outputs": [
    {
     "data": {
      "text/plain": [
       "50.0"
      ]
     },
     "execution_count": 2,
     "metadata": {},
     "output_type": "execute_result"
    }
   ],
   "source": [
    "celtofer(10)"
   ]
  },
  {
   "cell_type": "markdown",
   "id": "c5bf7554",
   "metadata": {},
   "source": [
    "**Object Oriented Programming**"
   ]
  },
  {
   "cell_type": "code",
   "execution_count": null,
   "id": "e619d15f",
   "metadata": {},
   "outputs": [],
   "source": [
    "__init__ : Constructor, the purpose of constructor is to initialize the variables \n",
    "    \n",
    "Python internally passes the value of self"
   ]
  },
  {
   "cell_type": "code",
   "execution_count": 9,
   "id": "be8b51df",
   "metadata": {},
   "outputs": [],
   "source": [
    "class Celtofer:\n",
    "    def __init__(self,c):\n",
    "        self.c = c \n",
    "    \n",
    "    def ctof(self):\n",
    "        f = (self.c*9/5)+32\n",
    "        print(f)"
   ]
  },
  {
   "cell_type": "code",
   "execution_count": 10,
   "id": "bd4f48b5",
   "metadata": {},
   "outputs": [
    {
     "name": "stdout",
     "output_type": "stream",
     "text": [
      "50.0\n"
     ]
    }
   ],
   "source": [
    "c1 = Celtofer(10)\n",
    "c1.ctof()"
   ]
  },
  {
   "cell_type": "code",
   "execution_count": 11,
   "id": "20de2ca0",
   "metadata": {},
   "outputs": [
    {
     "data": {
      "text/plain": [
       "<__main__.Celtofer at 0x2a8d6f27850>"
      ]
     },
     "execution_count": 11,
     "metadata": {},
     "output_type": "execute_result"
    }
   ],
   "source": [
    "Celtofer(10)"
   ]
  },
  {
   "cell_type": "code",
   "execution_count": 8,
   "id": "6832d444",
   "metadata": {},
   "outputs": [
    {
     "name": "stdout",
     "output_type": "stream",
     "text": [
      "68.0\n"
     ]
    }
   ],
   "source": [
    "c2 = Celtofer(20)\n",
    "c2.ctof()"
   ]
  },
  {
   "cell_type": "code",
   "execution_count": 12,
   "id": "ea19e2d1",
   "metadata": {},
   "outputs": [
    {
     "data": {
      "text/plain": [
       "<__main__.Celtofer at 0x2a8d7714040>"
      ]
     },
     "execution_count": 12,
     "metadata": {},
     "output_type": "execute_result"
    }
   ],
   "source": [
    "Celtofer(20)"
   ]
  },
  {
   "cell_type": "code",
   "execution_count": 14,
   "id": "3036c9b4",
   "metadata": {},
   "outputs": [
    {
     "name": "stdout",
     "output_type": "stream",
     "text": [
      "<class 'list'>\n"
     ]
    }
   ],
   "source": [
    "a = [1,2,3,4,5]\n",
    "print(type(a))"
   ]
  },
  {
   "cell_type": "code",
   "execution_count": 55,
   "id": "993b8728",
   "metadata": {},
   "outputs": [],
   "source": [
    "class Employee: \n",
    "    company = 'SBI'\n",
    "    #Class level variables or Static variables\n",
    "    def __init__(self,eid,efname,elname,esalary,elocation):\n",
    "        #Object level variables / Instance variables / self\n",
    "        self.eno = eid\n",
    "        self.efname = efname\n",
    "        self.elname = elname\n",
    "        self.esalary = esalary\n",
    "        self.elocation = elocation\n",
    "        \n",
    "    def display(self):\n",
    "        print('Your employee id is: ', self.eno)\n",
    "        print('Your name is: ', self.efname + ' ' + self.elname)\n",
    "        print('Your salary is: ', self.esalary)\n",
    "        print('Your location is: ', self.elocation)\n",
    "        print('Your company name is: ', Employee.company)\n",
    "        \n",
    "    def tax_calc(self):\n",
    "        if self.esalary<=2500:\n",
    "            print('The total tax you have to pay is: ', self.esalary*0.0)\n",
    "        elif self.esalary>2500 and self.esalary<=5000:\n",
    "            print('The total tax you have to pay is: ', self.esalary*0.05)\n",
    "        elif self.esalary>5000 and self.esalary<=10000:\n",
    "            print('The total tax you have to pay is: ', self.esalary*0.1)\n",
    "        elif self.esalary>10000 and self.esalary<=15000:\n",
    "            print('The total tax you have to pay is: ', self.esalary*0.15)\n",
    "        else:\n",
    "            print('The total tax you have to pay is: ', self.esalary*0.20)\n",
    "    \n",
    "            \n",
    "    def bonus_calc(self):\n",
    "        if self.elocation=='Delhi':\n",
    "            print('You bonus amount is: ', 0.5*self.esalary)\n",
    "        else:\n",
    "            print('You will not get the bonus')\n",
    "            \n",
    "    def hike_calc(self):\n",
    "        #Local variable / Method level\n",
    "        hike = 0.30\n",
    "        if self.esalary<5000:\n",
    "            print('Your total hike is: ', self.esalary*hike)\n",
    "        else:\n",
    "            print('You will not get the hike')"
   ]
  },
  {
   "cell_type": "code",
   "execution_count": 56,
   "id": "782332eb",
   "metadata": {},
   "outputs": [
    {
     "name": "stdout",
     "output_type": "stream",
     "text": [
      "Your employee id is:  1\n",
      "Your name is:  Himanshu Dave\n",
      "Your salary is:  10000\n",
      "Your location is:  Delhi\n",
      "Your company name is:  SBI\n",
      "The total tax you have to pay is:  1000.0\n",
      "You bonus amount is:  5000.0\n",
      "You will not get the hike\n"
     ]
    },
    {
     "data": {
      "text/plain": [
       "'Himanshu'"
      ]
     },
     "execution_count": 56,
     "metadata": {},
     "output_type": "execute_result"
    }
   ],
   "source": [
    "emp1 = Employee(1,'Himanshu','Dave',10000,'Delhi')\n",
    "emp1.display()\n",
    "emp1.tax_calc()\n",
    "emp1.bonus_calc()\n",
    "emp1.hike_calc()\n",
    "emp1.efname"
   ]
  },
  {
   "cell_type": "code",
   "execution_count": 50,
   "id": "944dbf1d",
   "metadata": {},
   "outputs": [
    {
     "name": "stdout",
     "output_type": "stream",
     "text": [
      "Your employee id is:  2\n",
      "Your name is:  Pranshu Khare\n",
      "Your salary is:  15000\n",
      "Your location is:  Gurgaon\n",
      "Your company name is:  SBI\n",
      "The total tax you have to pay is:  2250.0\n",
      "You will not get the bonus\n",
      "You will not get the hike\n"
     ]
    },
    {
     "data": {
      "text/plain": [
       "'Pranshu'"
      ]
     },
     "execution_count": 50,
     "metadata": {},
     "output_type": "execute_result"
    }
   ],
   "source": [
    "emp2 = Employee(2,'Pranshu','Khare',15000,'Gurgaon')\n",
    "emp2.display()\n",
    "emp2.tax_calc()\n",
    "emp2.bonus_calc()\n",
    "emp2.hike_calc()\n",
    "emp2.efname"
   ]
  },
  {
   "cell_type": "code",
   "execution_count": 51,
   "id": "a0842f57",
   "metadata": {},
   "outputs": [
    {
     "name": "stdout",
     "output_type": "stream",
     "text": [
      "Your employee id is:  3\n",
      "Your name is:  Rahul Tiwari\n",
      "Your salary is:  3000\n",
      "Your location is:  Gurgaon\n",
      "Your company name is:  SBI\n",
      "The total tax you have to pay is:  150.0\n",
      "You will not get the bonus\n",
      "Your total hike is:  900.0\n"
     ]
    },
    {
     "data": {
      "text/plain": [
       "'Rahul'"
      ]
     },
     "execution_count": 51,
     "metadata": {},
     "output_type": "execute_result"
    }
   ],
   "source": [
    "emp3 = Employee(3,'Rahul','Tiwari',3000,'Gurgaon')\n",
    "emp3.display()\n",
    "emp3.tax_calc()\n",
    "emp3.bonus_calc()\n",
    "emp3.hike_calc()\n",
    "emp3.efname"
   ]
  },
  {
   "cell_type": "markdown",
   "id": "b24ef677",
   "metadata": {},
   "source": [
    "**Composition (Has a relationship)**"
   ]
  },
  {
   "cell_type": "code",
   "execution_count": 60,
   "id": "78f2f4c4",
   "metadata": {},
   "outputs": [],
   "source": [
    "class SBI:\n",
    "    interest_rate_home_loans = 0.010\n",
    "    interest_rate_car_loans = 0.095\n",
    "    interest_rate_personal_loans = 0.15"
   ]
  },
  {
   "cell_type": "code",
   "execution_count": 61,
   "id": "825d7616",
   "metadata": {},
   "outputs": [],
   "source": [
    "class Interest_Calc:\n",
    "    def __init__(self,cid,cloan_amt,cltype):\n",
    "        self.cid = cid\n",
    "        self.cloan_amt = cloan_amt\n",
    "        self.cltype = cltype\n",
    "        self.sbi = SBI()\n",
    "        \n",
    "    def interest_calc(self):\n",
    "        if self.cltype == 'Home':\n",
    "            print('Your total interest is: ', self.sbi.interest_rate_home_loans*self.cloan_amt)\n",
    "        elif self.cltype == 'Car':\n",
    "            print('Your total interest is: ', self.sbi.interest_rate_car_loans*self.cloan_amt)\n",
    "        else:\n",
    "            print('Your total interest is: ', self.sbi.interest_rate_personal_loans)"
   ]
  },
  {
   "cell_type": "code",
   "execution_count": 62,
   "id": "09959cfa",
   "metadata": {},
   "outputs": [
    {
     "name": "stdout",
     "output_type": "stream",
     "text": [
      "Your total interest is:  1000.0\n"
     ]
    }
   ],
   "source": [
    "cust1 = Interest_Calc(1,100000,'Home')\n",
    "cust1.interest_calc()"
   ]
  },
  {
   "cell_type": "markdown",
   "id": "64146459",
   "metadata": {},
   "source": [
    "**Inheritance (Is a relationship)**"
   ]
  },
  {
   "cell_type": "markdown",
   "id": "a2cf74bc",
   "metadata": {},
   "source": [
    "**Single Inheritance**"
   ]
  },
  {
   "cell_type": "code",
   "execution_count": 64,
   "id": "b06a7648",
   "metadata": {},
   "outputs": [],
   "source": [
    "class P:\n",
    "    def m1(self):\n",
    "        print('Method 1')\n",
    "        \n",
    "class C(P):\n",
    "    def m2(self):\n",
    "        print('Method 2')"
   ]
  },
  {
   "cell_type": "code",
   "execution_count": 65,
   "id": "b76363c0",
   "metadata": {},
   "outputs": [
    {
     "name": "stdout",
     "output_type": "stream",
     "text": [
      "Method 1\n",
      "Method 2\n"
     ]
    }
   ],
   "source": [
    "c1 = C()\n",
    "c1.m1()\n",
    "c1.m2()"
   ]
  },
  {
   "cell_type": "code",
   "execution_count": 66,
   "id": "b15aac6b",
   "metadata": {},
   "outputs": [],
   "source": [
    "class SBI:\n",
    "    interest_rate = 0.08\n",
    "    def display(self):\n",
    "        print('The interest rate is: ', SBI.interest_rate)"
   ]
  },
  {
   "cell_type": "code",
   "execution_count": 67,
   "id": "d35358f5",
   "metadata": {},
   "outputs": [],
   "source": [
    "class Home_Loan(SBI):\n",
    "    def __init__(self,cid,cname,cloan_amount):\n",
    "        self.cid = cid\n",
    "        self.cname = cname\n",
    "        self.cloan_amount = cloan_amount\n",
    "        \n",
    "    def interest_calc(self):\n",
    "        print('The total interest is: ', self.cloan_amount*SBI.interest_rate)"
   ]
  },
  {
   "cell_type": "code",
   "execution_count": 69,
   "id": "807ad14c",
   "metadata": {},
   "outputs": [
    {
     "name": "stdout",
     "output_type": "stream",
     "text": [
      "The interest rate is:  0.08\n",
      "The total interest is:  800.0\n"
     ]
    }
   ],
   "source": [
    "cus1 = Home_Loan(1,'A',10000)\n",
    "cus1.display()\n",
    "cus1.interest_calc()"
   ]
  },
  {
   "cell_type": "markdown",
   "id": "86f60b98",
   "metadata": {},
   "source": [
    "**Multilevel Inheritance**"
   ]
  },
  {
   "cell_type": "code",
   "execution_count": 70,
   "id": "76341602",
   "metadata": {},
   "outputs": [],
   "source": [
    "class P:\n",
    "    def m1(self):\n",
    "        print('Method M1')\n",
    "        \n",
    "class C(P):\n",
    "    def m2(self):\n",
    "        print('Method M2')\n",
    "        \n",
    "class SC(C):\n",
    "    def m3(self):\n",
    "        print('Method M3')"
   ]
  },
  {
   "cell_type": "code",
   "execution_count": 71,
   "id": "d2ad78a6",
   "metadata": {},
   "outputs": [
    {
     "name": "stdout",
     "output_type": "stream",
     "text": [
      "Method M3\n",
      "Method M2\n",
      "Method M1\n"
     ]
    }
   ],
   "source": [
    "sc1 = SC()\n",
    "sc1.m3()\n",
    "sc1.m2()\n",
    "sc1.m1()"
   ]
  },
  {
   "cell_type": "code",
   "execution_count": 72,
   "id": "1ec7b63a",
   "metadata": {},
   "outputs": [
    {
     "name": "stdout",
     "output_type": "stream",
     "text": [
      "Method M1\n",
      "Method M2\n"
     ]
    }
   ],
   "source": [
    "c1 = C()\n",
    "c1.m1()\n",
    "c1.m2()"
   ]
  },
  {
   "cell_type": "markdown",
   "id": "d8b4b795",
   "metadata": {},
   "source": [
    "**Hierarchical Inheritance**"
   ]
  },
  {
   "cell_type": "code",
   "execution_count": 73,
   "id": "fcf8550d",
   "metadata": {},
   "outputs": [],
   "source": [
    "class P:\n",
    "    def m1(self):\n",
    "        print('Method m1')\n",
    "        \n",
    "class C1(P):\n",
    "    def m2(self):\n",
    "        print('Method M2')\n",
    "        \n",
    "class C2(P):\n",
    "    def m3(self):\n",
    "        print('Method M3')"
   ]
  },
  {
   "cell_type": "code",
   "execution_count": 74,
   "id": "eea6b731",
   "metadata": {},
   "outputs": [
    {
     "name": "stdout",
     "output_type": "stream",
     "text": [
      "Method M3\n",
      "Method m1\n"
     ]
    }
   ],
   "source": [
    "c2 = C2()\n",
    "c2.m3()\n",
    "c2.m1()"
   ]
  },
  {
   "cell_type": "code",
   "execution_count": 75,
   "id": "492189dd",
   "metadata": {},
   "outputs": [
    {
     "name": "stdout",
     "output_type": "stream",
     "text": [
      "Method M2\n",
      "Method m1\n"
     ]
    }
   ],
   "source": [
    "c1 = C1()\n",
    "c1.m2()\n",
    "c1.m1()"
   ]
  },
  {
   "cell_type": "markdown",
   "id": "ba7c1e4b",
   "metadata": {},
   "source": [
    "**Multiple Inheritance**"
   ]
  },
  {
   "cell_type": "code",
   "execution_count": 76,
   "id": "ab274582",
   "metadata": {},
   "outputs": [],
   "source": [
    "class P1:\n",
    "    def m1(self):\n",
    "        print('Method M1')\n",
    "        \n",
    "class P2:\n",
    "    def m2(self):\n",
    "        print('Method M2')\n",
    "        \n",
    "class C(P1,P2):\n",
    "    def m3(self):\n",
    "        print('Method M3')"
   ]
  },
  {
   "cell_type": "code",
   "execution_count": 77,
   "id": "da82b150",
   "metadata": {},
   "outputs": [
    {
     "name": "stdout",
     "output_type": "stream",
     "text": [
      "Method M3\n",
      "Method M2\n",
      "Method M1\n"
     ]
    }
   ],
   "source": [
    "c1 = C()\n",
    "c1.m3()\n",
    "c1.m2()\n",
    "c1.m1()"
   ]
  },
  {
   "cell_type": "code",
   "execution_count": 83,
   "id": "c150504e",
   "metadata": {},
   "outputs": [],
   "source": [
    "class P1:\n",
    "    def m1(self):\n",
    "        print('Method M1 P1')\n",
    "        \n",
    "class P2:\n",
    "    def m1(self):\n",
    "        print('Method M1 P2')\n",
    "        \n",
    "class C(P2,P1):\n",
    "    def m3(self):\n",
    "        print('Method M3')"
   ]
  },
  {
   "cell_type": "code",
   "execution_count": 84,
   "id": "9636e24c",
   "metadata": {},
   "outputs": [
    {
     "name": "stdout",
     "output_type": "stream",
     "text": [
      "Method M1 P2\n",
      "Method M3\n"
     ]
    }
   ],
   "source": [
    "c1 = C()\n",
    "c1.m1()\n",
    "c1.m3()"
   ]
  },
  {
   "cell_type": "markdown",
   "id": "a84425ba",
   "metadata": {},
   "source": [
    "**Banking Application**"
   ]
  },
  {
   "cell_type": "code",
   "execution_count": 88,
   "id": "990e72fa",
   "metadata": {},
   "outputs": [],
   "source": [
    "import sys\n",
    "class SBI:\n",
    "    '''SBI class with banking operations'''\n",
    "    bankname = 'SBI'\n",
    "    \n",
    "    def __init__(self,name,balance = 0.0):\n",
    "        self.name = name\n",
    "        self.balance = balance\n",
    "    \n",
    "    def deposit(self,amount):\n",
    "        self.balance = self.balance + amount\n",
    "        print('The balance after deposit: ', self.balance)\n",
    "\n",
    "    def withdraw(self,amount):\n",
    "        if amount>self.balance:\n",
    "            print('Insufficent funds, cannot perform this operation')\n",
    "            sys.exit()\n",
    "        else:\n",
    "            self.balance = self.balance - amount\n",
    "            print('The balance after withdraw: ', self.balance)"
   ]
  },
  {
   "cell_type": "code",
   "execution_count": 90,
   "id": "a716f315",
   "metadata": {},
   "outputs": [
    {
     "name": "stdout",
     "output_type": "stream",
     "text": [
      "Welcome to SBI\n",
      "Enter your name: Rahul\n",
      "d-Deposit\n",
      "w-Withdraw\n",
      "e-Exit\n",
      "Choose your option: d\n",
      "Enter the amount to deposit: 1000\n",
      "The balance after deposit:  1000.0\n",
      "d-Deposit\n",
      "w-Withdraw\n",
      "e-Exit\n",
      "Choose your option: w\n",
      "Enter the amount to withdraw: 250\n",
      "The balance after withdraw:  750.0\n",
      "d-Deposit\n",
      "w-Withdraw\n",
      "e-Exit\n",
      "Choose your option: e\n",
      "Thank you for banking with us!!!\n"
     ]
    },
    {
     "ename": "SystemExit",
     "evalue": "",
     "output_type": "error",
     "traceback": [
      "An exception has occurred, use %tb to see the full traceback.\n",
      "\u001b[1;31mSystemExit\u001b[0m\n"
     ]
    }
   ],
   "source": [
    "print('Welcome to', SBI.bankname)\n",
    "name = input('Enter your name: ')\n",
    "c = SBI(name)\n",
    "\n",
    "while True:\n",
    "    print('d-Deposit\\nw-Withdraw\\ne-Exit')\n",
    "    option = input('Choose your option: ').lower()\n",
    "    if option=='d':\n",
    "        amount = float(input('Enter the amount to deposit: '))\n",
    "        c.deposit(amount)\n",
    "    elif option=='w':\n",
    "        amount = float(input('Enter the amount to withdraw: '))\n",
    "        c.withdraw(amount)\n",
    "    elif option=='e':\n",
    "        print('Thank you for banking with us!!!')\n",
    "        sys.exit()\n",
    "    else:\n",
    "        print('Invalid option, please choose the valid option')"
   ]
  },
  {
   "cell_type": "code",
   "execution_count": null,
   "id": "6e90c0d5",
   "metadata": {},
   "outputs": [],
   "source": []
  },
  {
   "cell_type": "code",
   "execution_count": null,
   "id": "8b8bc0a4",
   "metadata": {},
   "outputs": [],
   "source": []
  }
 ],
 "metadata": {
  "kernelspec": {
   "display_name": "Python 3 (ipykernel)",
   "language": "python",
   "name": "python3"
  },
  "language_info": {
   "codemirror_mode": {
    "name": "ipython",
    "version": 3
   },
   "file_extension": ".py",
   "mimetype": "text/x-python",
   "name": "python",
   "nbconvert_exporter": "python",
   "pygments_lexer": "ipython3",
   "version": "3.9.13"
  }
 },
 "nbformat": 4,
 "nbformat_minor": 5
}

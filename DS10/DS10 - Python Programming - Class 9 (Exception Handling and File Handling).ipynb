{
 "cells": [
  {
   "cell_type": "markdown",
   "id": "d30ecf11",
   "metadata": {},
   "source": [
    "# Exception Handling"
   ]
  },
  {
   "cell_type": "code",
   "execution_count": 1,
   "id": "fddd6f05",
   "metadata": {},
   "outputs": [
    {
     "name": "stdout",
     "output_type": "stream",
     "text": [
      "Hi\n"
     ]
    },
    {
     "ename": "ZeroDivisionError",
     "evalue": "division by zero",
     "output_type": "error",
     "traceback": [
      "\u001b[1;31m---------------------------------------------------------------------------\u001b[0m",
      "\u001b[1;31mZeroDivisionError\u001b[0m                         Traceback (most recent call last)",
      "Cell \u001b[1;32mIn[1], line 2\u001b[0m\n\u001b[0;32m      1\u001b[0m \u001b[38;5;28mprint\u001b[39m(\u001b[38;5;124m'\u001b[39m\u001b[38;5;124mHi\u001b[39m\u001b[38;5;124m'\u001b[39m)\n\u001b[1;32m----> 2\u001b[0m \u001b[38;5;28mprint\u001b[39m(\u001b[38;5;241m10\u001b[39m\u001b[38;5;241m/\u001b[39m\u001b[38;5;241m0\u001b[39m)\n\u001b[0;32m      3\u001b[0m \u001b[38;5;28mprint\u001b[39m(\u001b[38;5;124m'\u001b[39m\u001b[38;5;124mHello\u001b[39m\u001b[38;5;124m'\u001b[39m)\n",
      "\u001b[1;31mZeroDivisionError\u001b[0m: division by zero"
     ]
    }
   ],
   "source": [
    "print('Hi')\n",
    "print(10/0)\n",
    "print('Hello')"
   ]
  },
  {
   "cell_type": "markdown",
   "id": "ce57f590",
   "metadata": {},
   "source": [
    "**try except else finally**"
   ]
  },
  {
   "cell_type": "code",
   "execution_count": 15,
   "id": "f216487b",
   "metadata": {},
   "outputs": [
    {
     "name": "stdout",
     "output_type": "stream",
     "text": [
      "Enter the number1: 10\n",
      "Enter the number2: 0\n",
      "<class 'ZeroDivisionError'>\n",
      "division by zero\n",
      "The process completed\n"
     ]
    }
   ],
   "source": [
    "try: \n",
    "    result = 0\n",
    "    num1 = int(input('Enter the number1: '))\n",
    "    num2 = int(input('Enter the number2: '))    \n",
    "    result = num1/num2\n",
    "except Exception as e:\n",
    "    print(type(e))\n",
    "    print(e)\n",
    "else:\n",
    "    print(result)\n",
    "finally:\n",
    "    print('The process completed')"
   ]
  },
  {
   "cell_type": "code",
   "execution_count": 17,
   "id": "e653f578",
   "metadata": {},
   "outputs": [
    {
     "name": "stdout",
     "output_type": "stream",
     "text": [
      "Enter the number1: 10\n",
      "Enter the number2: a\n",
      "<class 'ValueError'>\n",
      "invalid literal for int() with base 10: 'a'\n",
      "The process completed\n"
     ]
    }
   ],
   "source": [
    "try: \n",
    "    result = 0\n",
    "    num1 = int(input('Enter the number1: '))\n",
    "    num2 = int(input('Enter the number2: '))    \n",
    "    result = num1/num2\n",
    "except ZeroDivisionError as e:\n",
    "    print(type(e))\n",
    "    print(e)\n",
    "except ValueError as e:\n",
    "    print(type(e))\n",
    "    print(e)\n",
    "else:\n",
    "    print(result)\n",
    "finally:\n",
    "    print('The process completed')"
   ]
  },
  {
   "cell_type": "code",
   "execution_count": 22,
   "id": "9399e13a",
   "metadata": {},
   "outputs": [
    {
     "name": "stdout",
     "output_type": "stream",
     "text": [
      "Enter the number1: 100\n",
      "Enter the number2: 0\n",
      "The process completed\n"
     ]
    },
    {
     "ename": "ZeroDivisionError",
     "evalue": "division by zero",
     "output_type": "error",
     "traceback": [
      "\u001b[1;31m---------------------------------------------------------------------------\u001b[0m",
      "\u001b[1;31mZeroDivisionError\u001b[0m                         Traceback (most recent call last)",
      "Cell \u001b[1;32mIn[22], line 5\u001b[0m\n\u001b[0;32m      3\u001b[0m     num1 \u001b[38;5;241m=\u001b[39m \u001b[38;5;28mint\u001b[39m(\u001b[38;5;28minput\u001b[39m(\u001b[38;5;124m'\u001b[39m\u001b[38;5;124mEnter the number1: \u001b[39m\u001b[38;5;124m'\u001b[39m))\n\u001b[0;32m      4\u001b[0m     num2 \u001b[38;5;241m=\u001b[39m \u001b[38;5;28mint\u001b[39m(\u001b[38;5;28minput\u001b[39m(\u001b[38;5;124m'\u001b[39m\u001b[38;5;124mEnter the number2: \u001b[39m\u001b[38;5;124m'\u001b[39m))    \n\u001b[1;32m----> 5\u001b[0m     result \u001b[38;5;241m=\u001b[39m num1\u001b[38;5;241m/\u001b[39mnum2\n\u001b[0;32m      6\u001b[0m \u001b[38;5;66;03m#except ZeroDivisionError as e:\u001b[39;00m\n\u001b[0;32m      7\u001b[0m \u001b[38;5;66;03m#    print(type(e))\u001b[39;00m\n\u001b[0;32m      8\u001b[0m \u001b[38;5;66;03m#    print(e)\u001b[39;00m\n\u001b[1;32m   (...)\u001b[0m\n\u001b[0;32m     13\u001b[0m \u001b[38;5;66;03m#    print(result)\u001b[39;00m\n\u001b[0;32m     14\u001b[0m \u001b[38;5;28;01mfinally\u001b[39;00m:\n\u001b[0;32m     15\u001b[0m     \u001b[38;5;28mprint\u001b[39m(\u001b[38;5;124m'\u001b[39m\u001b[38;5;124mThe process completed\u001b[39m\u001b[38;5;124m'\u001b[39m)\n",
      "\u001b[1;31mZeroDivisionError\u001b[0m: division by zero"
     ]
    }
   ],
   "source": [
    "try: \n",
    "    result = 0\n",
    "    num1 = int(input('Enter the number1: '))\n",
    "    num2 = int(input('Enter the number2: '))    \n",
    "    result = num1/num2\n",
    "#except ZeroDivisionError as e:\n",
    "#    print(type(e))\n",
    "#    print(e)\n",
    "#except ValueError as e:\n",
    "#    print(type(e))\n",
    "#    print(e)\n",
    "#else:\n",
    "#    print(result)\n",
    "finally:\n",
    "    print('The process completed')\n",
    "print('Hi all')"
   ]
  },
  {
   "cell_type": "code",
   "execution_count": 24,
   "id": "b0206959",
   "metadata": {},
   "outputs": [
    {
     "name": "stdout",
     "output_type": "stream",
     "text": [
      "statement1\n",
      "statement2\n",
      "statement3\n",
      "statement4\n",
      "statement7\n",
      "statement8\n",
      "statement9\n",
      "\n",
      "statement11\n",
      "statement12\n"
     ]
    }
   ],
   "source": [
    "try:\n",
    "    print('statement1')\n",
    "    print('statement2')\n",
    "    print('statement3')\n",
    "    try:\n",
    "        print('statement4')\n",
    "        print(10/0)\n",
    "        print('statement6')\n",
    "    except:\n",
    "        print('statement7')\n",
    "    finally:\n",
    "        print('statement8')\n",
    "    print('statement9')\n",
    "    print()\n",
    "except:\n",
    "    print('statement10')\n",
    "finally:\n",
    "    print('statement11')\n",
    "print('statement12')"
   ]
  },
  {
   "cell_type": "markdown",
   "id": "f773c1cf",
   "metadata": {},
   "source": [
    "**Movie Ticket Booking System**"
   ]
  },
  {
   "cell_type": "code",
   "execution_count": 25,
   "id": "a438efe9",
   "metadata": {},
   "outputs": [],
   "source": [
    "class TooYoungException(Exception):\n",
    "    pass\n",
    "\n",
    "class TooOldException(Exception):\n",
    "    pass"
   ]
  },
  {
   "cell_type": "code",
   "execution_count": 29,
   "id": "7875e215",
   "metadata": {},
   "outputs": [
    {
     "name": "stdout",
     "output_type": "stream",
     "text": [
      "Enter your age: a\n",
      "<class 'ValueError'>\n",
      "Your transaction is completed, have a nice day!!!\n"
     ]
    }
   ],
   "source": [
    "try:\n",
    "    enter_age = int(input('Enter your age: '))\n",
    "    if enter_age<18:\n",
    "        raise TooYoungException\n",
    "    elif enter_age>60:\n",
    "        raise TooOldException\n",
    "    elif enter_age>=18 and enter_age<=60:\n",
    "        print('Your ticket is confirmed')\n",
    "    else:\n",
    "        raise Exception\n",
    "        \n",
    "except TooYoungException:\n",
    "    print('You are too young to see the movie')\n",
    "    \n",
    "except TooOldException:\n",
    "    print('You are too old to see the movie')\n",
    "\n",
    "except Exception as e:\n",
    "    print(type(e))\n",
    "    \n",
    "else:\n",
    "    print('Enjoy your movie')\n",
    "    \n",
    "finally:\n",
    "    print('Your transaction is completed, have a nice day!!!')\n",
    "    "
   ]
  },
  {
   "cell_type": "markdown",
   "id": "6d87394b",
   "metadata": {},
   "source": [
    "**Application for the credit card**"
   ]
  },
  {
   "cell_type": "code",
   "execution_count": 32,
   "id": "c0d38b91",
   "metadata": {},
   "outputs": [],
   "source": [
    "class LowIncomeException(Exception):\n",
    "    pass\n",
    "\n",
    "class HighDebtException(Exception):\n",
    "    pass\n",
    "\n",
    "class Bhoolja(Exception):\n",
    "    pass"
   ]
  },
  {
   "cell_type": "code",
   "execution_count": 33,
   "id": "02432c6e",
   "metadata": {},
   "outputs": [
    {
     "name": "stdout",
     "output_type": "stream",
     "text": [
      "Enter your annual income: 5000\n",
      "Enter your existing debt: 50000\n",
      "Sorry, your income is too low to apply for the credit card\n",
      "Thank you for considering our bank for your financial needs\n"
     ]
    }
   ],
   "source": [
    "try: \n",
    "    enter_income = float(input('Enter your annual income: '))\n",
    "    enter_debt = float(input('Enter your existing debt: '))\n",
    "    \n",
    "    min_income_for_card = 25000\n",
    "    max_debt_allowed = 10000\n",
    "    \n",
    "    if enter_income<min_income_for_card:\n",
    "        raise LowIncomeException\n",
    "    elif enter_debt>max_debt_allowed:\n",
    "        raise HighDebtException\n",
    "    elif enter_income>min_income_for_card and enter_debt<max_debt_allowed:\n",
    "        print('You are eligible to apply for the credit card')\n",
    "    elif enter_income<min_income_for_card and enter_debt>max_debt_allowed:\n",
    "        raise Bhoolja\n",
    "    else:\n",
    "        raise Exception\n",
    "        \n",
    "except LowIncomeException:\n",
    "    print('Sorry, your income is too low to apply for the credit card')\n",
    "    \n",
    "except HighDebtException:\n",
    "    print('Sorry, your existing debt is too high to apply for the credit card')\n",
    "    \n",
    "except Exception as e:\n",
    "    print(type(e))\n",
    "    \n",
    "except Bhoolja:\n",
    "    print('Tumse na ho payega')\n",
    "    \n",
    "    \n",
    "else:\n",
    "    print('Please proceed with the application process')\n",
    "    \n",
    "finally:\n",
    "    print('Thank you for considering our bank for your financial needs')"
   ]
  },
  {
   "cell_type": "markdown",
   "id": "5fb6185c",
   "metadata": {},
   "source": [
    "# **File Handling**"
   ]
  },
  {
   "cell_type": "markdown",
   "id": "c9af9c6f",
   "metadata": {},
   "source": [
    "Types of files \n",
    "\n",
    "    a) Text Files - Jupyter File, Program File, Log File \n",
    "    b) Binary Files - Image, Video\n",
    "    \n",
    "How to perform actions on these files \n",
    "    Open a file, need to mention the purpose of opening the file \n",
    "    \n",
    "mode is nothing bus purpose \n",
    "\n",
    "open(filename, mode)\n",
    "\n",
    "The allowable modes in Python \n",
    "\n",
    "    1) Read (r) - Open an existing file for read operation - Default mode\n",
    "       If the file does not exists then it will give us the error, File does not exists error\n",
    "        \n",
    "    2) Write (w) - Open a file to write something on that. If the data is present in that file, it will overwrite the content\n",
    "       If the file does not exists then it will create one file\n",
    "        \n",
    "    3) Append (a) - It will append the data in the file, if the data is present already append will append the data at the end\n",
    "       If the file does not exists then it will create one file \n",
    "        \n",
    "    4) Read and Write (r+) - Read takes the priority, it will add the data in the file when we write something. It will write the data at the start or at the any specific position\n",
    "    \n",
    "    5) Write and Read (w+) - Write will take the priority, previous data will be overwritten \n",
    "    \n",
    "    6) Append and Read (a+) - Append will append the data and it will not overwrite the data \n",
    "    \n",
    "    7) Exclusive Creation mode for writing operation (x) - The file should be there and if it there it will throw the error i.e. File exists error \n",
    "    \n",
    "   **For binary files - rb, wb, ab, r+b, w+b, a+b, xb**"
   ]
  },
  {
   "cell_type": "code",
   "execution_count": 38,
   "id": "d18ef298",
   "metadata": {},
   "outputs": [
    {
     "data": {
      "text/plain": [
       "'C:\\\\Users\\\\rahul\\\\OneDrive\\\\Desktop'"
      ]
     },
     "execution_count": 38,
     "metadata": {},
     "output_type": "execute_result"
    }
   ],
   "source": [
    "import os\n",
    "os.getcwd()"
   ]
  },
  {
   "cell_type": "code",
   "execution_count": 37,
   "id": "79080435",
   "metadata": {},
   "outputs": [],
   "source": [
    "os.chdir('C:\\\\Users\\\\rahul\\\\OneDrive\\\\Desktop')"
   ]
  },
  {
   "cell_type": "code",
   "execution_count": 39,
   "id": "06eada91",
   "metadata": {},
   "outputs": [],
   "source": [
    "os.chdir(r'C:\\Users\\rahul\\OneDrive\\Desktop')"
   ]
  },
  {
   "cell_type": "code",
   "execution_count": 42,
   "id": "ed47a6b9",
   "metadata": {},
   "outputs": [
    {
     "name": "stdout",
     "output_type": "stream",
     "text": [
      "File name:  thescholards10.txt\n",
      "File mode:  w\n",
      "File Readable:  False\n",
      "File Writable:  True\n",
      "File Closed:  False\n",
      "File Closed:  True\n"
     ]
    }
   ],
   "source": [
    "f = open('thescholards10.txt', 'w')\n",
    "print('File name: ', f.name)\n",
    "#Attribute\n",
    "print('File mode: ', f.mode)\n",
    "print('File Readable: ', f.readable())\n",
    "print('File Writable: ', f.writable())\n",
    "print('File Closed: ', f.closed)\n",
    "f.close()\n",
    "print('File Closed: ', f.closed)"
   ]
  },
  {
   "cell_type": "code",
   "execution_count": 43,
   "id": "816ec798",
   "metadata": {},
   "outputs": [
    {
     "name": "stdout",
     "output_type": "stream",
     "text": [
      "File Closed:  True\n"
     ]
    }
   ],
   "source": [
    "f = open('thescholards10.txt', 'w')\n",
    "f.write('Python looks like an easy programming language\\n')\n",
    "f.write('Earlier I was very much scared of Python\\n')\n",
    "f.close()\n",
    "print('File Closed: ', f.closed)"
   ]
  },
  {
   "cell_type": "code",
   "execution_count": 44,
   "id": "14b93422",
   "metadata": {},
   "outputs": [
    {
     "name": "stdout",
     "output_type": "stream",
     "text": [
      "File Closed:  True\n"
     ]
    }
   ],
   "source": [
    "f = open('thescholards10.txt', 'w')\n",
    "f.write('Java looks like an easy programming language\\n')\n",
    "f.write('Earlier I was very much scared of Java\\n')\n",
    "f.close()\n",
    "print('File Closed: ', f.closed)"
   ]
  },
  {
   "cell_type": "code",
   "execution_count": 45,
   "id": "783dd059",
   "metadata": {},
   "outputs": [
    {
     "name": "stdout",
     "output_type": "stream",
     "text": [
      "File Closed:  True\n"
     ]
    }
   ],
   "source": [
    "f = open('thescholards10.txt', 'a')\n",
    "f.write('Python looks like an easy programming language\\n')\n",
    "f.write('Earlier I was very much scared of Python\\n')\n",
    "f.close()\n",
    "print('File Closed: ', f.closed)"
   ]
  },
  {
   "cell_type": "code",
   "execution_count": 47,
   "id": "0e284ef6",
   "metadata": {},
   "outputs": [],
   "source": [
    "list_lines = ['Python is the future\\n', 'Python is an amazing programming language\\n', 'Python is very powerful']\n",
    "f = open('thescholards10.txt','w')\n",
    "f.writelines(list_lines)\n",
    "f.close()"
   ]
  },
  {
   "cell_type": "code",
   "execution_count": 49,
   "id": "42d7b43c",
   "metadata": {},
   "outputs": [
    {
     "name": "stdout",
     "output_type": "stream",
     "text": [
      "Python is the future\n",
      "Python is\n"
     ]
    }
   ],
   "source": [
    "f = open('thescholards10.txt','r')\n",
    "data = f.read(30)\n",
    "print(data)\n",
    "f.close()"
   ]
  },
  {
   "cell_type": "code",
   "execution_count": 50,
   "id": "7c3a8da6",
   "metadata": {},
   "outputs": [
    {
     "name": "stdout",
     "output_type": "stream",
     "text": [
      "Is file closed:  False\n",
      "Is file closed:  True\n"
     ]
    }
   ],
   "source": [
    "with open('thescholards10.txt', 'w') as f: \n",
    "    f.write('Java is good, java is powerful...')\n",
    "    print('Is file closed: ', f.closed)\n",
    "print('Is file closed: ', f.closed)"
   ]
  },
  {
   "cell_type": "code",
   "execution_count": 56,
   "id": "dc05adfc",
   "metadata": {},
   "outputs": [],
   "source": [
    "data = 'Learning Python is very Difficult\\n Python is an amazing programming language\\n We love Python'\n",
    "with open('thescholards10.txt', 'w') as f:\n",
    "    f.write(data)"
   ]
  },
  {
   "cell_type": "markdown",
   "id": "a89c4f6d",
   "metadata": {},
   "source": [
    "**tell - It helps to understand where are we as of now**\n",
    "\n",
    "**seek - It helps to move to any particular position** "
   ]
  },
  {
   "cell_type": "code",
   "execution_count": 57,
   "id": "93833954",
   "metadata": {},
   "outputs": [
    {
     "name": "stdout",
     "output_type": "stream",
     "text": [
      "Learning Python is very Difficult\n",
      " Python is an amazing programming language\n",
      " We love Python\n",
      "94\n",
      "0\n",
      "Learning Python is very Easy!!!!!\n",
      " Python is an amazing programming language\n",
      " We love Python\n"
     ]
    }
   ],
   "source": [
    "with open('thescholards10.txt', 'r+') as f:\n",
    "    text = f.read()\n",
    "    print(text)\n",
    "    print(f.tell())\n",
    "    f.seek(24)\n",
    "    f.write('Easy!!!!!')\n",
    "    f.seek(0)\n",
    "    print(f.tell())\n",
    "    text = f.read()\n",
    "    print(text)"
   ]
  },
  {
   "cell_type": "code",
   "execution_count": 62,
   "id": "cfaea8d9",
   "metadata": {},
   "outputs": [
    {
     "name": "stdout",
     "output_type": "stream",
     "text": [
      "Enter the file name: rahu.txt\n",
      "File does not exists:  rahu.txt\n"
     ]
    },
    {
     "ename": "SystemExit",
     "evalue": "",
     "output_type": "error",
     "traceback": [
      "An exception has occurred, use %tb to see the full traceback.\n",
      "\u001b[1;31mSystemExit\u001b[0m\n"
     ]
    },
    {
     "name": "stderr",
     "output_type": "stream",
     "text": [
      "C:\\Users\\rahul\\anaconda\\Lib\\site-packages\\IPython\\core\\interactiveshell.py:3513: UserWarning: To exit: use 'exit', 'quit', or Ctrl-D.\n",
      "  warn(\"To exit: use 'exit', 'quit', or Ctrl-D.\", stacklevel=1)\n"
     ]
    }
   ],
   "source": [
    "import sys\n",
    "fname = input('Enter the file name: ')\n",
    "if os.path.isfile(fname):\n",
    "    print('File exists: ', fname)\n",
    "    with open(fname, 'r') as f:\n",
    "        lcount = wcount = ccount = 0\n",
    "        #lcount = 0 \n",
    "        #wcount = 0\n",
    "        #ccount = 0\n",
    "        for line in f: \n",
    "            lcount = lcount+1\n",
    "            ccount = ccount+len(line)\n",
    "            words = line.split()\n",
    "            wcount = wcount + len(words)\n",
    "        print('The number of lines are: ', lcount)\n",
    "        print('The number of words are: ', wcount)\n",
    "        print('The number of characters are: ', ccount)\n",
    "else:\n",
    "    print('File does not exists: ', fname)\n",
    "    sys.exit()"
   ]
  },
  {
   "cell_type": "code",
   "execution_count": 59,
   "id": "fb6545ec",
   "metadata": {},
   "outputs": [
    {
     "data": {
      "text/plain": [
       "5"
      ]
     },
     "execution_count": 59,
     "metadata": {},
     "output_type": "execute_result"
    }
   ],
   "source": [
    "len('Learning Python is very Easy!!!!!'.split())"
   ]
  }
 ],
 "metadata": {
  "kernelspec": {
   "display_name": "Python 3 (ipykernel)",
   "language": "python",
   "name": "python3"
  },
  "language_info": {
   "codemirror_mode": {
    "name": "ipython",
    "version": 3
   },
   "file_extension": ".py",
   "mimetype": "text/x-python",
   "name": "python",
   "nbconvert_exporter": "python",
   "pygments_lexer": "ipython3",
   "version": "3.11.4"
  }
 },
 "nbformat": 4,
 "nbformat_minor": 5
}

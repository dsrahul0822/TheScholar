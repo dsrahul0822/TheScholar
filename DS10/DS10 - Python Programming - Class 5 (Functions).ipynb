{
 "cells": [
  {
   "cell_type": "markdown",
   "id": "5d1e01d8",
   "metadata": {},
   "source": [
    "# Functions"
   ]
  },
  {
   "cell_type": "markdown",
   "id": "0bde0755",
   "metadata": {},
   "source": [
    "**Functions are reusable codes, which we can reuse in our big codes, it will reduce the number of lines in the code**\n",
    "\n",
    "**To create the functions we use a keyword called def - it means we are defining the function**\n",
    "\n",
    "**greeting - Function name, the purpose of this function is to greet the learners**\n",
    "\n",
    "**When we are creating a function we use something like this def greeting():, we will create one function which will take no input arguement** \n",
    "\n",
    "**After colon : the next line should have the tab indentation**"
   ]
  },
  {
   "cell_type": "code",
   "execution_count": 1,
   "id": "edb287f1",
   "metadata": {},
   "outputs": [],
   "source": [
    "def greeting():\n",
    "    print('Good Evening')"
   ]
  },
  {
   "cell_type": "code",
   "execution_count": 2,
   "id": "ab542287",
   "metadata": {},
   "outputs": [
    {
     "name": "stdout",
     "output_type": "stream",
     "text": [
      "Good Evening\n"
     ]
    }
   ],
   "source": [
    "greeting()"
   ]
  },
  {
   "cell_type": "code",
   "execution_count": 4,
   "id": "50534f89",
   "metadata": {},
   "outputs": [
    {
     "name": "stdout",
     "output_type": "stream",
     "text": [
      "Good Evening\n",
      "Good Evening\n",
      "Good Evening\n"
     ]
    }
   ],
   "source": [
    "for i in range(0,3):\n",
    "    greeting()"
   ]
  },
  {
   "cell_type": "markdown",
   "id": "5fbf458c",
   "metadata": {},
   "source": [
    "**Below function will have one input arguement**"
   ]
  },
  {
   "cell_type": "code",
   "execution_count": 8,
   "id": "bc4bbd0b",
   "metadata": {},
   "outputs": [],
   "source": [
    "def greeting(name):\n",
    "    print('Good Evening',name)"
   ]
  },
  {
   "cell_type": "code",
   "execution_count": 9,
   "id": "bf50c643",
   "metadata": {},
   "outputs": [
    {
     "name": "stdout",
     "output_type": "stream",
     "text": [
      "Good Evening Himanshu\n"
     ]
    }
   ],
   "source": [
    "greeting('Himanshu')"
   ]
  },
  {
   "cell_type": "code",
   "execution_count": 10,
   "id": "e4f290a9",
   "metadata": {},
   "outputs": [
    {
     "name": "stdout",
     "output_type": "stream",
     "text": [
      "Good Evening Rachna\n",
      "Good Evening Shruti\n",
      "Good Evening Vaibhavi\n",
      "Good Evening Iftekhar\n",
      "Good Evening Nilanjan\n"
     ]
    }
   ],
   "source": [
    "names = ['Rachna','Shruti','Vaibhavi','Iftekhar', 'Nilanjan']\n",
    "for i in names:\n",
    "    greeting(i)"
   ]
  },
  {
   "cell_type": "markdown",
   "id": "08fe1fe4",
   "metadata": {},
   "source": [
    "**Below function with the default arguement**"
   ]
  },
  {
   "cell_type": "code",
   "execution_count": 11,
   "id": "fe6103e4",
   "metadata": {},
   "outputs": [],
   "source": [
    "def greeting(name='Learner'):\n",
    "    print('Good Evening', name)"
   ]
  },
  {
   "cell_type": "code",
   "execution_count": 12,
   "id": "0c9d08aa",
   "metadata": {},
   "outputs": [
    {
     "name": "stdout",
     "output_type": "stream",
     "text": [
      "Good Evening Learner\n"
     ]
    }
   ],
   "source": [
    "greeting()"
   ]
  },
  {
   "cell_type": "code",
   "execution_count": 13,
   "id": "f781d767",
   "metadata": {},
   "outputs": [
    {
     "name": "stdout",
     "output_type": "stream",
     "text": [
      "Good Evening Adil\n"
     ]
    }
   ],
   "source": [
    "greeting('Adil')"
   ]
  },
  {
   "cell_type": "markdown",
   "id": "89aa7207",
   "metadata": {},
   "source": [
    "**Docstrings - It helps to give the comments about the functions**\n",
    "\n",
    "**We can only use '''''' or \"\"\"\"\"\", # will not work**"
   ]
  },
  {
   "cell_type": "code",
   "execution_count": 14,
   "id": "0736a3dd",
   "metadata": {},
   "outputs": [],
   "source": [
    "def greeting(name='Learner'):\n",
    "    \"\"\"This function greets the learner and takes default value as learner\"\"\"\n",
    "    print('Good Evening', name)"
   ]
  },
  {
   "cell_type": "code",
   "execution_count": 15,
   "id": "8233556f",
   "metadata": {},
   "outputs": [],
   "source": [
    "def greeting(name='Learner'):\n",
    "    #This function greets the learner and takes default value as learner\n",
    "    print('Good Evening', name)"
   ]
  },
  {
   "cell_type": "code",
   "execution_count": null,
   "id": "552614d0",
   "metadata": {},
   "outputs": [],
   "source": [
    "greeting()"
   ]
  },
  {
   "cell_type": "markdown",
   "id": "7a9ade39",
   "metadata": {},
   "source": [
    "**1) Calculator**"
   ]
  },
  {
   "cell_type": "code",
   "execution_count": 19,
   "id": "e758c623",
   "metadata": {},
   "outputs": [],
   "source": [
    "def calculator(num1,num2,operation='all'):\n",
    "    '''In the operation you can pass either all which is default, sum, sub, mul, div'''\n",
    "    if operation=='all':\n",
    "        print(num1+num2)\n",
    "        print(num1-num2)\n",
    "        print(num1*num2)\n",
    "        print(num1/num2)\n",
    "        \n",
    "    elif operation=='sum':\n",
    "        print(num1+num2)\n",
    "        \n",
    "    elif operation=='sub':\n",
    "        print(num1-num2)\n",
    "        \n",
    "    elif operation=='mul':\n",
    "        print(num1*num2)\n",
    "    \n",
    "    elif operation=='div':\n",
    "        print(num1/num2)\n",
    "        \n",
    "    else:\n",
    "        print('Please pass the valid option')  "
   ]
  },
  {
   "cell_type": "code",
   "execution_count": 27,
   "id": "c816bcac",
   "metadata": {},
   "outputs": [
    {
     "name": "stdout",
     "output_type": "stream",
     "text": [
      "13\n",
      "7\n",
      "30\n",
      "3.3333333333333335\n"
     ]
    }
   ],
   "source": [
    "output = calculator(10,3)"
   ]
  },
  {
   "cell_type": "code",
   "execution_count": 29,
   "id": "2d28552d",
   "metadata": {},
   "outputs": [
    {
     "data": {
      "text/plain": [
       "NoneType"
      ]
     },
     "execution_count": 29,
     "metadata": {},
     "output_type": "execute_result"
    }
   ],
   "source": [
    "type(output)"
   ]
  },
  {
   "cell_type": "markdown",
   "id": "53c979e4",
   "metadata": {},
   "source": [
    "**When we are doing a print we cannot store that value in other variable, if you want to store the value then you have to pass Return, return can work with or without bracket**\n",
    "\n",
    "**When you are having consecutive returns it will only run the first one**"
   ]
  },
  {
   "cell_type": "code",
   "execution_count": 32,
   "id": "b2db3b76",
   "metadata": {},
   "outputs": [],
   "source": [
    "def calculator(num1,num2,operation='all'):\n",
    "    '''In the operation you can pass either all which is default, sum, sub, mul, div'''\n",
    "    if operation=='all':\n",
    "        return num1+num2,num1-num2,num1*num2,num1/num2\n",
    "        \n",
    "    elif operation=='sum':\n",
    "        return(num1+num2)\n",
    "        \n",
    "    elif operation=='sub':\n",
    "        return(num1-num2)\n",
    "        \n",
    "    elif operation=='mul':\n",
    "        return(num1*num2)\n",
    "    \n",
    "    elif operation=='div':\n",
    "        return(num1/num2)\n",
    "        \n",
    "    else:\n",
    "        return('Please pass the valid option')  "
   ]
  },
  {
   "cell_type": "code",
   "execution_count": 38,
   "id": "88c25f57",
   "metadata": {},
   "outputs": [],
   "source": [
    "output = calculator(3243435345345,3432345435)"
   ]
  },
  {
   "cell_type": "markdown",
   "id": "1efd7bf5",
   "metadata": {},
   "source": [
    "**return num1+num2,num1-num2,num1*num2,num1/num2 - It will give the output in the form of a tuple always**"
   ]
  },
  {
   "cell_type": "code",
   "execution_count": 39,
   "id": "cdcf7daf",
   "metadata": {},
   "outputs": [
    {
     "data": {
      "text/plain": [
       "(3246867690780, 3240002999910, 11132590501312559250075, 944.9618072444972)"
      ]
     },
     "execution_count": 39,
     "metadata": {},
     "output_type": "execute_result"
    }
   ],
   "source": [
    "output"
   ]
  },
  {
   "cell_type": "code",
   "execution_count": 40,
   "id": "23e53803",
   "metadata": {},
   "outputs": [],
   "source": [
    "def calculator(num1,num2,operation='all'):\n",
    "    '''In the operation you can pass either all which is default, sum, sub, mul, div'''\n",
    "    if operation=='all':\n",
    "        return {'sum':num1+num2,'sub':num1-num2,'mul':num1*num2,'div':num1/num2}\n",
    "        \n",
    "    elif operation=='sum':\n",
    "        return(num1+num2)\n",
    "        \n",
    "    elif operation=='sub':\n",
    "        return(num1-num2)\n",
    "        \n",
    "    elif operation=='mul':\n",
    "        return(num1*num2)\n",
    "    \n",
    "    elif operation=='div':\n",
    "        return(num1/num2)\n",
    "        \n",
    "    else:\n",
    "        return('Please pass the valid option')  "
   ]
  },
  {
   "cell_type": "code",
   "execution_count": 41,
   "id": "14d21cfd",
   "metadata": {},
   "outputs": [],
   "source": [
    "output = calculator(3243435345345,3432345435)"
   ]
  },
  {
   "cell_type": "code",
   "execution_count": 44,
   "id": "cc21b234",
   "metadata": {},
   "outputs": [
    {
     "data": {
      "text/plain": [
       "{'sum': 3246867690780,\n",
       " 'sub': 3240002999910,\n",
       " 'mul': 11132590501312559250075,\n",
       " 'div': 944.9618072444972}"
      ]
     },
     "execution_count": 44,
     "metadata": {},
     "output_type": "execute_result"
    }
   ],
   "source": [
    "output"
   ]
  },
  {
   "cell_type": "code",
   "execution_count": 48,
   "id": "4961ff95",
   "metadata": {},
   "outputs": [
    {
     "name": "stdout",
     "output_type": "stream",
     "text": [
      "Enter the first number: 10\n",
      "Enter the second number: 3\n",
      "Enter the operation type: sum\n"
     ]
    },
    {
     "data": {
      "text/plain": [
       "13"
      ]
     },
     "execution_count": 48,
     "metadata": {},
     "output_type": "execute_result"
    }
   ],
   "source": [
    "num1 = int(input('Enter the first number: '))\n",
    "num2 = int(input('Enter the second number: '))\n",
    "operation = input('Enter the operation type: ')\n",
    "calculator(num1,num2,operation)"
   ]
  },
  {
   "cell_type": "markdown",
   "id": "8d350f61",
   "metadata": {},
   "source": [
    "**2) Factorial of a number**"
   ]
  },
  {
   "cell_type": "code",
   "execution_count": 49,
   "id": "0313da0a",
   "metadata": {},
   "outputs": [],
   "source": [
    "def factorial(num):\n",
    "    if num<0:\n",
    "        print('There is no factorial of a negative number')\n",
    "    else:\n",
    "        result = 1 \n",
    "        while num>=1:\n",
    "            result = result * num\n",
    "            num = num-1\n",
    "        return result"
   ]
  },
  {
   "cell_type": "code",
   "execution_count": 52,
   "id": "5b0ff4da",
   "metadata": {},
   "outputs": [
    {
     "data": {
      "text/plain": [
       "1"
      ]
     },
     "execution_count": 52,
     "metadata": {},
     "output_type": "execute_result"
    }
   ],
   "source": [
    "factorial(0)"
   ]
  },
  {
   "cell_type": "markdown",
   "id": "9c43c382",
   "metadata": {},
   "source": [
    "**3) Pin check - Here we have the input command inside the function**"
   ]
  },
  {
   "cell_type": "code",
   "execution_count": 55,
   "id": "07eb9b3b",
   "metadata": {},
   "outputs": [],
   "source": [
    "def pin_check():\n",
    "    correct_pin = 1234\n",
    "    max_attempts = 3\n",
    "    attempts = 0\n",
    "\n",
    "    while attempts<max_attempts:\n",
    "        pin = int(input(\"Enter your pin: \"))\n",
    "        if pin == correct_pin:\n",
    "            print(\"Pin Accepted, Access Granted\")\n",
    "            break\n",
    "        else:\n",
    "            attempts+=1\n",
    "            print('Incorrect Pin, Attempts remaining: ', max_attempts-attempts)\n",
    "    \n",
    "    if attempts == max_attempts:\n",
    "        print('Max attempts reached, Access Denied')"
   ]
  },
  {
   "cell_type": "code",
   "execution_count": 56,
   "id": "92dd9b00",
   "metadata": {},
   "outputs": [
    {
     "name": "stdout",
     "output_type": "stream",
     "text": [
      "Enter your pin: 1234\n",
      "Pin Accepted, Access Granted\n"
     ]
    }
   ],
   "source": [
    "pin_check()"
   ]
  },
  {
   "cell_type": "code",
   "execution_count": 57,
   "id": "dafa7f11",
   "metadata": {},
   "outputs": [],
   "source": [
    "def pin_check(pin):\n",
    "    correct_pin = 1234\n",
    "    max_attempts = 3\n",
    "    attempts = 0\n",
    "\n",
    "    while attempts<max_attempts:\n",
    "        #pin = int(input(\"Enter your pin: \"))\n",
    "        if pin == correct_pin:\n",
    "            print(\"Pin Accepted, Access Granted\")\n",
    "            break\n",
    "        else:\n",
    "            attempts+=1\n",
    "            print('Incorrect Pin, Attempts remaining: ', max_attempts-attempts)\n",
    "    \n",
    "    if attempts == max_attempts:\n",
    "        print('Max attempts reached, Access Denied')"
   ]
  },
  {
   "cell_type": "code",
   "execution_count": 58,
   "id": "b4445865",
   "metadata": {},
   "outputs": [
    {
     "name": "stdout",
     "output_type": "stream",
     "text": [
      "Incorrect Pin, Attempts remaining:  2\n",
      "Incorrect Pin, Attempts remaining:  1\n",
      "Incorrect Pin, Attempts remaining:  0\n",
      "Max attempts reached, Access Denied\n"
     ]
    }
   ],
   "source": [
    "pin_check(2222)"
   ]
  },
  {
   "cell_type": "markdown",
   "id": "74960444",
   "metadata": {},
   "source": [
    "**All the default arguments go at the end**"
   ]
  },
  {
   "cell_type": "code",
   "execution_count": 59,
   "id": "ae0c3977",
   "metadata": {},
   "outputs": [
    {
     "ename": "SyntaxError",
     "evalue": "non-default argument follows default argument (618841669.py, line 1)",
     "output_type": "error",
     "traceback": [
      "\u001b[1;36m  File \u001b[1;32m\"C:\\Users\\rahul\\AppData\\Local\\Temp\\ipykernel_3992\\618841669.py\"\u001b[1;36m, line \u001b[1;32m1\u001b[0m\n\u001b[1;33m    def interest_calculator(interest=0.05, amount):\u001b[0m\n\u001b[1;37m                                                 ^\u001b[0m\n\u001b[1;31mSyntaxError\u001b[0m\u001b[1;31m:\u001b[0m non-default argument follows default argument\n"
     ]
    }
   ],
   "source": [
    "def interest_calculator(interest=0.05, amount):\n",
    "    print(interest*amount)"
   ]
  },
  {
   "cell_type": "code",
   "execution_count": 61,
   "id": "61148467",
   "metadata": {},
   "outputs": [],
   "source": [
    "def interest_calculator(amount,name, interest=0.05, period = 10):\n",
    "    print(interest*amount)"
   ]
  },
  {
   "cell_type": "markdown",
   "id": "4762a61b",
   "metadata": {},
   "source": [
    "**Variable Length Argument - Our input will be any number**"
   ]
  },
  {
   "cell_type": "code",
   "execution_count": 64,
   "id": "416acb02",
   "metadata": {},
   "outputs": [],
   "source": [
    "def addition(num1,num2,num3):\n",
    "    print(num1+num2+num3)"
   ]
  },
  {
   "cell_type": "code",
   "execution_count": 65,
   "id": "8728f844",
   "metadata": {},
   "outputs": [
    {
     "name": "stdout",
     "output_type": "stream",
     "text": [
      "17\n"
     ]
    }
   ],
   "source": [
    "addition(10,3,4)"
   ]
  },
  {
   "cell_type": "markdown",
   "id": "aa508c81",
   "metadata": {},
   "source": [
    "**(*) denotes variable length argument, whatever inputs user passed the data will get stored internally as tuple by python**"
   ]
  },
  {
   "cell_type": "code",
   "execution_count": 66,
   "id": "f8c5b74f",
   "metadata": {},
   "outputs": [],
   "source": [
    "def addition(*args):\n",
    "    result = 0 \n",
    "    for i in args:\n",
    "        result = result + i \n",
    "    print(result)"
   ]
  },
  {
   "cell_type": "code",
   "execution_count": 68,
   "id": "253446a4",
   "metadata": {},
   "outputs": [
    {
     "name": "stdout",
     "output_type": "stream",
     "text": [
      "67\n"
     ]
    }
   ],
   "source": [
    "addition(10,2,3,4,5,6,7,6,5,4,5,6,4)"
   ]
  },
  {
   "cell_type": "markdown",
   "id": "097cec8c",
   "metadata": {},
   "source": [
    "**Types of variables in functions**\n",
    "\n",
    "    1) Global variable - Any variable which we are declaring anywhere but not inside the function\n",
    "    \n",
    "    2) Local variable - Any variable which we are declaring inside the function which can be accessed inside the function only"
   ]
  },
  {
   "cell_type": "markdown",
   "id": "ead9818f",
   "metadata": {},
   "source": [
    "**Local variable will take the priority**"
   ]
  },
  {
   "cell_type": "code",
   "execution_count": 75,
   "id": "8f8f3324",
   "metadata": {},
   "outputs": [
    {
     "name": "stdout",
     "output_type": "stream",
     "text": [
      "F1 10\n",
      "F2 1000\n"
     ]
    }
   ],
   "source": [
    "a = 1000\n",
    "def f1():\n",
    "    a=10\n",
    "    print('F1', a)\n",
    "    \n",
    "f1()\n",
    "\n",
    "def f2():\n",
    "    print('F2', a)\n",
    "    \n",
    "f2()"
   ]
  },
  {
   "cell_type": "markdown",
   "id": "ec07b0f8",
   "metadata": {},
   "source": [
    "**We want to update the global variable a from 1000 to 10 while declaring local variable in function f1**\n",
    "\n",
    "**We have to write global a before you declare the local variable a inside the function**\n"
   ]
  },
  {
   "cell_type": "code",
   "execution_count": 76,
   "id": "a7a051e6",
   "metadata": {},
   "outputs": [
    {
     "name": "stdout",
     "output_type": "stream",
     "text": [
      "F1 10\n",
      "F2 10\n"
     ]
    }
   ],
   "source": [
    "a = 1000\n",
    "def f1():\n",
    "    global a\n",
    "    a=10\n",
    "    print('F1', a)\n",
    "    \n",
    "f1()\n",
    "\n",
    "def f2():\n",
    "    print('F2', a)\n",
    "    \n",
    "f2()"
   ]
  },
  {
   "cell_type": "markdown",
   "id": "6381d0ed",
   "metadata": {},
   "source": [
    "**Banking Application using python script .py**"
   ]
  },
  {
   "cell_type": "code",
   "execution_count": 80,
   "id": "9d128408",
   "metadata": {},
   "outputs": [],
   "source": [
    "def create_account(account_number):\n",
    "    return {'account number': account_number, 'balance':0}\n",
    "\n",
    "def deposit(account,amount):\n",
    "    if amount<=0:\n",
    "        return 'Invalid deposit amount, amount must be positive'\n",
    "    else:\n",
    "        account['balance'] += amount\n",
    "        return 'The amount deposited successfully'\n",
    "    \n",
    "def withdraw(account,amount):\n",
    "    if amount<=0:\n",
    "        return 'Invalid withdrawal amount, amount must be positive'\n",
    "    elif amount>account['balance']:\n",
    "        return 'Insufficient funds'\n",
    "    else:\n",
    "        account['balance']-=amount\n",
    "        return 'The amount withdrew successfully'   "
   ]
  },
  {
   "cell_type": "code",
   "execution_count": 89,
   "id": "e783b3ad",
   "metadata": {},
   "outputs": [
    {
     "name": "stdout",
     "output_type": "stream",
     "text": [
      "Enter the account number: 1\n",
      "\n",
      "1. Deposit\n",
      "2. Withdraw\n",
      "3. Exit\n",
      "Enter your choice (1/2/3): 1\n",
      "Enter the amount for deposit: 1\n",
      "The amount deposited successfully\n",
      "\n",
      "1. Deposit\n",
      "2. Withdraw\n",
      "3. Exit\n",
      "Enter your choice (1/2/3): 3\n",
      "Thank you for banking with us, have a nice day!!!\n"
     ]
    }
   ],
   "source": [
    "def main():\n",
    "    account_number = input('Enter the account number: ')\n",
    "    account = create_account(account_number)\n",
    "    a\n",
    "    while True: \n",
    "        print('\\n1. Deposit\\n2. Withdraw\\n3. Exit')\n",
    "        choice = input('Enter your choice (1/2/3): ')\n",
    "        \n",
    "        if choice=='1':\n",
    "            amount = float(input(\"Enter the amount for deposit: \"))\n",
    "            print(deposit(account,amount))\n",
    "        elif choice=='2':\n",
    "            amount = float(input(\"Enter the amount for withdraw: \"))\n",
    "            print(withdraw(account,amount))\n",
    "        elif choice=='3':\n",
    "            print('Thank you for banking with us, have a nice day!!!')\n",
    "            break\n",
    "        else:\n",
    "            print('Invalid choice, please try again')\n",
    "            \n",
    "if __name__=='__main__':\n",
    "    main()"
   ]
  },
  {
   "cell_type": "markdown",
   "id": "28de5892",
   "metadata": {},
   "source": [
    "**os is operating system module which can help python to talk to the operating system**"
   ]
  },
  {
   "cell_type": "code",
   "execution_count": 86,
   "id": "901412de",
   "metadata": {},
   "outputs": [],
   "source": [
    "import os\n",
    "os.getcwd()\n",
    "os.chdir(r'C:\\Users\\rahul\\OneDrive\\Desktop\\BankingApp')"
   ]
  },
  {
   "cell_type": "code",
   "execution_count": 87,
   "id": "473df039",
   "metadata": {},
   "outputs": [
    {
     "data": {
      "text/plain": [
       "'C:\\\\Users\\\\rahul\\\\OneDrive\\\\Desktop\\\\BankingApp'"
      ]
     },
     "execution_count": 87,
     "metadata": {},
     "output_type": "execute_result"
    }
   ],
   "source": [
    "os.getcwd()"
   ]
  },
  {
   "cell_type": "code",
   "execution_count": 88,
   "id": "463da67f",
   "metadata": {},
   "outputs": [],
   "source": [
    "from idfcfirst import create_account, deposit, withdraw"
   ]
  },
  {
   "cell_type": "code",
   "execution_count": 91,
   "id": "b0e18207",
   "metadata": {},
   "outputs": [
    {
     "name": "stdout",
     "output_type": "stream",
     "text": [
      "Enter the account number: 1\n",
      "\n",
      "1. Deposit\n",
      "2. Withdraw\n",
      "3. Exit\n",
      "Enter your choice (1/2/3): 1\n",
      "Enter the amount for deposit: 1\n",
      "The amount deposited successfully\n",
      "\n",
      "1. Deposit\n",
      "2. Withdraw\n",
      "3. Exit\n",
      "Enter your choice (1/2/3): 3\n",
      "Thank you for banking with us, have a nice day!!!\n"
     ]
    }
   ],
   "source": [
    "main()"
   ]
  },
  {
   "cell_type": "markdown",
   "id": "36c00f6f",
   "metadata": {},
   "source": [
    "# Lambda Functions"
   ]
  },
  {
   "cell_type": "markdown",
   "id": "9ade050c",
   "metadata": {},
   "source": [
    "**Lambda functions are also known as nameless functions, anonymous functions, without name functions**\n",
    "\n",
    "**As the way of writing the lambda functions is very easy thats why we cannot create the complex logics using lambda functions**"
   ]
  },
  {
   "cell_type": "markdown",
   "id": "63670418",
   "metadata": {},
   "source": [
    "**Using normal function**"
   ]
  },
  {
   "cell_type": "markdown",
   "id": "877426e3",
   "metadata": {},
   "source": [
    "1) Square of a number"
   ]
  },
  {
   "cell_type": "code",
   "execution_count": 92,
   "id": "05c44049",
   "metadata": {},
   "outputs": [],
   "source": [
    "def square(n):\n",
    "    print(n*n)"
   ]
  },
  {
   "cell_type": "markdown",
   "id": "a696ff92",
   "metadata": {},
   "source": [
    "**Using Lambda function**"
   ]
  },
  {
   "cell_type": "markdown",
   "id": "91aafd78",
   "metadata": {},
   "source": [
    "The value before colon is our input and the value after colon is our output, in the below statement you are assigning the function in the square variable"
   ]
  },
  {
   "cell_type": "code",
   "execution_count": 94,
   "id": "ba024388",
   "metadata": {},
   "outputs": [],
   "source": [
    "square = lambda n:n*n"
   ]
  },
  {
   "cell_type": "code",
   "execution_count": 95,
   "id": "4b66ef04",
   "metadata": {},
   "outputs": [
    {
     "data": {
      "text/plain": [
       "25"
      ]
     },
     "execution_count": 95,
     "metadata": {},
     "output_type": "execute_result"
    }
   ],
   "source": [
    "square(5)"
   ]
  },
  {
   "cell_type": "markdown",
   "id": "c45ad22d",
   "metadata": {},
   "source": [
    "2) Addition of a number"
   ]
  },
  {
   "cell_type": "code",
   "execution_count": 97,
   "id": "6774cc61",
   "metadata": {},
   "outputs": [],
   "source": [
    "addition = lambda a,b:a+b"
   ]
  },
  {
   "cell_type": "code",
   "execution_count": 98,
   "id": "48115aa0",
   "metadata": {},
   "outputs": [
    {
     "data": {
      "text/plain": [
       "13"
      ]
     },
     "execution_count": 98,
     "metadata": {},
     "output_type": "execute_result"
    }
   ],
   "source": [
    "addition(10,3)"
   ]
  },
  {
   "cell_type": "markdown",
   "id": "17c03b66",
   "metadata": {},
   "source": [
    "3) Interest calculations"
   ]
  },
  {
   "cell_type": "code",
   "execution_count": 100,
   "id": "f33a041b",
   "metadata": {},
   "outputs": [
    {
     "data": {
      "text/plain": [
       "50.0"
      ]
     },
     "execution_count": 100,
     "metadata": {},
     "output_type": "execute_result"
    }
   ],
   "source": [
    "calculate_interest = lambda amount,rate : amount*rate\n",
    "\n",
    "principal = 1000\n",
    "interest_rate = 0.05\n",
    "\n",
    "calculate_interest(principal,interest_rate)"
   ]
  },
  {
   "cell_type": "markdown",
   "id": "1f690458",
   "metadata": {},
   "source": [
    "4) Transaction Fee calculations"
   ]
  },
  {
   "cell_type": "code",
   "execution_count": 101,
   "id": "b730e51a",
   "metadata": {},
   "outputs": [
    {
     "data": {
      "text/plain": [
       "5"
      ]
     },
     "execution_count": 101,
     "metadata": {},
     "output_type": "execute_result"
    }
   ],
   "source": [
    "calculate_fee = lambda amount : 5 if amount>1000 else 2\n",
    "transaction_amount = 2000\n",
    "calculate_fee(transaction_amount)"
   ]
  },
  {
   "cell_type": "markdown",
   "id": "f94b1a31",
   "metadata": {},
   "source": [
    "5) Account sorting"
   ]
  },
  {
   "cell_type": "code",
   "execution_count": 102,
   "id": "0e1f596f",
   "metadata": {},
   "outputs": [],
   "source": [
    "accounts = [{'account_number':1234, 'Balance':5000},\n",
    "           {'account_number':4321, 'Balance':2000},\n",
    "           {'account_number':2222, 'Balance':6000},\n",
    "           {'account_number':1111, 'Balance':0},\n",
    "           {'account_number':2210, 'Balance':10000},\n",
    "           {'account_number':2023, 'Balance':3000}]"
   ]
  },
  {
   "cell_type": "code",
   "execution_count": 104,
   "id": "731cb261",
   "metadata": {},
   "outputs": [],
   "source": [
    "accounts.sort(key = lambda acc:acc['Balance'])"
   ]
  },
  {
   "cell_type": "code",
   "execution_count": 105,
   "id": "e18209a3",
   "metadata": {},
   "outputs": [
    {
     "name": "stdout",
     "output_type": "stream",
     "text": [
      "[{'account_number': 1111, 'Balance': 0}, {'account_number': 4321, 'Balance': 2000}, {'account_number': 2023, 'Balance': 3000}, {'account_number': 1234, 'Balance': 5000}, {'account_number': 2222, 'Balance': 6000}, {'account_number': 2210, 'Balance': 10000}]\n"
     ]
    }
   ],
   "source": [
    "print(accounts)"
   ]
  },
  {
   "cell_type": "markdown",
   "id": "2ff13bf4",
   "metadata": {},
   "source": [
    "6) Maximum account balance"
   ]
  },
  {
   "cell_type": "code",
   "execution_count": 107,
   "id": "056a7f22",
   "metadata": {},
   "outputs": [
    {
     "data": {
      "text/plain": [
       "7000"
      ]
     },
     "execution_count": 107,
     "metadata": {},
     "output_type": "execute_result"
    }
   ],
   "source": [
    "account_balance = [5000,4000,2000,3000,7000]\n",
    "max(account_balance, key = lambda balance:balance)"
   ]
  },
  {
   "cell_type": "markdown",
   "id": "f9625436",
   "metadata": {},
   "source": [
    "# Function inside Function - Nested Function"
   ]
  },
  {
   "cell_type": "markdown",
   "id": "86e5dbd0",
   "metadata": {},
   "source": [
    "**Inner function is local to outer function**"
   ]
  },
  {
   "cell_type": "code",
   "execution_count": 110,
   "id": "1b7b3f56",
   "metadata": {},
   "outputs": [
    {
     "name": "stdout",
     "output_type": "stream",
     "text": [
      "Outer function is running\n",
      "Inner function is running\n"
     ]
    }
   ],
   "source": [
    "def outer():\n",
    "    print('Outer function is running')\n",
    "    def inner():\n",
    "        print('Inner function is running')\n",
    "    inner()\n",
    "outer()"
   ]
  },
  {
   "cell_type": "code",
   "execution_count": 109,
   "id": "66ce87a2",
   "metadata": {},
   "outputs": [
    {
     "ename": "NameError",
     "evalue": "name 'inner' is not defined",
     "output_type": "error",
     "traceback": [
      "\u001b[1;31m---------------------------------------------------------------------------\u001b[0m",
      "\u001b[1;31mNameError\u001b[0m                                 Traceback (most recent call last)",
      "\u001b[1;32m~\\AppData\\Local\\Temp\\ipykernel_3992\\2697967970.py\u001b[0m in \u001b[0;36m<module>\u001b[1;34m\u001b[0m\n\u001b[1;32m----> 1\u001b[1;33m \u001b[0minner\u001b[0m\u001b[1;33m(\u001b[0m\u001b[1;33m)\u001b[0m\u001b[1;33m\u001b[0m\u001b[1;33m\u001b[0m\u001b[0m\n\u001b[0m",
      "\u001b[1;31mNameError\u001b[0m: name 'inner' is not defined"
     ]
    }
   ],
   "source": [
    "inner()"
   ]
  },
  {
   "cell_type": "markdown",
   "id": "be1661d4",
   "metadata": {},
   "source": [
    "1) Calculator - Nested Function "
   ]
  },
  {
   "cell_type": "markdown",
   "id": "b7d2359d",
   "metadata": {},
   "source": [
    "**This is not advisable as we are hardcoding the values**"
   ]
  },
  {
   "cell_type": "code",
   "execution_count": 114,
   "id": "6e3b74ab",
   "metadata": {},
   "outputs": [],
   "source": [
    "def calculator():\n",
    "    def add(num1,num2):\n",
    "        return num1+num2\n",
    "    def sub(num1,num2):\n",
    "        return num1-num2\n",
    "    def mul(num1,num2):\n",
    "        return num1*num2\n",
    "    def div(num1,num2):\n",
    "        return num1/num2\n",
    "    \n",
    "    num1 = 10 \n",
    "    num2 = 2\n",
    "    print(\"Addition: \", add(num1,num2))\n",
    "    print(\"Subtraction: \", sub(num1,num2))\n",
    "    print(\"Multiplication: \", mul(num1,num2))\n",
    "    print(\"Division: \", div(num1,num2))"
   ]
  },
  {
   "cell_type": "code",
   "execution_count": 115,
   "id": "072376f0",
   "metadata": {},
   "outputs": [
    {
     "name": "stdout",
     "output_type": "stream",
     "text": [
      "Addition:  12\n",
      "Subtraction:  8\n",
      "Multiplication:  20\n",
      "Division:  5.0\n"
     ]
    }
   ],
   "source": [
    "calculator()"
   ]
  },
  {
   "cell_type": "code",
   "execution_count": 119,
   "id": "3cc467e1",
   "metadata": {},
   "outputs": [],
   "source": [
    "def calculator(num1,num2):\n",
    "    def add(num1,num2):\n",
    "        return num1+num2\n",
    "    def sub(num1,num2):\n",
    "        return num1-num2\n",
    "    def mul(num1,num2):\n",
    "        return num1*num2\n",
    "    def div(num1,num2):\n",
    "        return num1/num2\n",
    "    \n",
    "    print(\"Addition: \", add(num1,num2))\n",
    "    print(\"Subtraction: \", sub(num1,num2))\n",
    "    print(\"Multiplication: \", mul(num1,num2))\n",
    "    print(\"Division: \", div(num1,num2))"
   ]
  },
  {
   "cell_type": "code",
   "execution_count": 120,
   "id": "b80c6235",
   "metadata": {},
   "outputs": [
    {
     "name": "stdout",
     "output_type": "stream",
     "text": [
      "Addition:  13\n",
      "Subtraction:  7\n",
      "Multiplication:  30\n",
      "Division:  3.3333333333333335\n"
     ]
    }
   ],
   "source": [
    "calculator(10,3)"
   ]
  },
  {
   "cell_type": "markdown",
   "id": "a4f63ef1",
   "metadata": {},
   "source": [
    "**This one is the best - It is more powerful and reusable**"
   ]
  },
  {
   "cell_type": "code",
   "execution_count": 122,
   "id": "e732223c",
   "metadata": {},
   "outputs": [],
   "source": [
    "def calculator(num1,num2):\n",
    "    def add():\n",
    "        return num1+num2\n",
    "    def sub():\n",
    "        return num1-num2\n",
    "    def mul():\n",
    "        return num1*num2\n",
    "    def div():\n",
    "        return num1/num2\n",
    "    \n",
    "    print(\"Addition: \", add())\n",
    "    print(\"Subtraction: \", sub())\n",
    "    print(\"Multiplication: \", mul())\n",
    "    print(\"Division: \", div())"
   ]
  },
  {
   "cell_type": "code",
   "execution_count": 123,
   "id": "fb0d55d3",
   "metadata": {},
   "outputs": [
    {
     "name": "stdout",
     "output_type": "stream",
     "text": [
      "Addition:  13\n",
      "Subtraction:  7\n",
      "Multiplication:  30\n",
      "Division:  3.3333333333333335\n"
     ]
    }
   ],
   "source": [
    "calculator(10,3)"
   ]
  },
  {
   "cell_type": "markdown",
   "id": "bc6dbf25",
   "metadata": {},
   "source": [
    "2) Voting eligibility check - Nested Function"
   ]
  },
  {
   "cell_type": "code",
   "execution_count": 116,
   "id": "a19a7577",
   "metadata": {},
   "outputs": [
    {
     "name": "stdout",
     "output_type": "stream",
     "text": [
      "You are not eligible for voting\n",
      "You are eligible for voting\n"
     ]
    }
   ],
   "source": [
    "def check_voting_eligibility(age):\n",
    "    def is_eligible():\n",
    "        return age>=18\n",
    "    \n",
    "    if is_eligible():\n",
    "        print('You are eligible for voting')\n",
    "    else:\n",
    "        print('You are not eligible for voting')\n",
    "        \n",
    "check_voting_eligibility(10)\n",
    "check_voting_eligibility(35)"
   ]
  },
  {
   "cell_type": "markdown",
   "id": "724b054d",
   "metadata": {},
   "source": [
    "3) Currency Conversion - Nested Function"
   ]
  },
  {
   "cell_type": "code",
   "execution_count": 125,
   "id": "25fed742",
   "metadata": {},
   "outputs": [
    {
     "name": "stdout",
     "output_type": "stream",
     "text": [
      "Converted Amount:  405000\n"
     ]
    }
   ],
   "source": [
    "def convert_currency(amount,rate):\n",
    "    def apply_conversion():\n",
    "        return amount * rate\n",
    "    converted_amount = apply_conversion()\n",
    "    print('Converted Amount: ', converted_amount)\n",
    "    \n",
    "convert_currency(5000,81)"
   ]
  },
  {
   "cell_type": "markdown",
   "id": "31c037b9",
   "metadata": {},
   "source": [
    "4) Captcha Generator"
   ]
  },
  {
   "cell_type": "code",
   "execution_count": 215,
   "id": "95ac1f30",
   "metadata": {},
   "outputs": [],
   "source": [
    "import random\n",
    "\n",
    "def generate_captcha():\n",
    "    def generate_captcha_digit():\n",
    "        return random.randint(0,9)\n",
    "    \n",
    "    def generate_captcha_letter():\n",
    "        return chr(random.randint(97,122))\n",
    "    \n",
    "    captcha = \"\"\n",
    "    for i in range(0,6):\n",
    "        if random.choice([True,False]) == True:\n",
    "            captcha += str(generate_captcha_digit())\n",
    "        else:\n",
    "            captcha += generate_captcha_letter()\n",
    "            \n",
    "    print(\"Generated Captcha: \", captcha)"
   ]
  },
  {
   "cell_type": "code",
   "execution_count": 253,
   "id": "a01914e8",
   "metadata": {},
   "outputs": [
    {
     "name": "stdout",
     "output_type": "stream",
     "text": [
      "Generated Captcha:  05w919\n"
     ]
    }
   ],
   "source": [
    "generate_captcha()"
   ]
  }
 ],
 "metadata": {
  "kernelspec": {
   "display_name": "Python 3 (ipykernel)",
   "language": "python",
   "name": "python3"
  },
  "language_info": {
   "codemirror_mode": {
    "name": "ipython",
    "version": 3
   },
   "file_extension": ".py",
   "mimetype": "text/x-python",
   "name": "python",
   "nbconvert_exporter": "python",
   "pygments_lexer": "ipython3",
   "version": "3.9.13"
  }
 },
 "nbformat": 4,
 "nbformat_minor": 5
}

{
 "cells": [
  {
   "cell_type": "markdown",
   "id": "711dbbb0",
   "metadata": {},
   "source": [
    "# **Regular Expression (re)**"
   ]
  },
  {
   "cell_type": "markdown",
   "id": "563c33ff",
   "metadata": {},
   "source": [
    "**https://docs.python.org/3/library/re.html**"
   ]
  },
  {
   "cell_type": "markdown",
   "id": "6506c5bc",
   "metadata": {},
   "source": [
    "**Important functions from RE Module** \n",
    "\n",
    "    finditer()\n",
    "\n",
    "    match()\n",
    "\n",
    "    fullmatch()\n",
    "\n",
    "    search()\n",
    "\n",
    "    findall()\n",
    "\n",
    "    sub()\n",
    "\n",
    "    subn()\n",
    "\n",
    "    split()"
   ]
  },
  {
   "cell_type": "code",
   "execution_count": 1,
   "id": "0038f64a",
   "metadata": {},
   "outputs": [],
   "source": [
    "import re"
   ]
  },
  {
   "cell_type": "code",
   "execution_count": 9,
   "id": "212780e5",
   "metadata": {},
   "outputs": [
    {
     "name": "stdout",
     "output_type": "stream",
     "text": [
      "0 ... 1 ... a\n",
      "3 ... 4 ... a\n"
     ]
    }
   ],
   "source": [
    "for i in re.finditer('a','a7ba@kc9Z X'):\n",
    "    print(i.start(),'...',i.end(),'...',i.group())"
   ]
  },
  {
   "cell_type": "code",
   "execution_count": 11,
   "id": "4858c959",
   "metadata": {},
   "outputs": [],
   "source": [
    "for i in re.finditer('ab','a7ba@kc9Z X'):\n",
    "    print(i.start(),'...',i.end(),'...',i.group())"
   ]
  },
  {
   "cell_type": "code",
   "execution_count": 12,
   "id": "211e8455",
   "metadata": {},
   "outputs": [
    {
     "name": "stdout",
     "output_type": "stream",
     "text": [
      "0 ... 1 ... a\n",
      "2 ... 3 ... b\n",
      "3 ... 4 ... a\n"
     ]
    }
   ],
   "source": [
    "for i in re.finditer('[ab]','a7ba@kc9Z X'):\n",
    "    print(i.start(),'...',i.end(),'...',i.group())"
   ]
  },
  {
   "cell_type": "code",
   "execution_count": null,
   "id": "4f81be83",
   "metadata": {},
   "outputs": [],
   "source": [
    "[abc] - Either a or b or c \n",
    "'abc' - only abc together\n",
    "[^abc] - Neither a nor b nor c \n",
    "[a-z] - Small characters \n",
    "[A-Z] - Capital characters \n",
    "[0-9] - Numbers\n",
    "[a-zA-Z0-9] - All alpha numeric \n",
    "[^a-zA-Z0-9] - All special characters"
   ]
  },
  {
   "cell_type": "code",
   "execution_count": 34,
   "id": "0dd8c3be",
   "metadata": {},
   "outputs": [
    {
     "name": "stdout",
     "output_type": "stream",
     "text": [
      "0 ... 1 ... a\n"
     ]
    }
   ],
   "source": [
    "for i in re.finditer('^a','a7ba@kc9Z X'):\n",
    "    print(i.start(),'...',i.end(),'...',i.group())"
   ]
  },
  {
   "cell_type": "code",
   "execution_count": 13,
   "id": "5f8877f9",
   "metadata": {},
   "outputs": [
    {
     "name": "stdout",
     "output_type": "stream",
     "text": [
      "1 ... 2 ... 7\n",
      "4 ... 5 ... @\n",
      "5 ... 6 ... k\n",
      "6 ... 7 ... c\n",
      "7 ... 8 ... 9\n",
      "8 ... 9 ... Z\n",
      "9 ... 10 ...  \n",
      "10 ... 11 ... X\n"
     ]
    }
   ],
   "source": [
    "for i in re.finditer('[^ab]','a7ba@kc9Z X'):\n",
    "    print(i.start(),'...',i.end(),'...',i.group())"
   ]
  },
  {
   "cell_type": "code",
   "execution_count": 14,
   "id": "b550fdb3",
   "metadata": {},
   "outputs": [
    {
     "name": "stdout",
     "output_type": "stream",
     "text": [
      "0 ... 1 ... a\n",
      "2 ... 3 ... b\n",
      "3 ... 4 ... a\n",
      "5 ... 6 ... k\n",
      "6 ... 7 ... c\n"
     ]
    }
   ],
   "source": [
    "for i in re.finditer('[a-z]','a7ba@kc9Z X'):\n",
    "    print(i.start(),'...',i.end(),'...',i.group())"
   ]
  },
  {
   "cell_type": "code",
   "execution_count": 15,
   "id": "31a21531",
   "metadata": {},
   "outputs": [
    {
     "name": "stdout",
     "output_type": "stream",
     "text": [
      "8 ... 9 ... Z\n",
      "10 ... 11 ... X\n"
     ]
    }
   ],
   "source": [
    "for i in re.finditer('[A-Z]','a7ba@kc9Z X'):\n",
    "    print(i.start(),'...',i.end(),'...',i.group())"
   ]
  },
  {
   "cell_type": "code",
   "execution_count": 16,
   "id": "b31946f3",
   "metadata": {},
   "outputs": [
    {
     "name": "stdout",
     "output_type": "stream",
     "text": [
      "0 ... 1 ... a\n",
      "2 ... 3 ... b\n",
      "3 ... 4 ... a\n",
      "5 ... 6 ... k\n",
      "6 ... 7 ... c\n",
      "8 ... 9 ... Z\n",
      "10 ... 11 ... X\n"
     ]
    }
   ],
   "source": [
    "for i in re.finditer('[a-zA-Z]','a7ba@kc9Z X'):\n",
    "    print(i.start(),'...',i.end(),'...',i.group())"
   ]
  },
  {
   "cell_type": "code",
   "execution_count": 17,
   "id": "a1ebe072",
   "metadata": {},
   "outputs": [
    {
     "name": "stdout",
     "output_type": "stream",
     "text": [
      "1 ... 2 ... 7\n",
      "7 ... 8 ... 9\n"
     ]
    }
   ],
   "source": [
    "for i in re.finditer('[0-9]','a7ba@kc9Z X'):\n",
    "    print(i.start(),'...',i.end(),'...',i.group())"
   ]
  },
  {
   "cell_type": "code",
   "execution_count": 18,
   "id": "ea576bae",
   "metadata": {},
   "outputs": [
    {
     "name": "stdout",
     "output_type": "stream",
     "text": [
      "0 ... 1 ... a\n",
      "1 ... 2 ... 7\n",
      "2 ... 3 ... b\n",
      "3 ... 4 ... a\n",
      "5 ... 6 ... k\n",
      "6 ... 7 ... c\n",
      "7 ... 8 ... 9\n",
      "8 ... 9 ... Z\n",
      "10 ... 11 ... X\n"
     ]
    }
   ],
   "source": [
    "for i in re.finditer('[a-zA-Z0-9]','a7ba@kc9Z X'):\n",
    "    print(i.start(),'...',i.end(),'...',i.group())"
   ]
  },
  {
   "cell_type": "code",
   "execution_count": 19,
   "id": "264fead6",
   "metadata": {},
   "outputs": [
    {
     "name": "stdout",
     "output_type": "stream",
     "text": [
      "4 ... 5 ... @\n",
      "9 ... 10 ...  \n"
     ]
    }
   ],
   "source": [
    "for i in re.finditer('[^a-zA-Z0-9]','a7ba@kc9Z X'):\n",
    "    print(i.start(),'...',i.end(),'...',i.group())"
   ]
  },
  {
   "cell_type": "code",
   "execution_count": 20,
   "id": "0b98d82b",
   "metadata": {},
   "outputs": [
    {
     "name": "stdout",
     "output_type": "stream",
     "text": [
      "1 ... 2 ... 7\n",
      "7 ... 8 ... 9\n"
     ]
    }
   ],
   "source": [
    "for i in re.finditer('\\d','a7ba@kc9Z X'):\n",
    "    print(i.start(),'...',i.end(),'...',i.group())"
   ]
  },
  {
   "cell_type": "code",
   "execution_count": null,
   "id": "ffd2f4c8",
   "metadata": {},
   "outputs": [],
   "source": [
    "\\d - Only digits\n",
    "\\D - Except digits\n",
    "\\s - Only Space\n",
    "\\S - Except space \n",
    "\\w - Alpha numeric \n",
    "\\W - Special characters \n",
    ". - All the characters"
   ]
  },
  {
   "cell_type": "code",
   "execution_count": 21,
   "id": "cf45c6fe",
   "metadata": {},
   "outputs": [
    {
     "name": "stdout",
     "output_type": "stream",
     "text": [
      "0 ... 1 ... a\n",
      "2 ... 3 ... b\n",
      "3 ... 4 ... a\n",
      "4 ... 5 ... @\n",
      "5 ... 6 ... k\n",
      "6 ... 7 ... c\n",
      "8 ... 9 ... Z\n",
      "9 ... 10 ...  \n",
      "10 ... 11 ... X\n"
     ]
    }
   ],
   "source": [
    "for i in re.finditer('\\D','a7ba@kc9Z X'):\n",
    "    print(i.start(),'...',i.end(),'...',i.group())"
   ]
  },
  {
   "cell_type": "code",
   "execution_count": 23,
   "id": "edae99ec",
   "metadata": {},
   "outputs": [
    {
     "name": "stdout",
     "output_type": "stream",
     "text": [
      "9 ... 10 ...  \n"
     ]
    }
   ],
   "source": [
    "for i in re.finditer('\\s','a7ba@kc9Z X'):\n",
    "    print(i.start(),'...',i.end(),'...',i.group())"
   ]
  },
  {
   "cell_type": "code",
   "execution_count": 24,
   "id": "b2797404",
   "metadata": {},
   "outputs": [
    {
     "name": "stdout",
     "output_type": "stream",
     "text": [
      "0 ... 1 ... a\n",
      "1 ... 2 ... 7\n",
      "2 ... 3 ... b\n",
      "3 ... 4 ... a\n",
      "4 ... 5 ... @\n",
      "5 ... 6 ... k\n",
      "6 ... 7 ... c\n",
      "7 ... 8 ... 9\n",
      "8 ... 9 ... Z\n",
      "10 ... 11 ... X\n"
     ]
    }
   ],
   "source": [
    "for i in re.finditer('\\S','a7ba@kc9Z X'):\n",
    "    print(i.start(),'...',i.end(),'...',i.group())"
   ]
  },
  {
   "cell_type": "code",
   "execution_count": 25,
   "id": "b6cf0aea",
   "metadata": {},
   "outputs": [
    {
     "name": "stdout",
     "output_type": "stream",
     "text": [
      "0 ... 1 ... a\n",
      "1 ... 2 ... 7\n",
      "2 ... 3 ... b\n",
      "3 ... 4 ... a\n",
      "5 ... 6 ... k\n",
      "6 ... 7 ... c\n",
      "7 ... 8 ... 9\n",
      "8 ... 9 ... Z\n",
      "10 ... 11 ... X\n"
     ]
    }
   ],
   "source": [
    "for i in re.finditer('\\w','a7ba@kc9Z X'):\n",
    "    print(i.start(),'...',i.end(),'...',i.group())"
   ]
  },
  {
   "cell_type": "code",
   "execution_count": 26,
   "id": "2735e15e",
   "metadata": {},
   "outputs": [
    {
     "name": "stdout",
     "output_type": "stream",
     "text": [
      "4 ... 5 ... @\n",
      "9 ... 10 ...  \n"
     ]
    }
   ],
   "source": [
    "for i in re.finditer('\\W','a7ba@kc9Z X'):\n",
    "    print(i.start(),'...',i.end(),'...',i.group())"
   ]
  },
  {
   "cell_type": "code",
   "execution_count": 27,
   "id": "71df3c8a",
   "metadata": {},
   "outputs": [
    {
     "name": "stdout",
     "output_type": "stream",
     "text": [
      "0 ... 1 ... a\n",
      "1 ... 2 ... 7\n",
      "2 ... 3 ... b\n",
      "3 ... 4 ... a\n",
      "4 ... 5 ... @\n",
      "5 ... 6 ... k\n",
      "6 ... 7 ... c\n",
      "7 ... 8 ... 9\n",
      "8 ... 9 ... Z\n",
      "9 ... 10 ...  \n",
      "10 ... 11 ... X\n"
     ]
    }
   ],
   "source": [
    "for i in re.finditer('.','a7ba@kc9Z X'):\n",
    "    print(i.start(),'...',i.end(),'...',i.group())"
   ]
  },
  {
   "cell_type": "code",
   "execution_count": 36,
   "id": "3786b7da",
   "metadata": {},
   "outputs": [
    {
     "name": "stdout",
     "output_type": "stream",
     "text": [
      "0 ... 2 ... cd\n",
      "3 ... 5 ... cd\n",
      "7 ... 9 ... cd\n"
     ]
    }
   ],
   "source": [
    "for i in re.finditer('cd','cdccdcccd'):\n",
    "    print(i.start(),'...',i.end(),'...',i.group())"
   ]
  },
  {
   "cell_type": "code",
   "execution_count": null,
   "id": "f0af8cf8",
   "metadata": {},
   "outputs": [],
   "source": [
    "^c - Checking if it is starting with c or not "
   ]
  },
  {
   "cell_type": "code",
   "execution_count": 32,
   "id": "a4b19307",
   "metadata": {},
   "outputs": [
    {
     "name": "stdout",
     "output_type": "stream",
     "text": [
      "0 ... 1 ... c\n"
     ]
    }
   ],
   "source": [
    "for i in re.finditer('^c','cdccdcccd'):\n",
    "    print(i.start(),'...',i.end(),'...',i.group())"
   ]
  },
  {
   "cell_type": "code",
   "execution_count": null,
   "id": "5988e5ba",
   "metadata": {},
   "outputs": [],
   "source": [
    "[^c] - Except c's "
   ]
  },
  {
   "cell_type": "code",
   "execution_count": 30,
   "id": "c55821f8",
   "metadata": {},
   "outputs": [
    {
     "name": "stdout",
     "output_type": "stream",
     "text": [
      "1 ... 2 ... d\n",
      "4 ... 5 ... d\n",
      "8 ... 9 ... d\n"
     ]
    }
   ],
   "source": [
    "for i in re.finditer('[^c]','cdccdcccd'):\n",
    "    print(i.start(),'...',i.end(),'...',i.group())"
   ]
  },
  {
   "cell_type": "code",
   "execution_count": 33,
   "id": "e41316e0",
   "metadata": {},
   "outputs": [
    {
     "name": "stdout",
     "output_type": "stream",
     "text": [
      "8 ... 9 ... d\n"
     ]
    }
   ],
   "source": [
    "for i in re.finditer('d$','cdccdcccd'):\n",
    "    print(i.start(),'...',i.end(),'...',i.group())"
   ]
  },
  {
   "cell_type": "code",
   "execution_count": 37,
   "id": "b1084365",
   "metadata": {},
   "outputs": [
    {
     "name": "stdout",
     "output_type": "stream",
     "text": [
      "0 ... 1 ... c\n",
      "1 ... 2 ... d\n",
      "2 ... 3 ... c\n",
      "3 ... 4 ... c\n",
      "4 ... 5 ... d\n",
      "5 ... 6 ... c\n",
      "6 ... 7 ... c\n",
      "7 ... 8 ... c\n",
      "8 ... 9 ... d\n"
     ]
    }
   ],
   "source": [
    "for i in re.finditer('[cd]','cdccdcccd'):\n",
    "    print(i.start(),'...',i.end(),'...',i.group())"
   ]
  },
  {
   "cell_type": "code",
   "execution_count": 38,
   "id": "7500eda6",
   "metadata": {},
   "outputs": [
    {
     "name": "stdout",
     "output_type": "stream",
     "text": [
      "0 ... 1 ... c\n",
      "2 ... 4 ... cc\n",
      "5 ... 8 ... ccc\n"
     ]
    }
   ],
   "source": [
    "for i in re.finditer('c+','cdccdcccd'):\n",
    "    print(i.start(),'...',i.end(),'...',i.group())"
   ]
  },
  {
   "cell_type": "code",
   "execution_count": 39,
   "id": "8adbca28",
   "metadata": {},
   "outputs": [
    {
     "name": "stdout",
     "output_type": "stream",
     "text": [
      "0 ... 1 ... c\n",
      "1 ... 1 ... \n",
      "2 ... 4 ... cc\n",
      "4 ... 4 ... \n",
      "5 ... 8 ... ccc\n",
      "8 ... 8 ... \n",
      "9 ... 9 ... \n"
     ]
    }
   ],
   "source": [
    "for i in re.finditer('c*','cdccdcccd'):\n",
    "    print(i.start(),'...',i.end(),'...',i.group())"
   ]
  },
  {
   "cell_type": "code",
   "execution_count": 40,
   "id": "d8fd0e9b",
   "metadata": {},
   "outputs": [
    {
     "name": "stdout",
     "output_type": "stream",
     "text": [
      "0 ... 1 ... c\n",
      "1 ... 1 ... \n",
      "2 ... 3 ... c\n",
      "3 ... 4 ... c\n",
      "4 ... 4 ... \n",
      "5 ... 6 ... c\n",
      "6 ... 7 ... c\n",
      "7 ... 8 ... c\n",
      "8 ... 8 ... \n",
      "9 ... 9 ... \n"
     ]
    }
   ],
   "source": [
    "for i in re.finditer('c?','cdccdcccd'):\n",
    "    print(i.start(),'...',i.end(),'...',i.group())"
   ]
  },
  {
   "cell_type": "code",
   "execution_count": 43,
   "id": "4b375722",
   "metadata": {},
   "outputs": [
    {
     "name": "stdout",
     "output_type": "stream",
     "text": [
      "2 ... 4 ... cc\n",
      "5 ... 8 ... ccc\n"
     ]
    }
   ],
   "source": [
    "for i in re.finditer('c{2,3}','cdccdcccd'):\n",
    "    print(i.start(),'...',i.end(),'...',i.group())"
   ]
  },
  {
   "cell_type": "code",
   "execution_count": 45,
   "id": "cf6a682d",
   "metadata": {},
   "outputs": [
    {
     "name": "stdout",
     "output_type": "stream",
     "text": [
      "2 ... 4 ... cc\n",
      "5 ... 9 ... cccc\n"
     ]
    }
   ],
   "source": [
    "for i in re.finditer('c{2,4}','cdccdccccd'):\n",
    "    print(i.start(),'...',i.end(),'...',i.group())"
   ]
  },
  {
   "cell_type": "code",
   "execution_count": 46,
   "id": "b32f368c",
   "metadata": {},
   "outputs": [
    {
     "name": "stdout",
     "output_type": "stream",
     "text": [
      "2 ... 4 ... cc\n",
      "5 ... 8 ... ccc\n"
     ]
    }
   ],
   "source": [
    "for i in re.finditer('c{2,3}','cdccdccccd'):\n",
    "    print(i.start(),'...',i.end(),'...',i.group())"
   ]
  },
  {
   "cell_type": "code",
   "execution_count": null,
   "id": "177f42b6",
   "metadata": {},
   "outputs": [],
   "source": [
    "Match()"
   ]
  },
  {
   "cell_type": "code",
   "execution_count": 58,
   "id": "809c1520",
   "metadata": {},
   "outputs": [
    {
     "name": "stdout",
     "output_type": "stream",
     "text": [
      "What are you looking for: most\n",
      "Match not found\n"
     ]
    }
   ],
   "source": [
    "string = 'Python is one of the most powerful programming languages'\n",
    "lookingfor = input('What are you looking for: ')\n",
    "if re.match(lookingfor,string)!=None:\n",
    "    print('Match found')\n",
    "else:\n",
    "    print('Match not found')"
   ]
  },
  {
   "cell_type": "code",
   "execution_count": null,
   "id": "c75bc4a8",
   "metadata": {},
   "outputs": [],
   "source": [
    "Fullmatch()"
   ]
  },
  {
   "cell_type": "code",
   "execution_count": 61,
   "id": "62596367",
   "metadata": {},
   "outputs": [
    {
     "name": "stdout",
     "output_type": "stream",
     "text": [
      "What are you looking for: Python is one of the most powerful programming languages\n",
      "Match found\n"
     ]
    }
   ],
   "source": [
    "string = 'Python is one of the most powerful programming languages'\n",
    "lookingfor = input('What are you looking for: ')\n",
    "if re.fullmatch(lookingfor,string)!=None:\n",
    "    print('Match found')\n",
    "else:\n",
    "    print('Match not found')"
   ]
  },
  {
   "cell_type": "code",
   "execution_count": null,
   "id": "03b69c89",
   "metadata": {},
   "outputs": [],
   "source": [
    "search()"
   ]
  },
  {
   "cell_type": "code",
   "execution_count": 64,
   "id": "619e0ff9",
   "metadata": {},
   "outputs": [
    {
     "name": "stdout",
     "output_type": "stream",
     "text": [
      "What are you looking for: java\n",
      "Match not found\n"
     ]
    }
   ],
   "source": [
    "string = 'Python is one of the most powerful programming languages'\n",
    "lookingfor = input('What are you looking for: ')\n",
    "if re.search(lookingfor,string)!=None:\n",
    "    print('Match found')\n",
    "else:\n",
    "    print('Match not found')"
   ]
  },
  {
   "cell_type": "code",
   "execution_count": 65,
   "id": "2c7f545e",
   "metadata": {},
   "outputs": [],
   "source": [
    "re.search(lookingfor,string)"
   ]
  },
  {
   "cell_type": "code",
   "execution_count": null,
   "id": "665e425f",
   "metadata": {},
   "outputs": [],
   "source": [
    "findall()"
   ]
  },
  {
   "cell_type": "code",
   "execution_count": 70,
   "id": "f4d6d672",
   "metadata": {},
   "outputs": [
    {
     "name": "stdout",
     "output_type": "stream",
     "text": [
      "What keyword are you looking for: Java\n",
      "Your resume got rejected\n"
     ]
    }
   ],
   "source": [
    "resume = 'Python is powerful, Python is good, Python is the future, Python is Python'\n",
    "keyword = input('What keyword are you looking for: ')\n",
    "if len(re.findall(keyword,resume))>3:\n",
    "    print('Your resume got selected')\n",
    "else:\n",
    "    print('Your resume got rejected')"
   ]
  },
  {
   "cell_type": "code",
   "execution_count": null,
   "id": "49107556",
   "metadata": {},
   "outputs": [],
   "source": [
    "sub()"
   ]
  },
  {
   "cell_type": "code",
   "execution_count": 71,
   "id": "78f6a8ee",
   "metadata": {},
   "outputs": [
    {
     "name": "stdout",
     "output_type": "stream",
     "text": [
      "what you want to change: Python\n",
      "What value you want: Java\n"
     ]
    },
    {
     "data": {
      "text/plain": [
       "'Java is powerful, Java is good, Java is the future, Java is Java'"
      ]
     },
     "execution_count": 71,
     "metadata": {},
     "output_type": "execute_result"
    }
   ],
   "source": [
    "resume = 'Python is powerful, Python is good, Python is the future, Python is Python'\n",
    "whattochange = input('what you want to change: ')\n",
    "withwhat = input('What value you want: ')\n",
    "re.sub(whattochange,withwhat,resume)"
   ]
  },
  {
   "cell_type": "code",
   "execution_count": 72,
   "id": "04aca457",
   "metadata": {},
   "outputs": [
    {
     "name": "stdout",
     "output_type": "stream",
     "text": [
      "what you want to change: Python\n",
      "What value you want: Java\n"
     ]
    },
    {
     "data": {
      "text/plain": [
       "('Java is powerful, Java is good, Java is the future, Java is Java', 5)"
      ]
     },
     "execution_count": 72,
     "metadata": {},
     "output_type": "execute_result"
    }
   ],
   "source": [
    "resume = 'Python is powerful, Python is good, Python is the future, Python is Python'\n",
    "whattochange = input('what you want to change: ')\n",
    "withwhat = input('What value you want: ')\n",
    "re.subn(whattochange,withwhat,resume)"
   ]
  },
  {
   "cell_type": "code",
   "execution_count": null,
   "id": "ae79aacc",
   "metadata": {},
   "outputs": [],
   "source": [
    "split()"
   ]
  },
  {
   "cell_type": "code",
   "execution_count": 73,
   "id": "63beaeed",
   "metadata": {},
   "outputs": [
    {
     "data": {
      "text/plain": [
       "['10', '20', '30', '40', '50']"
      ]
     },
     "execution_count": 73,
     "metadata": {},
     "output_type": "execute_result"
    }
   ],
   "source": [
    "re.split('-','10-20-30-40-50')"
   ]
  },
  {
   "cell_type": "code",
   "execution_count": 75,
   "id": "b5a7c6ec",
   "metadata": {},
   "outputs": [
    {
     "data": {
      "text/plain": [
       "['www', 'thescholar', 'co', 'in']"
      ]
     },
     "execution_count": 75,
     "metadata": {},
     "output_type": "execute_result"
    }
   ],
   "source": [
    "re.split('\\.', 'www.thescholar.co.in')"
   ]
  },
  {
   "cell_type": "code",
   "execution_count": 76,
   "id": "2955e8eb",
   "metadata": {},
   "outputs": [
    {
     "data": {
      "text/plain": [
       "['www', 'thescholar', 'co', 'in']"
      ]
     },
     "execution_count": 76,
     "metadata": {},
     "output_type": "execute_result"
    }
   ],
   "source": [
    "re.split('[.]', 'www.thescholar.co.in')"
   ]
  },
  {
   "cell_type": "code",
   "execution_count": 79,
   "id": "0c854549",
   "metadata": {},
   "outputs": [
    {
     "data": {
      "text/plain": [
       "<re.Match object; span=(0, 5), match='Learn'>"
      ]
     },
     "execution_count": 79,
     "metadata": {},
     "output_type": "execute_result"
    }
   ],
   "source": [
    "string = 'Learning Python is very easy'\n",
    "re.search('^Learn', string)"
   ]
  },
  {
   "cell_type": "code",
   "execution_count": 81,
   "id": "6f8d5df7",
   "metadata": {},
   "outputs": [
    {
     "data": {
      "text/plain": [
       "<re.Match object; span=(0, 5), match='Learn'>"
      ]
     },
     "execution_count": 81,
     "metadata": {},
     "output_type": "execute_result"
    }
   ],
   "source": [
    "string = 'Learning Python is very easy'\n",
    "re.search('^learn', string,re.IGNORECASE)"
   ]
  },
  {
   "cell_type": "code",
   "execution_count": 82,
   "id": "cf682558",
   "metadata": {},
   "outputs": [
    {
     "data": {
      "text/plain": [
       "<re.Match object; span=(24, 28), match='easy'>"
      ]
     },
     "execution_count": 82,
     "metadata": {},
     "output_type": "execute_result"
    }
   ],
   "source": [
    "string = 'Learning Python is very easy'\n",
    "re.search('EASY$', string,re.IGNORECASE)"
   ]
  },
  {
   "cell_type": "markdown",
   "id": "b2cc0f7c",
   "metadata": {},
   "source": [
    "**Scenario 1 - Checking the password conditions**"
   ]
  },
  {
   "cell_type": "code",
   "execution_count": null,
   "id": "b6d828af",
   "metadata": {},
   "outputs": [],
   "source": [
    "a) The allowable characters are\n",
    "    a.1) Alphabets (A-Z,a-z)\n",
    "    a.2) Digits (0-9)\n",
    "    a.3) Hash (#)\n",
    "        \n",
    "b) First character should be lowercase that too between (a-k)\n",
    "c) Second character should be a number which is divisible by 3 i.e. 0,3,6,9\n",
    "d) The length of the password\n",
    "    d.1) Should be exactly 5 characters\n",
    "    d.2) Should be minimum 5 characters"
   ]
  },
  {
   "cell_type": "code",
   "execution_count": 88,
   "id": "77d0add8",
   "metadata": {},
   "outputs": [
    {
     "name": "stdout",
     "output_type": "stream",
     "text": [
      "Enter the password which you created: A3###\n",
      "Recreate the password\n"
     ]
    }
   ],
   "source": [
    "password = input('Enter the password which you created: ')\n",
    "if re.fullmatch('[a-k][0369][a-zA-Z0-9#]{3}',password)!=None:\n",
    "    print('Your password is asper the guidelines')\n",
    "else:\n",
    "    print('Recreate the password')"
   ]
  },
  {
   "cell_type": "code",
   "execution_count": 92,
   "id": "037fd978",
   "metadata": {},
   "outputs": [
    {
     "name": "stdout",
     "output_type": "stream",
     "text": [
      "Enter the password which you created: a3##\n",
      "Recreate the password\n"
     ]
    }
   ],
   "source": [
    "password = input('Enter the password which you created: ')\n",
    "if re.fullmatch('[a-k][0369][a-zA-Z0-9#]{3,}',password)!=None:\n",
    "    print('Your password is asper the guidelines')\n",
    "else:\n",
    "    print('Recreate the password')"
   ]
  },
  {
   "cell_type": "markdown",
   "id": "4b071133",
   "metadata": {},
   "source": [
    "**2) Pan Card verification**"
   ]
  },
  {
   "cell_type": "code",
   "execution_count": 96,
   "id": "09790af1",
   "metadata": {},
   "outputs": [
    {
     "name": "stdout",
     "output_type": "stream",
     "text": [
      "Enter the pancard number: afuptrrr1k\n",
      "Your pancard is not valid afuptrrr1k\n"
     ]
    }
   ],
   "source": [
    "pancard = input('Enter the pancard number: ')\n",
    "if re.fullmatch('[A-Z]{3}[CPHFATBLJG][A-Z][0-9]{4}[A-Z]',pancard, re.IGNORECASE)!=None:\n",
    "    print('Your pancard is valid', pancard)\n",
    "else:\n",
    "    print('Your pancard is not valid', pancard)"
   ]
  },
  {
   "cell_type": "markdown",
   "id": "5adf50c6",
   "metadata": {},
   "source": [
    "**3) Phone number verification**"
   ]
  },
  {
   "cell_type": "code",
   "execution_count": 98,
   "id": "8fcf004c",
   "metadata": {},
   "outputs": [
    {
     "name": "stdout",
     "output_type": "stream",
     "text": [
      "Enter the phone number: 1234567890\n",
      "Invalid phone number:  1234567890\n"
     ]
    }
   ],
   "source": [
    "phone = input('Enter the phone number: ')\n",
    "if re.fullmatch('[6-9]\\d{9}',phone)!=None:\n",
    "    print('Valid phone number: ', phone)\n",
    "else:\n",
    "    print('Invalid phone number: ', phone)"
   ]
  },
  {
   "cell_type": "markdown",
   "id": "6b456a6e",
   "metadata": {},
   "source": [
    "**4) Email check**"
   ]
  },
  {
   "cell_type": "code",
   "execution_count": 101,
   "id": "b07a92e3",
   "metadata": {},
   "outputs": [
    {
     "name": "stdout",
     "output_type": "stream",
     "text": [
      "Enter your email: rahul@yahoo.com\n",
      "Invalid email address:  rahul@yahoo.com\n"
     ]
    }
   ],
   "source": [
    "email = input('Enter your email: ')\n",
    "if re.fullmatch('[A-Z0-9_.]*@gmail[.]com', email, re.IGNORECASE)!=None:\n",
    "    print('Valid email address: ', email)\n",
    "else:\n",
    "    print('Invalid email address: ', email)"
   ]
  },
  {
   "cell_type": "code",
   "execution_count": 104,
   "id": "08df7648",
   "metadata": {},
   "outputs": [
    {
     "name": "stdout",
     "output_type": "stream",
     "text": [
      "Enter your email: rahul@thesholaar.com\n",
      "Invalid email address:  rahul@thesholaar.com\n"
     ]
    }
   ],
   "source": [
    "email = input('Enter your email: ')\n",
    "if re.fullmatch('[A-Z0-9_.]*@(gmail|yahoo)[.]com', email, re.IGNORECASE)!=None:\n",
    "    print('Valid email address: ', email)\n",
    "else:\n",
    "    print('Invalid email address: ', email)"
   ]
  },
  {
   "cell_type": "code",
   "execution_count": 105,
   "id": "804cd173",
   "metadata": {},
   "outputs": [
    {
     "name": "stdout",
     "output_type": "stream",
     "text": [
      "Enter your email: rahul@tv9.com\n",
      "Valid email address:  rahul@tv9.com\n"
     ]
    }
   ],
   "source": [
    "email = input('Enter your email: ')\n",
    "if re.fullmatch('[A-Z0-9_.]*@[A-Z0-9]*[.]com', email, re.IGNORECASE)!=None:\n",
    "    print('Valid email address: ', email)\n",
    "else:\n",
    "    print('Invalid email address: ', email)"
   ]
  },
  {
   "cell_type": "code",
   "execution_count": 111,
   "id": "cd1964d3",
   "metadata": {},
   "outputs": [
    {
     "data": {
      "text/plain": [
       "str"
      ]
     },
     "execution_count": 111,
     "metadata": {},
     "output_type": "execute_result"
    }
   ],
   "source": [
    "import urllib.request\n",
    "url = 'https://www.summet.com/dmsi/html/codesamples/addresses.html'\n",
    "response = urllib.request.urlopen(url)\n",
    "data = response.read()\n",
    "data = data.decode()\n"
   ]
  },
  {
   "cell_type": "code",
   "execution_count": 113,
   "id": "8e08e5c3",
   "metadata": {},
   "outputs": [
    {
     "data": {
      "text/plain": [
       "['(257) 563-7401',\n",
       " '(372) 587-2335',\n",
       " '(786) 713-8616',\n",
       " '(793) 151-6230',\n",
       " '(492) 709-6392',\n",
       " '(654) 393-5734',\n",
       " '(404) 960-3807',\n",
       " '(314) 244-6306',\n",
       " '(947) 278-5929',\n",
       " '(684) 579-1879',\n",
       " '(389) 737-2852',\n",
       " '(660) 663-4518',\n",
       " '(608) 265-2215',\n",
       " '(959) 119-8364',\n",
       " '(468) 353-2641',\n",
       " '(248) 675-4007',\n",
       " '(939) 353-1107',\n",
       " '(570) 873-7090',\n",
       " '(302) 259-2375',\n",
       " '(717) 450-4729',\n",
       " '(453) 391-4650',\n",
       " '(559) 104-5475',\n",
       " '(387) 142-9434',\n",
       " '(516) 745-4496',\n",
       " '(326) 677-3419',\n",
       " '(746) 679-2470',\n",
       " '(455) 430-0989',\n",
       " '(490) 936-4694',\n",
       " '(985) 834-8285',\n",
       " '(662) 661-1446',\n",
       " '(802) 668-8240',\n",
       " '(477) 768-9247',\n",
       " '(791) 239-9057',\n",
       " '(832) 109-0213',\n",
       " '(837) 196-3274',\n",
       " '(268) 442-2428',\n",
       " '(850) 676-5117',\n",
       " '(861) 546-5032',\n",
       " '(176) 805-4108',\n",
       " '(715) 912-6931',\n",
       " '(993) 554-0563',\n",
       " '(357) 616-5411',\n",
       " '(121) 347-0086',\n",
       " '(304) 506-6314',\n",
       " '(425) 288-2332',\n",
       " '(145) 987-4962',\n",
       " '(187) 582-9707',\n",
       " '(750) 558-3965',\n",
       " '(492) 467-3131',\n",
       " '(774) 914-2510',\n",
       " '(888) 106-8550',\n",
       " '(539) 567-3573',\n",
       " '(693) 337-2849',\n",
       " '(545) 604-9386',\n",
       " '(221) 156-5026',\n",
       " '(414) 876-0865',\n",
       " '(932) 726-8645',\n",
       " '(726) 710-9826',\n",
       " '(622) 594-1662',\n",
       " '(948) 600-8503',\n",
       " '(605) 900-7508',\n",
       " '(716) 977-5775',\n",
       " '(368) 239-8275',\n",
       " '(725) 342-0650',\n",
       " '(711) 993-5187',\n",
       " '(882) 399-5084',\n",
       " '(287) 755-9948',\n",
       " '(659) 551-3389',\n",
       " '(275) 730-6868',\n",
       " '(725) 757-4047',\n",
       " '(314) 882-1496',\n",
       " '(639) 360-7590',\n",
       " '(168) 222-1592',\n",
       " '(896) 303-1164',\n",
       " '(203) 982-6130',\n",
       " '(906) 217-1470',\n",
       " '(614) 514-1269',\n",
       " '(763) 409-5446',\n",
       " '(836) 292-5324',\n",
       " '(926) 709-3295',\n",
       " '(963) 356-9268',\n",
       " '(736) 522-8584',\n",
       " '(410) 483-0352',\n",
       " '(252) 204-1434',\n",
       " '(874) 886-4174',\n",
       " '(581) 379-7573',\n",
       " '(983) 632-8597',\n",
       " '(295) 983-3476',\n",
       " '(873) 392-8802',\n",
       " '(360) 669-3923',\n",
       " '(840) 987-9449',\n",
       " '(422) 517-6053',\n",
       " '(126) 940-2753',\n",
       " '(427) 930-5255',\n",
       " '(689) 721-5145',\n",
       " '(676) 334-2174',\n",
       " '(437) 994-5270',\n",
       " '(564) 908-6970',\n",
       " '(577) 333-6244',\n",
       " '(655) 840-6139']"
      ]
     },
     "execution_count": 113,
     "metadata": {},
     "output_type": "execute_result"
    }
   ],
   "source": [
    "re.findall('\\(\\d{3}\\) \\d{3}-\\d{4}', data)"
   ]
  }
 ],
 "metadata": {
  "kernelspec": {
   "display_name": "Python 3 (ipykernel)",
   "language": "python",
   "name": "python3"
  },
  "language_info": {
   "codemirror_mode": {
    "name": "ipython",
    "version": 3
   },
   "file_extension": ".py",
   "mimetype": "text/x-python",
   "name": "python",
   "nbconvert_exporter": "python",
   "pygments_lexer": "ipython3",
   "version": "3.9.13"
  }
 },
 "nbformat": 4,
 "nbformat_minor": 5
}

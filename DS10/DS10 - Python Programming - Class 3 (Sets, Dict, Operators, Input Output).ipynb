{
 "cells": [
  {
   "cell_type": "markdown",
   "id": "cc931b53",
   "metadata": {},
   "source": [
    "# Sets in Python"
   ]
  },
  {
   "cell_type": "markdown",
   "id": "818bc83d",
   "metadata": {},
   "source": [
    "**Properties of sets**\n",
    "\n",
    "    1) Duplicates are not allowed \n",
    "    2) Heterogeneous data allowed \n",
    "    3) Sets are mutable in nature\n",
    "    4) Curly brackets to create the sets\n",
    "    5) Values in the sets are always sorted in the ascending order \n",
    "    6) We cannot slice the sets as there is no concepts of index in the sets"
   ]
  },
  {
   "cell_type": "code",
   "execution_count": 135,
   "id": "af0a0bad",
   "metadata": {},
   "outputs": [],
   "source": [
    "set1 = {21,22,12,21,43,44,32,21,10}"
   ]
  },
  {
   "cell_type": "code",
   "execution_count": 5,
   "id": "89fbbe6b",
   "metadata": {},
   "outputs": [
    {
     "data": {
      "text/plain": [
       "7"
      ]
     },
     "execution_count": 5,
     "metadata": {},
     "output_type": "execute_result"
    }
   ],
   "source": [
    "len(set1)"
   ]
  },
  {
   "cell_type": "code",
   "execution_count": 6,
   "id": "8d90152d",
   "metadata": {},
   "outputs": [
    {
     "data": {
      "text/plain": [
       "10"
      ]
     },
     "execution_count": 6,
     "metadata": {},
     "output_type": "execute_result"
    }
   ],
   "source": [
    "min(set1)"
   ]
  },
  {
   "cell_type": "code",
   "execution_count": 7,
   "id": "f30476c6",
   "metadata": {},
   "outputs": [
    {
     "data": {
      "text/plain": [
       "44"
      ]
     },
     "execution_count": 7,
     "metadata": {},
     "output_type": "execute_result"
    }
   ],
   "source": [
    "max(set1)"
   ]
  },
  {
   "cell_type": "code",
   "execution_count": 8,
   "id": "5a61481f",
   "metadata": {},
   "outputs": [],
   "source": [
    "del set1"
   ]
  },
  {
   "cell_type": "code",
   "execution_count": 11,
   "id": "5afa7e0d",
   "metadata": {},
   "outputs": [
    {
     "data": {
      "text/plain": [
       "{10, 12, 21, 22, 32, 43, 44}"
      ]
     },
     "execution_count": 11,
     "metadata": {},
     "output_type": "execute_result"
    }
   ],
   "source": [
    "set1"
   ]
  },
  {
   "cell_type": "code",
   "execution_count": 14,
   "id": "23e17f23",
   "metadata": {},
   "outputs": [],
   "source": [
    "set1 = {'A',12,10.5,True}"
   ]
  },
  {
   "cell_type": "code",
   "execution_count": 15,
   "id": "ec26265b",
   "metadata": {},
   "outputs": [
    {
     "data": {
      "text/plain": [
       "{10.5, 12, 'A', True}"
      ]
     },
     "execution_count": 15,
     "metadata": {},
     "output_type": "execute_result"
    }
   ],
   "source": [
    "set1"
   ]
  },
  {
   "cell_type": "markdown",
   "id": "40489bb6",
   "metadata": {},
   "source": [
    "**add** - Add will add the single value in the set based on the ascending order"
   ]
  },
  {
   "cell_type": "code",
   "execution_count": 20,
   "id": "06a52a15",
   "metadata": {},
   "outputs": [],
   "source": [
    "set1.add(100)"
   ]
  },
  {
   "cell_type": "code",
   "execution_count": 22,
   "id": "282c8dec",
   "metadata": {},
   "outputs": [],
   "source": [
    "set1.add(5)"
   ]
  },
  {
   "cell_type": "code",
   "execution_count": 23,
   "id": "223c7eb9",
   "metadata": {},
   "outputs": [
    {
     "data": {
      "text/plain": [
       "{5, 10, 12, 21, 22, 32, 43, 44, 100}"
      ]
     },
     "execution_count": 23,
     "metadata": {},
     "output_type": "execute_result"
    }
   ],
   "source": [
    "set1"
   ]
  },
  {
   "cell_type": "markdown",
   "id": "0b35527a",
   "metadata": {},
   "source": [
    "**update** - Helps to add the multiple values in the set"
   ]
  },
  {
   "cell_type": "code",
   "execution_count": 25,
   "id": "be0305b6",
   "metadata": {},
   "outputs": [],
   "source": [
    "set1.update([101,102,103])"
   ]
  },
  {
   "cell_type": "code",
   "execution_count": 26,
   "id": "0caeb9f0",
   "metadata": {},
   "outputs": [
    {
     "data": {
      "text/plain": [
       "{5, 10, 12, 21, 22, 32, 43, 44, 100, 101, 102, 103}"
      ]
     },
     "execution_count": 26,
     "metadata": {},
     "output_type": "execute_result"
    }
   ],
   "source": [
    "set1"
   ]
  },
  {
   "cell_type": "markdown",
   "id": "bbd82aa5",
   "metadata": {},
   "source": [
    "**clear** - Clear the values from the set, the structure will be there or set1 variable will be there, it just remove the values from the set"
   ]
  },
  {
   "cell_type": "code",
   "execution_count": 27,
   "id": "269dd8f9",
   "metadata": {},
   "outputs": [],
   "source": [
    "set1.clear()"
   ]
  },
  {
   "cell_type": "code",
   "execution_count": 28,
   "id": "525faef6",
   "metadata": {},
   "outputs": [
    {
     "data": {
      "text/plain": [
       "set()"
      ]
     },
     "execution_count": 28,
     "metadata": {},
     "output_type": "execute_result"
    }
   ],
   "source": [
    "set1"
   ]
  },
  {
   "cell_type": "markdown",
   "id": "fec38cb6",
   "metadata": {},
   "source": [
    "**copy()** - Copy will create a backup of the set"
   ]
  },
  {
   "cell_type": "code",
   "execution_count": 30,
   "id": "4f633971",
   "metadata": {},
   "outputs": [],
   "source": [
    "set2 = set1.copy()"
   ]
  },
  {
   "cell_type": "code",
   "execution_count": 31,
   "id": "76d5ebda",
   "metadata": {},
   "outputs": [
    {
     "data": {
      "text/plain": [
       "2092957220416"
      ]
     },
     "execution_count": 31,
     "metadata": {},
     "output_type": "execute_result"
    }
   ],
   "source": [
    "id(set1)"
   ]
  },
  {
   "cell_type": "code",
   "execution_count": 32,
   "id": "f5572408",
   "metadata": {},
   "outputs": [
    {
     "data": {
      "text/plain": [
       "2092957435040"
      ]
     },
     "execution_count": 32,
     "metadata": {},
     "output_type": "execute_result"
    }
   ],
   "source": [
    "id(set2)"
   ]
  },
  {
   "cell_type": "code",
   "execution_count": 33,
   "id": "fc357cb3",
   "metadata": {},
   "outputs": [
    {
     "data": {
      "text/plain": [
       "{10, 12, 21, 22, 32, 43, 44}"
      ]
     },
     "execution_count": 33,
     "metadata": {},
     "output_type": "execute_result"
    }
   ],
   "source": [
    "set1"
   ]
  },
  {
   "cell_type": "markdown",
   "id": "c85655b1",
   "metadata": {},
   "source": [
    "**discard** - It removes the value from the set, discard if we run again when the value is not there, it will still run but does not have any impact on the set plus there will not be any error"
   ]
  },
  {
   "cell_type": "code",
   "execution_count": 114,
   "id": "eed7dbfd",
   "metadata": {},
   "outputs": [],
   "source": [
    "set1.discard(44)"
   ]
  },
  {
   "cell_type": "code",
   "execution_count": 115,
   "id": "ea477321",
   "metadata": {},
   "outputs": [
    {
     "data": {
      "text/plain": [
       "{10, 12, 21, 22, 32}"
      ]
     },
     "execution_count": 115,
     "metadata": {},
     "output_type": "execute_result"
    }
   ],
   "source": [
    "set1"
   ]
  },
  {
   "cell_type": "markdown",
   "id": "3aab1976",
   "metadata": {},
   "source": [
    "**remove** - It removes the value from the set and if the value is not present it will throw the error"
   ]
  },
  {
   "cell_type": "code",
   "execution_count": 116,
   "id": "c0e52de7",
   "metadata": {},
   "outputs": [
    {
     "ename": "KeyError",
     "evalue": "43",
     "output_type": "error",
     "traceback": [
      "\u001b[1;31m---------------------------------------------------------------------------\u001b[0m",
      "\u001b[1;31mKeyError\u001b[0m                                  Traceback (most recent call last)",
      "\u001b[1;32m~\\AppData\\Local\\Temp\\ipykernel_44984\\921040128.py\u001b[0m in \u001b[0;36m<module>\u001b[1;34m\u001b[0m\n\u001b[1;32m----> 1\u001b[1;33m \u001b[0mset1\u001b[0m\u001b[1;33m.\u001b[0m\u001b[0mremove\u001b[0m\u001b[1;33m(\u001b[0m\u001b[1;36m43\u001b[0m\u001b[1;33m)\u001b[0m\u001b[1;33m\u001b[0m\u001b[1;33m\u001b[0m\u001b[0m\n\u001b[0m",
      "\u001b[1;31mKeyError\u001b[0m: 43"
     ]
    }
   ],
   "source": [
    "set1.remove(43)"
   ]
  },
  {
   "cell_type": "markdown",
   "id": "700dd212",
   "metadata": {},
   "source": [
    "**pop** - Need to check the change in the logic"
   ]
  },
  {
   "cell_type": "code",
   "execution_count": 136,
   "id": "6282d791",
   "metadata": {},
   "outputs": [
    {
     "data": {
      "text/plain": [
       "{10, 12, 21, 22, 32, 43, 44}"
      ]
     },
     "execution_count": 136,
     "metadata": {},
     "output_type": "execute_result"
    }
   ],
   "source": [
    "set1"
   ]
  },
  {
   "cell_type": "code",
   "execution_count": 137,
   "id": "cb0ce574",
   "metadata": {},
   "outputs": [
    {
     "data": {
      "text/plain": [
       "32"
      ]
     },
     "execution_count": 137,
     "metadata": {},
     "output_type": "execute_result"
    }
   ],
   "source": [
    "set1.pop()"
   ]
  },
  {
   "cell_type": "code",
   "execution_count": 151,
   "id": "0871f791",
   "metadata": {},
   "outputs": [],
   "source": [
    "set1 = {1,2,3,4,5,6}\n",
    "set2 = {4,5,6}\n",
    "set3 = {5,6,7,8}\n",
    "set4 = {10,11,12,13}"
   ]
  },
  {
   "cell_type": "markdown",
   "id": "b9d728f0",
   "metadata": {},
   "source": [
    "**difference** - It will give all the values from set1, which are not common"
   ]
  },
  {
   "cell_type": "code",
   "execution_count": 140,
   "id": "fb65488f",
   "metadata": {},
   "outputs": [
    {
     "data": {
      "text/plain": [
       "{1, 2, 3, 4}"
      ]
     },
     "execution_count": 140,
     "metadata": {},
     "output_type": "execute_result"
    }
   ],
   "source": [
    "set1.difference(set3)"
   ]
  },
  {
   "cell_type": "markdown",
   "id": "8a1263ce",
   "metadata": {},
   "source": [
    "**difference_update** - It will give update the values of set1 from set1.difference(set3), which are not common"
   ]
  },
  {
   "cell_type": "code",
   "execution_count": 143,
   "id": "6e3d5b1c",
   "metadata": {},
   "outputs": [],
   "source": [
    "set1.difference_update(set3)"
   ]
  },
  {
   "cell_type": "code",
   "execution_count": 144,
   "id": "b69ba7c2",
   "metadata": {},
   "outputs": [
    {
     "data": {
      "text/plain": [
       "{1, 2, 3, 4}"
      ]
     },
     "execution_count": 144,
     "metadata": {},
     "output_type": "execute_result"
    }
   ],
   "source": [
    "set1"
   ]
  },
  {
   "cell_type": "markdown",
   "id": "b4107e98",
   "metadata": {},
   "source": [
    "**symmetric_difference** - It will give all the values from set1 and set3, which are not common"
   ]
  },
  {
   "cell_type": "code",
   "execution_count": 141,
   "id": "7d9d7938",
   "metadata": {},
   "outputs": [
    {
     "data": {
      "text/plain": [
       "{1, 2, 3, 4, 7, 8}"
      ]
     },
     "execution_count": 141,
     "metadata": {},
     "output_type": "execute_result"
    }
   ],
   "source": [
    "set1.symmetric_difference(set3)"
   ]
  },
  {
   "cell_type": "markdown",
   "id": "9cc85bb4",
   "metadata": {},
   "source": [
    "**symmetric_difference_update** - It will update set1 with all the uncommon values from set1 and set3"
   ]
  },
  {
   "cell_type": "code",
   "execution_count": 146,
   "id": "d41ce10b",
   "metadata": {},
   "outputs": [],
   "source": [
    "set1.symmetric_difference_update(set3)"
   ]
  },
  {
   "cell_type": "code",
   "execution_count": 147,
   "id": "5bbfcd09",
   "metadata": {},
   "outputs": [
    {
     "data": {
      "text/plain": [
       "{1, 2, 3, 4, 7, 8}"
      ]
     },
     "execution_count": 147,
     "metadata": {},
     "output_type": "execute_result"
    }
   ],
   "source": [
    "set1"
   ]
  },
  {
   "cell_type": "markdown",
   "id": "63a90606",
   "metadata": {},
   "source": [
    "**intersection** - It will give all the values from set1 and set3, which are common"
   ]
  },
  {
   "cell_type": "code",
   "execution_count": 142,
   "id": "3a7691ab",
   "metadata": {},
   "outputs": [
    {
     "data": {
      "text/plain": [
       "{5, 6}"
      ]
     },
     "execution_count": 142,
     "metadata": {},
     "output_type": "execute_result"
    }
   ],
   "source": [
    "set1.intersection(set3)"
   ]
  },
  {
   "cell_type": "markdown",
   "id": "0625edda",
   "metadata": {},
   "source": [
    "**intersection_update** - It will update set1 with all the values from set1 and set3, which are common"
   ]
  },
  {
   "cell_type": "code",
   "execution_count": 149,
   "id": "b1f93439",
   "metadata": {},
   "outputs": [],
   "source": [
    "set1.intersection_update(set3)"
   ]
  },
  {
   "cell_type": "code",
   "execution_count": 164,
   "id": "8227ee57",
   "metadata": {},
   "outputs": [
    {
     "data": {
      "text/plain": [
       "{1, 2, 3, 4, 5, 6}"
      ]
     },
     "execution_count": 164,
     "metadata": {},
     "output_type": "execute_result"
    }
   ],
   "source": [
    "set1"
   ]
  },
  {
   "cell_type": "code",
   "execution_count": 152,
   "id": "60a94b4a",
   "metadata": {},
   "outputs": [],
   "source": [
    "set1 = {1,2,3,4,5,6}\n",
    "set2 = {4,5,6}\n",
    "set3 = {5,6,7,8}\n",
    "set4 = {10,11,12,13}"
   ]
  },
  {
   "cell_type": "markdown",
   "id": "37a3a554",
   "metadata": {},
   "source": [
    "**isdisjoint** - It will give the output in True or False, if there are no common values it will give True"
   ]
  },
  {
   "cell_type": "code",
   "execution_count": 153,
   "id": "3dc7aef6",
   "metadata": {},
   "outputs": [
    {
     "data": {
      "text/plain": [
       "True"
      ]
     },
     "execution_count": 153,
     "metadata": {},
     "output_type": "execute_result"
    }
   ],
   "source": [
    "set1.isdisjoint(set4)"
   ]
  },
  {
   "cell_type": "markdown",
   "id": "8af8e37a",
   "metadata": {},
   "source": [
    "**issuperset** - All the elements of set2 are present in set1"
   ]
  },
  {
   "cell_type": "code",
   "execution_count": 154,
   "id": "820e03d8",
   "metadata": {},
   "outputs": [
    {
     "data": {
      "text/plain": [
       "True"
      ]
     },
     "execution_count": 154,
     "metadata": {},
     "output_type": "execute_result"
    }
   ],
   "source": [
    "set1.issuperset(set2)"
   ]
  },
  {
   "cell_type": "markdown",
   "id": "3322d417",
   "metadata": {},
   "source": [
    "**issubset** - Set1 consists of all the values of set2 and some extra value as well"
   ]
  },
  {
   "cell_type": "code",
   "execution_count": 155,
   "id": "0965d42a",
   "metadata": {},
   "outputs": [
    {
     "data": {
      "text/plain": [
       "True"
      ]
     },
     "execution_count": 155,
     "metadata": {},
     "output_type": "execute_result"
    }
   ],
   "source": [
    "set2.issubset(set1)"
   ]
  },
  {
   "cell_type": "markdown",
   "id": "cac423c2",
   "metadata": {},
   "source": [
    "**Union** - It will combine the values of the multiple sets, this is same as Union in SQL and not Union All"
   ]
  },
  {
   "cell_type": "code",
   "execution_count": 157,
   "id": "cd8a2e2a",
   "metadata": {},
   "outputs": [],
   "source": [
    "output = set1.union(set4)"
   ]
  },
  {
   "cell_type": "code",
   "execution_count": 158,
   "id": "eb7a3e73",
   "metadata": {},
   "outputs": [
    {
     "data": {
      "text/plain": [
       "{1, 2, 3, 4, 5, 6, 10, 11, 12, 13}"
      ]
     },
     "execution_count": 158,
     "metadata": {},
     "output_type": "execute_result"
    }
   ],
   "source": [
    "output"
   ]
  },
  {
   "cell_type": "markdown",
   "id": "c480c0a7",
   "metadata": {},
   "source": [
    "**Frozenset** - Immutable in nature"
   ]
  },
  {
   "cell_type": "code",
   "execution_count": 160,
   "id": "0dec73e2",
   "metadata": {},
   "outputs": [],
   "source": [
    "fsset = frozenset(set1)"
   ]
  },
  {
   "cell_type": "code",
   "execution_count": 162,
   "id": "e2fe7cbe",
   "metadata": {},
   "outputs": [
    {
     "data": {
      "text/plain": [
       "frozenset"
      ]
     },
     "execution_count": 162,
     "metadata": {},
     "output_type": "execute_result"
    }
   ],
   "source": [
    "type(fsset)"
   ]
  },
  {
   "cell_type": "code",
   "execution_count": 165,
   "id": "fc22aaee",
   "metadata": {},
   "outputs": [
    {
     "data": {
      "text/plain": [
       "frozenset({1, 2, 3, 4, 5, 6})"
      ]
     },
     "execution_count": 165,
     "metadata": {},
     "output_type": "execute_result"
    }
   ],
   "source": [
    "fsset"
   ]
  },
  {
   "cell_type": "markdown",
   "id": "209f851f",
   "metadata": {},
   "source": [
    "**Sets** - When we are having duplicates and we need to remove those then we can create the set and all the duplicates will get removed"
   ]
  },
  {
   "cell_type": "markdown",
   "id": "13e7b620",
   "metadata": {},
   "source": [
    "# Dictionaries"
   ]
  },
  {
   "cell_type": "markdown",
   "id": "0fe6759e",
   "metadata": {},
   "source": [
    "**Its a key value pair concept where keys and values are seperated by colon :**\n",
    "\n",
    "    1) Created by curly brackets"
   ]
  },
  {
   "cell_type": "code",
   "execution_count": 166,
   "id": "a914c4fa",
   "metadata": {},
   "outputs": [],
   "source": [
    "student_details = {'stuid':1, 'sname':'A','sregion':'N'}"
   ]
  },
  {
   "cell_type": "code",
   "execution_count": 168,
   "id": "1146cf4d",
   "metadata": {},
   "outputs": [
    {
     "data": {
      "text/plain": [
       "dict"
      ]
     },
     "execution_count": 168,
     "metadata": {},
     "output_type": "execute_result"
    }
   ],
   "source": [
    "type(student_details)"
   ]
  },
  {
   "cell_type": "code",
   "execution_count": 179,
   "id": "6b662989",
   "metadata": {},
   "outputs": [],
   "source": [
    "student_details = {'stuid':[1,2,3,4,5], 'sname':['A','B','C','D','E'], 'sregion':['N','S','S','E','W']}"
   ]
  },
  {
   "cell_type": "markdown",
   "id": "b07b224e",
   "metadata": {},
   "source": [
    "**We can pass tuple as well in place of list, but the values will not get updated when it is a tuple**"
   ]
  },
  {
   "cell_type": "code",
   "execution_count": 170,
   "id": "eef4d02b",
   "metadata": {},
   "outputs": [
    {
     "data": {
      "text/plain": [
       "{'stuid': [1, 2, 3, 4, 5],\n",
       " 'sname': ['A', 'B', 'C', 'D', 'E'],\n",
       " 'sregion': ['N', 'S', 'S', 'E', 'W']}"
      ]
     },
     "execution_count": 170,
     "metadata": {},
     "output_type": "execute_result"
    }
   ],
   "source": [
    "student_details"
   ]
  },
  {
   "cell_type": "code",
   "execution_count": 173,
   "id": "0b39c734",
   "metadata": {},
   "outputs": [],
   "source": [
    "student_details['stuid'][0]=10"
   ]
  },
  {
   "cell_type": "markdown",
   "id": "f1226805",
   "metadata": {},
   "source": [
    "**Length command will count the number of Key Value pairs**"
   ]
  },
  {
   "cell_type": "code",
   "execution_count": 175,
   "id": "a09974c1",
   "metadata": {},
   "outputs": [
    {
     "data": {
      "text/plain": [
       "3"
      ]
     },
     "execution_count": 175,
     "metadata": {},
     "output_type": "execute_result"
    }
   ],
   "source": [
    "len(student_details)"
   ]
  },
  {
   "cell_type": "markdown",
   "id": "3b6ee845",
   "metadata": {},
   "source": [
    "**clear** - It will clear the values from the dictionary and make it as an empty dictionary"
   ]
  },
  {
   "cell_type": "code",
   "execution_count": 177,
   "id": "597d4363",
   "metadata": {},
   "outputs": [],
   "source": [
    "student_details.clear()"
   ]
  },
  {
   "cell_type": "code",
   "execution_count": 178,
   "id": "8a900a7e",
   "metadata": {},
   "outputs": [
    {
     "data": {
      "text/plain": [
       "{}"
      ]
     },
     "execution_count": 178,
     "metadata": {},
     "output_type": "execute_result"
    }
   ],
   "source": [
    "student_details"
   ]
  },
  {
   "cell_type": "markdown",
   "id": "dbcbe067",
   "metadata": {},
   "source": [
    "**copy** - It will create a backup of the dictionary"
   ]
  },
  {
   "cell_type": "code",
   "execution_count": 180,
   "id": "7536f7e1",
   "metadata": {},
   "outputs": [],
   "source": [
    "stu_dict = student_details.copy()"
   ]
  },
  {
   "cell_type": "code",
   "execution_count": 181,
   "id": "e8da1479",
   "metadata": {},
   "outputs": [
    {
     "data": {
      "text/plain": [
       "2092955480640"
      ]
     },
     "execution_count": 181,
     "metadata": {},
     "output_type": "execute_result"
    }
   ],
   "source": [
    "id(student_details)"
   ]
  },
  {
   "cell_type": "code",
   "execution_count": 182,
   "id": "76becc3d",
   "metadata": {},
   "outputs": [
    {
     "data": {
      "text/plain": [
       "2092956249408"
      ]
     },
     "execution_count": 182,
     "metadata": {},
     "output_type": "execute_result"
    }
   ],
   "source": [
    "id(stu_dict)"
   ]
  },
  {
   "cell_type": "markdown",
   "id": "e1f3f07d",
   "metadata": {},
   "source": [
    "**get** - It will give the values of the key passed in that command"
   ]
  },
  {
   "cell_type": "code",
   "execution_count": 183,
   "id": "9db8f285",
   "metadata": {},
   "outputs": [
    {
     "data": {
      "text/plain": [
       "[1, 2, 3, 4, 5]"
      ]
     },
     "execution_count": 183,
     "metadata": {},
     "output_type": "execute_result"
    }
   ],
   "source": [
    "student_details.get('stuid')"
   ]
  },
  {
   "cell_type": "code",
   "execution_count": 184,
   "id": "333a1a99",
   "metadata": {},
   "outputs": [
    {
     "data": {
      "text/plain": [
       "[1, 2, 3, 4, 5]"
      ]
     },
     "execution_count": 184,
     "metadata": {},
     "output_type": "execute_result"
    }
   ],
   "source": [
    "student_details['stuid']"
   ]
  },
  {
   "cell_type": "markdown",
   "id": "f96c8c5e",
   "metadata": {},
   "source": [
    "**items** - It will give all the key value pairs together"
   ]
  },
  {
   "cell_type": "code",
   "execution_count": 185,
   "id": "3e7c7a12",
   "metadata": {},
   "outputs": [
    {
     "data": {
      "text/plain": [
       "dict_items([('stuid', [1, 2, 3, 4, 5]), ('sname', ['A', 'B', 'C', 'D', 'E']), ('sregion', ['N', 'S', 'S', 'E', 'W'])])"
      ]
     },
     "execution_count": 185,
     "metadata": {},
     "output_type": "execute_result"
    }
   ],
   "source": [
    "student_details.items()"
   ]
  },
  {
   "cell_type": "markdown",
   "id": "1f5bbf35",
   "metadata": {},
   "source": [
    "**keys** - It will give all the keys from the dictionary"
   ]
  },
  {
   "cell_type": "code",
   "execution_count": 186,
   "id": "2490166a",
   "metadata": {},
   "outputs": [
    {
     "data": {
      "text/plain": [
       "dict_keys(['stuid', 'sname', 'sregion'])"
      ]
     },
     "execution_count": 186,
     "metadata": {},
     "output_type": "execute_result"
    }
   ],
   "source": [
    "student_details.keys()"
   ]
  },
  {
   "cell_type": "markdown",
   "id": "b5d3b054",
   "metadata": {},
   "source": [
    "**values** - It will give all the values from the dictionary"
   ]
  },
  {
   "cell_type": "code",
   "execution_count": 187,
   "id": "f624d12a",
   "metadata": {},
   "outputs": [
    {
     "data": {
      "text/plain": [
       "dict_values([[1, 2, 3, 4, 5], ['A', 'B', 'C', 'D', 'E'], ['N', 'S', 'S', 'E', 'W']])"
      ]
     },
     "execution_count": 187,
     "metadata": {},
     "output_type": "execute_result"
    }
   ],
   "source": [
    "student_details.values()"
   ]
  },
  {
   "cell_type": "markdown",
   "id": "912aea3b",
   "metadata": {},
   "source": [
    "**pop** - Pop will remove the key value pair of that key passed inside the bracket"
   ]
  },
  {
   "cell_type": "code",
   "execution_count": 189,
   "id": "3fb5ccfc",
   "metadata": {},
   "outputs": [
    {
     "data": {
      "text/plain": [
       "[1, 2, 3, 4, 5]"
      ]
     },
     "execution_count": 189,
     "metadata": {},
     "output_type": "execute_result"
    }
   ],
   "source": [
    "student_details.pop('stuid')"
   ]
  },
  {
   "cell_type": "code",
   "execution_count": 191,
   "id": "9a6a016e",
   "metadata": {},
   "outputs": [],
   "source": [
    "student_details['stu_name'] = student_details.pop('sname')"
   ]
  },
  {
   "cell_type": "markdown",
   "id": "5aa32b30",
   "metadata": {},
   "source": [
    "**popitem** - It will remove the last key value pair"
   ]
  },
  {
   "cell_type": "code",
   "execution_count": 193,
   "id": "e452c813",
   "metadata": {},
   "outputs": [
    {
     "data": {
      "text/plain": [
       "('stu_name', ['A', 'B', 'C', 'D', 'E'])"
      ]
     },
     "execution_count": 193,
     "metadata": {},
     "output_type": "execute_result"
    }
   ],
   "source": [
    "student_details.popitem()"
   ]
  },
  {
   "cell_type": "markdown",
   "id": "25e717ad",
   "metadata": {},
   "source": [
    "**setdefault** - It will create a new key with None as value"
   ]
  },
  {
   "cell_type": "code",
   "execution_count": 195,
   "id": "46a1c9cb",
   "metadata": {},
   "outputs": [],
   "source": [
    "student_details.setdefault('Sname')"
   ]
  },
  {
   "cell_type": "code",
   "execution_count": 196,
   "id": "21efdce3",
   "metadata": {},
   "outputs": [
    {
     "data": {
      "text/plain": [
       "{'sregion': ['N', 'S', 'S', 'E', 'W'], 'Sname': None}"
      ]
     },
     "execution_count": 196,
     "metadata": {},
     "output_type": "execute_result"
    }
   ],
   "source": [
    "student_details"
   ]
  },
  {
   "cell_type": "code",
   "execution_count": 198,
   "id": "4a347a42",
   "metadata": {},
   "outputs": [],
   "source": [
    "student_details['Sname'] = ['A','B','C','D','E']"
   ]
  },
  {
   "cell_type": "code",
   "execution_count": 200,
   "id": "d2433808",
   "metadata": {},
   "outputs": [
    {
     "data": {
      "text/plain": [
       "['A', 'B', 'C', 'D', 'E']"
      ]
     },
     "execution_count": 200,
     "metadata": {},
     "output_type": "execute_result"
    }
   ],
   "source": [
    "student_details.setdefault('Sname')"
   ]
  },
  {
   "cell_type": "code",
   "execution_count": 201,
   "id": "7032bb5c",
   "metadata": {},
   "outputs": [
    {
     "data": {
      "text/plain": [
       "{'sregion': ['N', 'S', 'S', 'E', 'W'], 'Sname': ['A', 'B', 'C', 'D', 'E']}"
      ]
     },
     "execution_count": 201,
     "metadata": {},
     "output_type": "execute_result"
    }
   ],
   "source": [
    "student_details"
   ]
  },
  {
   "cell_type": "markdown",
   "id": "a15f3fe7",
   "metadata": {},
   "source": [
    "**We cannot have the same keys multiple times**"
   ]
  },
  {
   "cell_type": "code",
   "execution_count": 202,
   "id": "576e9028",
   "metadata": {},
   "outputs": [],
   "source": [
    "dict1 = {'A':1,'A':2}"
   ]
  },
  {
   "cell_type": "code",
   "execution_count": 203,
   "id": "7b0e055b",
   "metadata": {},
   "outputs": [
    {
     "data": {
      "text/plain": [
       "{'A': 2}"
      ]
     },
     "execution_count": 203,
     "metadata": {},
     "output_type": "execute_result"
    }
   ],
   "source": [
    "dict1"
   ]
  },
  {
   "cell_type": "code",
   "execution_count": 204,
   "id": "30b04206",
   "metadata": {},
   "outputs": [],
   "source": [
    "dict1 = {1:2,3:4,5:6}\n",
    "dict2 = {1:10,10:12}"
   ]
  },
  {
   "cell_type": "code",
   "execution_count": 206,
   "id": "e09005b9",
   "metadata": {},
   "outputs": [],
   "source": [
    "dict1.update(dict2)"
   ]
  },
  {
   "cell_type": "code",
   "execution_count": 207,
   "id": "24c32f11",
   "metadata": {},
   "outputs": [
    {
     "data": {
      "text/plain": [
       "{1: 10, 3: 4, 5: 6, 10: 12}"
      ]
     },
     "execution_count": 207,
     "metadata": {},
     "output_type": "execute_result"
    }
   ],
   "source": [
    "dict1"
   ]
  },
  {
   "cell_type": "code",
   "execution_count": 209,
   "id": "4849796e",
   "metadata": {},
   "outputs": [
    {
     "data": {
      "text/plain": [
       "{'stuid': [1, 2, 3, 4, 5],\n",
       " 'sname': ['A', 'B', 'C', 'D', 'E'],\n",
       " 'sregion': ['N', 'S', 'S', 'E', 'W']}"
      ]
     },
     "execution_count": 209,
     "metadata": {},
     "output_type": "execute_result"
    }
   ],
   "source": [
    "stu_dict"
   ]
  },
  {
   "cell_type": "code",
   "execution_count": 210,
   "id": "4bdcc265",
   "metadata": {},
   "outputs": [],
   "source": [
    "import pandas as pd"
   ]
  },
  {
   "cell_type": "code",
   "execution_count": 211,
   "id": "e9f5da9e",
   "metadata": {},
   "outputs": [
    {
     "data": {
      "text/html": [
       "<div>\n",
       "<style scoped>\n",
       "    .dataframe tbody tr th:only-of-type {\n",
       "        vertical-align: middle;\n",
       "    }\n",
       "\n",
       "    .dataframe tbody tr th {\n",
       "        vertical-align: top;\n",
       "    }\n",
       "\n",
       "    .dataframe thead th {\n",
       "        text-align: right;\n",
       "    }\n",
       "</style>\n",
       "<table border=\"1\" class=\"dataframe\">\n",
       "  <thead>\n",
       "    <tr style=\"text-align: right;\">\n",
       "      <th></th>\n",
       "      <th>stuid</th>\n",
       "      <th>sname</th>\n",
       "      <th>sregion</th>\n",
       "    </tr>\n",
       "  </thead>\n",
       "  <tbody>\n",
       "    <tr>\n",
       "      <th>0</th>\n",
       "      <td>1</td>\n",
       "      <td>A</td>\n",
       "      <td>N</td>\n",
       "    </tr>\n",
       "    <tr>\n",
       "      <th>1</th>\n",
       "      <td>2</td>\n",
       "      <td>B</td>\n",
       "      <td>S</td>\n",
       "    </tr>\n",
       "    <tr>\n",
       "      <th>2</th>\n",
       "      <td>3</td>\n",
       "      <td>C</td>\n",
       "      <td>S</td>\n",
       "    </tr>\n",
       "    <tr>\n",
       "      <th>3</th>\n",
       "      <td>4</td>\n",
       "      <td>D</td>\n",
       "      <td>E</td>\n",
       "    </tr>\n",
       "    <tr>\n",
       "      <th>4</th>\n",
       "      <td>5</td>\n",
       "      <td>E</td>\n",
       "      <td>W</td>\n",
       "    </tr>\n",
       "  </tbody>\n",
       "</table>\n",
       "</div>"
      ],
      "text/plain": [
       "   stuid sname sregion\n",
       "0      1     A       N\n",
       "1      2     B       S\n",
       "2      3     C       S\n",
       "3      4     D       E\n",
       "4      5     E       W"
      ]
     },
     "execution_count": 211,
     "metadata": {},
     "output_type": "execute_result"
    }
   ],
   "source": [
    "pd.DataFrame(stu_dict)"
   ]
  },
  {
   "cell_type": "markdown",
   "id": "72aa6c36",
   "metadata": {},
   "source": [
    "**Range** - It generates the number from the given range"
   ]
  },
  {
   "cell_type": "code",
   "execution_count": 212,
   "id": "1dcca7a8",
   "metadata": {},
   "outputs": [
    {
     "data": {
      "text/plain": [
       "[0, 1, 2, 3, 4, 5, 6, 7, 8, 9]"
      ]
     },
     "execution_count": 212,
     "metadata": {},
     "output_type": "execute_result"
    }
   ],
   "source": [
    "list(range(0,10))"
   ]
  },
  {
   "cell_type": "code",
   "execution_count": 213,
   "id": "bd16c539",
   "metadata": {},
   "outputs": [
    {
     "data": {
      "text/plain": [
       "[0, 2, 4, 6, 8]"
      ]
     },
     "execution_count": 213,
     "metadata": {},
     "output_type": "execute_result"
    }
   ],
   "source": [
    "list(range(0,10,2))"
   ]
  },
  {
   "cell_type": "code",
   "execution_count": 217,
   "id": "61ab7db6",
   "metadata": {},
   "outputs": [
    {
     "data": {
      "text/plain": [
       "[100, 90, 80, 70, 60, 50, 40, 30, 20]"
      ]
     },
     "execution_count": 217,
     "metadata": {},
     "output_type": "execute_result"
    }
   ],
   "source": [
    "list(range(100,10,-10))"
   ]
  },
  {
   "cell_type": "markdown",
   "id": "85aec79a",
   "metadata": {},
   "source": [
    "**NoneType** -  It is like a placeholder, we dont know the value but in future value may come"
   ]
  },
  {
   "cell_type": "code",
   "execution_count": 218,
   "id": "4a43452c",
   "metadata": {},
   "outputs": [],
   "source": [
    "Output = None"
   ]
  },
  {
   "cell_type": "code",
   "execution_count": 227,
   "id": "4d055ebc",
   "metadata": {},
   "outputs": [
    {
     "data": {
      "text/plain": [
       "NoneType"
      ]
     },
     "execution_count": 227,
     "metadata": {},
     "output_type": "execute_result"
    }
   ],
   "source": [
    "type(Output)"
   ]
  },
  {
   "cell_type": "markdown",
   "id": "8df7ee5f",
   "metadata": {},
   "source": [
    "# Operators in Python"
   ]
  },
  {
   "cell_type": "markdown",
   "id": "2c1e00b8",
   "metadata": {},
   "source": [
    "**Arithmetic**\n",
    "\n",
    "    1) + (Addition) \n",
    "    2) - (Subtraction)\n",
    "    3) * (Multiplication)\n",
    "    4) / (Division)\n",
    "    5) // (Floor Division)\n",
    "    6) % (Modulo)\n",
    "    7) ** (Power)"
   ]
  },
  {
   "cell_type": "code",
   "execution_count": 228,
   "id": "928c656c",
   "metadata": {},
   "outputs": [
    {
     "name": "stdout",
     "output_type": "stream",
     "text": [
      "num1+num2:  13\n",
      "num1-num2:  7\n",
      "num1*num2:  30\n",
      "num1/num2:  3.3333333333333335\n",
      "num1//num2:  3\n",
      "num1%num2:  1\n",
      "num1**num2:  1000\n"
     ]
    }
   ],
   "source": [
    "num1 = 10\n",
    "num2 = 3\n",
    "print('num1+num2: ', num1+num2)\n",
    "print('num1-num2: ', num1-num2)\n",
    "print('num1*num2: ', num1*num2)\n",
    "print('num1/num2: ', num1/num2)\n",
    "print('num1//num2: ', num1//num2)\n",
    "print('num1%num2: ', num1%num2)\n",
    "print('num1**num2: ', num1**num2)"
   ]
  },
  {
   "cell_type": "markdown",
   "id": "24d271cb",
   "metadata": {},
   "source": [
    "**When there are two string will be concatenate if we use + in between**"
   ]
  },
  {
   "cell_type": "code",
   "execution_count": 229,
   "id": "dbdbf820",
   "metadata": {},
   "outputs": [
    {
     "data": {
      "text/plain": [
       "'rahultiwari'"
      ]
     },
     "execution_count": 229,
     "metadata": {},
     "output_type": "execute_result"
    }
   ],
   "source": [
    "'rahul' + 'tiwari'"
   ]
  },
  {
   "cell_type": "code",
   "execution_count": 230,
   "id": "2c9ec359",
   "metadata": {},
   "outputs": [
    {
     "data": {
      "text/plain": [
       "'1020'"
      ]
     },
     "execution_count": 230,
     "metadata": {},
     "output_type": "execute_result"
    }
   ],
   "source": [
    "'10'+'20'"
   ]
  },
  {
   "cell_type": "markdown",
   "id": "eb791e92",
   "metadata": {},
   "source": [
    "**type casting - Converting the data into an integer from the string**"
   ]
  },
  {
   "cell_type": "code",
   "execution_count": 231,
   "id": "b68c4117",
   "metadata": {},
   "outputs": [
    {
     "data": {
      "text/plain": [
       "30"
      ]
     },
     "execution_count": 231,
     "metadata": {},
     "output_type": "execute_result"
    }
   ],
   "source": [
    "int('10') + int('20')"
   ]
  },
  {
   "cell_type": "markdown",
   "id": "32edfb53",
   "metadata": {},
   "source": [
    "**Relational or comparison**\n",
    "\n",
    "    1) < - Less Than \n",
    "    2) <= - Less Than Equal to \n",
    "    3) > - More Than \n",
    "    4) >= - More Than Equal to"
   ]
  },
  {
   "cell_type": "code",
   "execution_count": 232,
   "id": "6fdbafb8",
   "metadata": {},
   "outputs": [
    {
     "name": "stdout",
     "output_type": "stream",
     "text": [
      "num1<num2:  False\n",
      "num1<=num2:  False\n",
      "num1>num2:  True\n",
      "num1>=num2:  True\n"
     ]
    }
   ],
   "source": [
    "num1 = 10 \n",
    "num2 = 3\n",
    "print('num1<num2: ', num1<num2)\n",
    "print('num1<=num2: ', num1<=num2)\n",
    "print('num1>num2: ', num1>num2)\n",
    "print('num1>=num2: ', num1>=num2)"
   ]
  },
  {
   "cell_type": "markdown",
   "id": "a4a67ba8",
   "metadata": {},
   "source": [
    "**Equality**\n",
    "\n",
    "    1) == - Equals to \n",
    "    2) != - Not Equals to"
   ]
  },
  {
   "cell_type": "code",
   "execution_count": 236,
   "id": "4f7f14d5",
   "metadata": {},
   "outputs": [
    {
     "name": "stdout",
     "output_type": "stream",
     "text": [
      "num1==num2:  False\n",
      "num1!=num2:  True\n"
     ]
    }
   ],
   "source": [
    "num1 = 10 \n",
    "num2 = 3\n",
    "print('num1==num2: ', num1==num2)\n",
    "print('num1!=num2: ', num1!=num2)\n"
   ]
  },
  {
   "cell_type": "markdown",
   "id": "21e4066f",
   "metadata": {},
   "source": [
    "**Assignment Operator**\n",
    "\n",
    "    1) +=\n",
    "    2) -=\n",
    "    3) *=\n",
    "    4) /=\n",
    "    5) //=\n",
    "    6) %=\n",
    "    7) **="
   ]
  },
  {
   "cell_type": "code",
   "execution_count": 237,
   "id": "96610888",
   "metadata": {},
   "outputs": [
    {
     "data": {
      "text/plain": [
       "40"
      ]
     },
     "execution_count": 237,
     "metadata": {},
     "output_type": "execute_result"
    }
   ],
   "source": [
    "num1 = 10\n",
    "num1+=30\n",
    "num1"
   ]
  },
  {
   "cell_type": "code",
   "execution_count": 239,
   "id": "c6f953e0",
   "metadata": {},
   "outputs": [
    {
     "data": {
      "text/plain": [
       "1"
      ]
     },
     "execution_count": 239,
     "metadata": {},
     "output_type": "execute_result"
    }
   ],
   "source": [
    "num1 = 10 \n",
    "num1%=3\n",
    "num1"
   ]
  },
  {
   "cell_type": "code",
   "execution_count": 240,
   "id": "794fc97f",
   "metadata": {},
   "outputs": [
    {
     "data": {
      "text/plain": [
       "3"
      ]
     },
     "execution_count": 240,
     "metadata": {},
     "output_type": "execute_result"
    }
   ],
   "source": [
    "num1 = 10 \n",
    "num1//=3\n",
    "num1"
   ]
  },
  {
   "cell_type": "markdown",
   "id": "2df676be",
   "metadata": {},
   "source": [
    "**Ternary**"
   ]
  },
  {
   "cell_type": "code",
   "execution_count": 241,
   "id": "6c88663d",
   "metadata": {},
   "outputs": [
    {
     "data": {
      "text/plain": [
       "30"
      ]
     },
     "execution_count": 241,
     "metadata": {},
     "output_type": "execute_result"
    }
   ],
   "source": [
    "10 if 10>20 else 30 "
   ]
  },
  {
   "cell_type": "code",
   "execution_count": 242,
   "id": "c606d29a",
   "metadata": {},
   "outputs": [
    {
     "data": {
      "text/plain": [
       "10"
      ]
     },
     "execution_count": 242,
     "metadata": {},
     "output_type": "execute_result"
    }
   ],
   "source": [
    "10 if 10<20 else 30"
   ]
  },
  {
   "cell_type": "code",
   "execution_count": 243,
   "id": "05db826c",
   "metadata": {},
   "outputs": [
    {
     "data": {
      "text/plain": [
       "7"
      ]
     },
     "execution_count": 243,
     "metadata": {},
     "output_type": "execute_result"
    }
   ],
   "source": [
    "10 if 10>7>9 else 9 if 7>9 else 7"
   ]
  },
  {
   "cell_type": "code",
   "execution_count": 244,
   "id": "6ce7a37d",
   "metadata": {},
   "outputs": [
    {
     "data": {
      "text/plain": [
       "10"
      ]
     },
     "execution_count": 244,
     "metadata": {},
     "output_type": "execute_result"
    }
   ],
   "source": [
    "10 if 10>7 and 10>9 else 9 if 7>9 else 7"
   ]
  },
  {
   "cell_type": "code",
   "execution_count": 245,
   "id": "32a8c67e",
   "metadata": {},
   "outputs": [
    {
     "data": {
      "text/plain": [
       "10"
      ]
     },
     "execution_count": 245,
     "metadata": {},
     "output_type": "execute_result"
    }
   ],
   "source": [
    "10 if 10>7 or 1>9 else 9 if 7>9 else 7"
   ]
  },
  {
   "cell_type": "markdown",
   "id": "16ac44d1",
   "metadata": {},
   "source": [
    "**Special**\n",
    "\n",
    "    1) Identity Operator\n",
    "        a) is\n",
    "        b) is not\n",
    "        \n",
    "    2) Membership Operator\n",
    "        a) in \n",
    "        b) not it\n",
    "        \n",
    "        \n",
    "**Python by default generates number from -5 to 256 internally while launched, so if we are creating any number between this range it will use the initialied number that is why the memory location coming as same, however if we are going outside the range it will create seperate numbers for every instance and -5 to 256 range holds true only for the integers, it will not hold true for floats as there will be various infinte numbers between two numbers like 250.5 and 250.6 we can can have many numbers between this range**"
   ]
  },
  {
   "cell_type": "code",
   "execution_count": 248,
   "id": "725b0e0f",
   "metadata": {},
   "outputs": [
    {
     "name": "stdout",
     "output_type": "stream",
     "text": [
      "2092836874832\n",
      "2092836874832\n"
     ]
    },
    {
     "data": {
      "text/plain": [
       "True"
      ]
     },
     "execution_count": 248,
     "metadata": {},
     "output_type": "execute_result"
    }
   ],
   "source": [
    "a=10 \n",
    "b=10\n",
    "print(id(a))\n",
    "print(id(b))\n",
    "a is b"
   ]
  },
  {
   "cell_type": "code",
   "execution_count": 255,
   "id": "7385b521",
   "metadata": {},
   "outputs": [
    {
     "name": "stdout",
     "output_type": "stream",
     "text": [
      "2093369750128\n",
      "2093369750416\n"
     ]
    },
    {
     "data": {
      "text/plain": [
       "True"
      ]
     },
     "execution_count": 255,
     "metadata": {},
     "output_type": "execute_result"
    }
   ],
   "source": [
    "a=250.5\n",
    "b=250.5\n",
    "print(id(a))\n",
    "print(id(b))\n",
    "a is not b"
   ]
  },
  {
   "cell_type": "code",
   "execution_count": 257,
   "id": "99ead47c",
   "metadata": {},
   "outputs": [
    {
     "data": {
      "text/plain": [
       "False"
      ]
     },
     "execution_count": 257,
     "metadata": {},
     "output_type": "execute_result"
    }
   ],
   "source": [
    "list1 = [10,20,30,40,50]\n",
    "50 not in list1"
   ]
  },
  {
   "cell_type": "markdown",
   "id": "5d9042ee",
   "metadata": {},
   "source": [
    "# Input and Output"
   ]
  },
  {
   "cell_type": "markdown",
   "id": "e1aade5d",
   "metadata": {},
   "source": [
    "**input - It will always stores the value in the form of a string**"
   ]
  },
  {
   "cell_type": "code",
   "execution_count": 261,
   "id": "fb2a12e0",
   "metadata": {},
   "outputs": [
    {
     "name": "stdout",
     "output_type": "stream",
     "text": [
      "Enter the marks: 25\n"
     ]
    }
   ],
   "source": [
    "marks = int(input('Enter the marks: '))"
   ]
  },
  {
   "cell_type": "code",
   "execution_count": 262,
   "id": "2a858543",
   "metadata": {},
   "outputs": [
    {
     "data": {
      "text/plain": [
       "int"
      ]
     },
     "execution_count": 262,
     "metadata": {},
     "output_type": "execute_result"
    }
   ],
   "source": [
    "type(marks)"
   ]
  },
  {
   "cell_type": "code",
   "execution_count": 263,
   "id": "f83c53a2",
   "metadata": {},
   "outputs": [
    {
     "data": {
      "text/plain": [
       "25"
      ]
     },
     "execution_count": 263,
     "metadata": {},
     "output_type": "execute_result"
    }
   ],
   "source": [
    "marks"
   ]
  },
  {
   "cell_type": "code",
   "execution_count": 270,
   "id": "0fac1059",
   "metadata": {},
   "outputs": [
    {
     "name": "stdout",
     "output_type": "stream",
     "text": [
      "Hi\n",
      "Hello\n",
      "How are you? \n"
     ]
    }
   ],
   "source": [
    "print('Hi',end='\\n')\n",
    "print('Hello',end='\\n')\n",
    "print('How are you? ', end='\\n')"
   ]
  },
  {
   "cell_type": "code",
   "execution_count": 271,
   "id": "3e8aa8d2",
   "metadata": {},
   "outputs": [
    {
     "name": "stdout",
     "output_type": "stream",
     "text": [
      "Hi Hello How are you?  "
     ]
    }
   ],
   "source": [
    "print('Hi',end=' ')\n",
    "print('Hello',end=' ')\n",
    "print('How are you? ', end=' ')"
   ]
  },
  {
   "cell_type": "code",
   "execution_count": 277,
   "id": "921ede98",
   "metadata": {},
   "outputs": [
    {
     "name": "stdout",
     "output_type": "stream",
     "text": [
      "Rahul\n",
      "Gaurav\n",
      "Vaibhavi\n",
      "Rahul$Gaurav$Vaibhavi\n"
     ]
    }
   ],
   "source": [
    "a = 'Rahul'\n",
    "b = 'Gaurav'\n",
    "c = 'Vaibhavi'\n",
    "print(a,sep='$',end='\\n')\n",
    "print(b,sep='$')\n",
    "print(c,sep='$')\n",
    "\n",
    "print(a,b,c,sep='$')"
   ]
  },
  {
   "cell_type": "code",
   "execution_count": 269,
   "id": "b60acc89",
   "metadata": {},
   "outputs": [
    {
     "name": "stdout",
     "output_type": "stream",
     "text": [
      "Hi Hello How are you?\n"
     ]
    }
   ],
   "source": [
    "print('Hi Hello How are you?')"
   ]
  },
  {
   "cell_type": "code",
   "execution_count": 278,
   "id": "15a4da9b",
   "metadata": {},
   "outputs": [
    {
     "name": "stdout",
     "output_type": "stream",
     "text": [
      "Hello Rahul Your company is:  The Scholar Your salary is:  10000\n"
     ]
    }
   ],
   "source": [
    "name = 'Rahul'\n",
    "company = 'The Scholar'\n",
    "salary = 10000\n",
    "print('Hello', name, 'Your company is: ', company, 'Your salary is: ', salary)"
   ]
  },
  {
   "cell_type": "code",
   "execution_count": 280,
   "id": "31537f04",
   "metadata": {},
   "outputs": [
    {
     "name": "stdout",
     "output_type": "stream",
     "text": [
      "Hello Rahul, your salary is 10000 and your company is The Scholar\n"
     ]
    }
   ],
   "source": [
    "print('Hello {}, your salary is {} and your company is {}'.format(name,salary,company))"
   ]
  },
  {
   "cell_type": "code",
   "execution_count": 281,
   "id": "50ce4852",
   "metadata": {},
   "outputs": [
    {
     "name": "stdout",
     "output_type": "stream",
     "text": [
      "Hello The Scholar, your salary is Rahul and your company is 10000\n"
     ]
    }
   ],
   "source": [
    "print('Hello {}, your salary is {} and your company is {}'.format(company,name,salary))"
   ]
  },
  {
   "cell_type": "code",
   "execution_count": 282,
   "id": "6d908ea6",
   "metadata": {},
   "outputs": [
    {
     "name": "stdout",
     "output_type": "stream",
     "text": [
      "Hello Rahul, your salary is 10000 and your company is The Scholar\n"
     ]
    }
   ],
   "source": [
    "print('Hello {1}, your salary is {2} and your company is {0}'.format(company,name,salary))"
   ]
  },
  {
   "cell_type": "code",
   "execution_count": 283,
   "id": "1542aeb8",
   "metadata": {},
   "outputs": [
    {
     "name": "stdout",
     "output_type": "stream",
     "text": [
      "Hello Rahul, your salary is 10000 and your company is The Scholar\n"
     ]
    }
   ],
   "source": [
    "print('Hello {n}, your salary is {s} and your company is {c}'.format(c=company,n=name,s=salary))"
   ]
  }
 ],
 "metadata": {
  "kernelspec": {
   "display_name": "Python 3 (ipykernel)",
   "language": "python",
   "name": "python3"
  },
  "language_info": {
   "codemirror_mode": {
    "name": "ipython",
    "version": 3
   },
   "file_extension": ".py",
   "mimetype": "text/x-python",
   "name": "python",
   "nbconvert_exporter": "python",
   "pygments_lexer": "ipython3",
   "version": "3.9.13"
  }
 },
 "nbformat": 4,
 "nbformat_minor": 5
}

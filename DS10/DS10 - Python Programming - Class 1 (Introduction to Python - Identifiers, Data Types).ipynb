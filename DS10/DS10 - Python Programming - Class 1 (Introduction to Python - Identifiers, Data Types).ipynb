{
 "cells": [
  {
   "cell_type": "markdown",
   "id": "b35e5e73",
   "metadata": {},
   "source": [
    "# Python - An Introduction"
   ]
  },
  {
   "cell_type": "markdown",
   "id": "f34e082a",
   "metadata": {},
   "source": [
    "**Python - An open source programming language** \n",
    "\n",
    "**Multi purpose programming language**\n",
    "\n",
    "\t1) Desktop Application \n",
    "\t2) Web application (Django and Flask)\n",
    "\t3) Data Application\n",
    "\t4) Network Application\n",
    "\t5) Data Analytics or Data Science \n",
    "\t\ta) Machine Learning \n",
    "\t\tb) Artificial Intelligence or Deep Learning\n",
    "\t6) IoT Application\n",
    "\t7) Automation \n",
    "\t8) Integrate python with various other programming languages\n",
    "\t\n",
    "**Challenges**\n",
    "\n",
    "\t1) Slow programming language\n",
    "\t2) Mobile application\n",
    "\t\n",
    "**It is very easy to understand, its like an english language**\n",
    "\n",
    "**3 ways to install Python**\n",
    "\n",
    "\ta) Python.org - Packages like Numpy, Pandas etc will not come along, you have to explicitly install these packages. https://www.python.org/\n",
    "\tb) Anaconda.com (Preferred choice) - Numpy, Pandas etc come along https://www.anaconda.com/\n",
    "\tc) Google colab - Python on cloud - Numpy, Pandas etc come along https://colab.research.google.com/\n",
    "\t\n",
    "Once you install Python from anaconda you will get Anaconda prompt which is same as command prompt and anaconda navigator \n",
    "\n",
    "**We normally don't use prompt alot, but we can check what all packages are there in Python from (pip - Package management system) pip list command**\n",
    "\n",
    "pip install packagename \n",
    "For ex: pip install numpy \n",
    "\n",
    "pip uninstall packagename\n",
    "For ex: pip uninstall numpy\n",
    "\n",
    "conda install packagename\n",
    "conda uninstall packagename\n",
    "\n",
    "\n",
    "**Anaconda Navigator - Gives us all the IDE's (Integrated Development Environment, MySQL Workbench where we code)**\n",
    "\n",
    "\ta) Jupyter - Popular amongst all the Data Analysts and Data Scientist\n",
    "\tb) Pycharm\n",
    "\tc) Visual code \n",
    "\td) Idle \n",
    "\te) Atom \n",
    "\tf) Sublime text \n",
    "\tg) Spyder\n",
    "\n",
    "**Black Screen - Kernel which helps us to communicate between Python and Windows**\n",
    "\n",
    "\n",
    "**Jupyter - Julia, Python, R**\n",
    "\n",
    "\n",
    "**To save the file we can download as either .ipynb or .py**"
   ]
  },
  {
   "cell_type": "markdown",
   "id": "ec3b0a54",
   "metadata": {},
   "source": [
    "**Generate 6 digits OTP number 10 times**"
   ]
  },
  {
   "cell_type": "code",
   "execution_count": 4,
   "id": "250cff07",
   "metadata": {},
   "outputs": [
    {
     "name": "stdout",
     "output_type": "stream",
     "text": [
      "5 1 9 8 4 1\n",
      "4 4 3 5 3 1\n"
     ]
    }
   ],
   "source": [
    "from random import * \n",
    "for i in range(0,2):\n",
    "    print(randint(0,9),randint(0,9),randint(0,9),randint(0,9),randint(0,9),randint(0,9))"
   ]
  },
  {
   "cell_type": "markdown",
   "id": "5ffbaeed",
   "metadata": {},
   "source": [
    "**Version of Python**\n",
    "\n",
    "    1) Python 1.0 - 1994\n",
    "    2) Python 2.0 - 2000\n",
    "    3) Python 3.0 - 2008\n",
    "    4) Python 3.6.3 - 2016\n",
    "    5) Python 3.8.2 - 2020\n",
    "    6) Python 3.9 - 2020\n",
    "    7) Python 3.11.2\n",
    "    \n",
    "    Backward and forward compatibilty is not there\n",
    "\n",
    "    Functional Programming Language - In the C programming language it is well implemented\n",
    "    Object Oriented Programming Language - In the C++ programming language it is well implemented\n",
    "    Scripting Language - Perl and Shell scripting\n",
    "    Modular Programming - Modula 3 \n",
    "    Syntax of Python - C programming and ABC programming"
   ]
  },
  {
   "cell_type": "markdown",
   "id": "e3eab4a3",
   "metadata": {},
   "source": [
    "**Variables or Identifiers** \n",
    "\n",
    "    1) You can take alphabets, Python is a case sensitive programming language\n",
    "        a) We can place alphabets anywhere\n",
    "    \n",
    "    2) We can only use underscore _\n",
    "        a) We can place underscores anywhere in the variable name _cust, cust_, cu_st\n",
    "        \n",
    "    3) We can use numbers as well\n",
    "        a) We cannot start the variable name with numbers **123cust - Its wrong**, cust123, cu123st\n",
    "        \n",
    "    4) There are 36 python keywords which you cannot use as identifiers because it has some meaning in Python, we can get those 36 keywords using keyword module.\n",
    "       \n",
    "\n",
    "Press tab to get the values that is known as intellisense\n",
    "Python is a dynamically typed programming language\n",
    "\n",
    "If you are passing a values with quotes '', \"\", it will consider it as a string datatype\n",
    "\n",
    "    1) String \n",
    "    2) Integer\n",
    "    3) Float\n",
    "    4) Boolean\n"
   ]
  },
  {
   "cell_type": "code",
   "execution_count": 46,
   "id": "7eddffe5",
   "metadata": {},
   "outputs": [
    {
     "data": {
      "text/plain": [
       "['False',\n",
       " 'None',\n",
       " 'True',\n",
       " '__peg_parser__',\n",
       " 'and',\n",
       " 'as',\n",
       " 'assert',\n",
       " 'async',\n",
       " 'await',\n",
       " 'break',\n",
       " 'class',\n",
       " 'continue',\n",
       " 'def',\n",
       " 'del',\n",
       " 'elif',\n",
       " 'else',\n",
       " 'except',\n",
       " 'finally',\n",
       " 'for',\n",
       " 'from',\n",
       " 'global',\n",
       " 'if',\n",
       " 'import',\n",
       " 'in',\n",
       " 'is',\n",
       " 'lambda',\n",
       " 'nonlocal',\n",
       " 'not',\n",
       " 'or',\n",
       " 'pass',\n",
       " 'raise',\n",
       " 'return',\n",
       " 'try',\n",
       " 'while',\n",
       " 'with',\n",
       " 'yield']"
      ]
     },
     "execution_count": 46,
     "metadata": {},
     "output_type": "execute_result"
    }
   ],
   "source": [
    "import keyword \n",
    "keyword.kwlist"
   ]
  },
  {
   "cell_type": "code",
   "execution_count": 48,
   "id": "02a06364",
   "metadata": {},
   "outputs": [],
   "source": [
    "false = 'Rahul'"
   ]
  },
  {
   "cell_type": "code",
   "execution_count": 49,
   "id": "8e890541",
   "metadata": {},
   "outputs": [
    {
     "data": {
      "text/plain": [
       "'Rahul'"
      ]
     },
     "execution_count": 49,
     "metadata": {},
     "output_type": "execute_result"
    }
   ],
   "source": [
    "false"
   ]
  },
  {
   "cell_type": "code",
   "execution_count": 45,
   "id": "7142f86c",
   "metadata": {},
   "outputs": [],
   "source": [
    "cust = 'James'\n",
    "CUST = 'John'"
   ]
  },
  {
   "cell_type": "code",
   "execution_count": 40,
   "id": "50450d34",
   "metadata": {},
   "outputs": [
    {
     "data": {
      "text/plain": [
       "'James'"
      ]
     },
     "execution_count": 40,
     "metadata": {},
     "output_type": "execute_result"
    }
   ],
   "source": [
    "cust"
   ]
  },
  {
   "cell_type": "code",
   "execution_count": 41,
   "id": "568c1426",
   "metadata": {},
   "outputs": [
    {
     "data": {
      "text/plain": [
       "'John'"
      ]
     },
     "execution_count": 41,
     "metadata": {},
     "output_type": "execute_result"
    }
   ],
   "source": [
    "CUST"
   ]
  },
  {
   "cell_type": "code",
   "execution_count": 43,
   "id": "cbe84c15",
   "metadata": {},
   "outputs": [],
   "source": [
    "ins_name = 'Rahul'"
   ]
  },
  {
   "cell_type": "code",
   "execution_count": 18,
   "id": "30316dcb",
   "metadata": {},
   "outputs": [
    {
     "data": {
      "text/plain": [
       "str"
      ]
     },
     "execution_count": 18,
     "metadata": {},
     "output_type": "execute_result"
    }
   ],
   "source": [
    "type(ins_name)"
   ]
  },
  {
   "cell_type": "code",
   "execution_count": 19,
   "id": "3c4e2e7f",
   "metadata": {},
   "outputs": [],
   "source": [
    "sales = 150.5"
   ]
  },
  {
   "cell_type": "code",
   "execution_count": 21,
   "id": "fe7113f8",
   "metadata": {},
   "outputs": [
    {
     "data": {
      "text/plain": [
       "float"
      ]
     },
     "execution_count": 21,
     "metadata": {},
     "output_type": "execute_result"
    }
   ],
   "source": [
    "type(sales)"
   ]
  },
  {
   "cell_type": "code",
   "execution_count": 29,
   "id": "f7af603a",
   "metadata": {},
   "outputs": [],
   "source": [
    "quantity = '10'"
   ]
  },
  {
   "cell_type": "code",
   "execution_count": 30,
   "id": "09cec1be",
   "metadata": {},
   "outputs": [
    {
     "data": {
      "text/plain": [
       "str"
      ]
     },
     "execution_count": 30,
     "metadata": {},
     "output_type": "execute_result"
    }
   ],
   "source": [
    "type(quantity)"
   ]
  },
  {
   "cell_type": "code",
   "execution_count": 33,
   "id": "5bd39392",
   "metadata": {},
   "outputs": [],
   "source": [
    "a = sales>0"
   ]
  },
  {
   "cell_type": "code",
   "execution_count": 35,
   "id": "bf7e4c25",
   "metadata": {},
   "outputs": [
    {
     "data": {
      "text/plain": [
       "bool"
      ]
     },
     "execution_count": 35,
     "metadata": {},
     "output_type": "execute_result"
    }
   ],
   "source": [
    "type(a)"
   ]
  },
  {
   "cell_type": "markdown",
   "id": "bdb47a66",
   "metadata": {},
   "source": [
    "**To delete the variables we can use the del command**"
   ]
  },
  {
   "cell_type": "code",
   "execution_count": 27,
   "id": "8f3b1c02",
   "metadata": {},
   "outputs": [],
   "source": [
    "del quatity"
   ]
  },
  {
   "cell_type": "code",
   "execution_count": 28,
   "id": "b0ae0bd5",
   "metadata": {},
   "outputs": [
    {
     "ename": "NameError",
     "evalue": "name 'quatity' is not defined",
     "output_type": "error",
     "traceback": [
      "\u001b[1;31m---------------------------------------------------------------------------\u001b[0m",
      "\u001b[1;31mNameError\u001b[0m                                 Traceback (most recent call last)",
      "\u001b[1;32m~\\AppData\\Local\\Temp\\ipykernel_8096\\661113321.py\u001b[0m in \u001b[0;36m<module>\u001b[1;34m\u001b[0m\n\u001b[1;32m----> 1\u001b[1;33m \u001b[0mquatity\u001b[0m\u001b[1;33m\u001b[0m\u001b[1;33m\u001b[0m\u001b[0m\n\u001b[0m",
      "\u001b[1;31mNameError\u001b[0m: name 'quatity' is not defined"
     ]
    }
   ],
   "source": [
    "quatity"
   ]
  }
 ],
 "metadata": {
  "kernelspec": {
   "display_name": "Python 3 (ipykernel)",
   "language": "python",
   "name": "python3"
  },
  "language_info": {
   "codemirror_mode": {
    "name": "ipython",
    "version": 3
   },
   "file_extension": ".py",
   "mimetype": "text/x-python",
   "name": "python",
   "nbconvert_exporter": "python",
   "pygments_lexer": "ipython3",
   "version": "3.9.13"
  }
 },
 "nbformat": 4,
 "nbformat_minor": 5
}

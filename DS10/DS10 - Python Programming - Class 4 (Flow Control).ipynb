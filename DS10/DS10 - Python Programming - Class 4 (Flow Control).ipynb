{
 "cells": [
  {
   "cell_type": "markdown",
   "id": "75b6e5bb",
   "metadata": {},
   "source": [
    "# Flow Control"
   ]
  },
  {
   "cell_type": "markdown",
   "id": "b03e1471",
   "metadata": {},
   "source": [
    "**if and else - Based on the satisfying conditions we can get the output**"
   ]
  },
  {
   "cell_type": "markdown",
   "id": "16de242d",
   "metadata": {},
   "source": [
    "**Syntax**\n",
    "\n",
    "if condition:\n",
    "\n",
    "    perform the task if the above condition is satisfied\n",
    "    \n",
    "else:\n",
    "\n",
    "    perform the task if the if condition is not satisfied\n",
    "    \n",
    "**So the colon : is important after every condition and tab indentation is important as well**"
   ]
  },
  {
   "cell_type": "code",
   "execution_count": 5,
   "id": "20aef65c",
   "metadata": {},
   "outputs": [
    {
     "name": "stdout",
     "output_type": "stream",
     "text": [
      "Enter the marks: 54\n",
      "You passed the exam\n"
     ]
    }
   ],
   "source": [
    "marks = int(input('Enter the marks: '))\n",
    "if marks<40:\n",
    "    print('You failed the exam')\n",
    "    print('Hi')\n",
    "else:\n",
    "    print('You passed the exam')   "
   ]
  },
  {
   "cell_type": "markdown",
   "id": "fcafcd9d",
   "metadata": {},
   "source": [
    "**File \"C:\\Users\\rahul\\AppData\\Local\\Temp\\ipykernel_44752\\979632592.py\", line 3**\n",
    "\n",
    "    print('You failed the exam')\n",
    "    ^\n",
    "    \n",
    "**IndentationError: expected an indented block**"
   ]
  },
  {
   "cell_type": "markdown",
   "id": "9242490f",
   "metadata": {},
   "source": [
    "**After the condition all the lines should be in the tab indentation before else**"
   ]
  },
  {
   "cell_type": "code",
   "execution_count": 8,
   "id": "5b491d07",
   "metadata": {},
   "outputs": [
    {
     "name": "stdout",
     "output_type": "stream",
     "text": [
      "Enter the marks: 54\n",
      "You passed the exam\n",
      "Hello\n"
     ]
    }
   ],
   "source": [
    "marks = int(input('Enter the marks: '))\n",
    "if marks<40:\n",
    "    print('You failed the exam')\n",
    "    print('Hi')\n",
    "else:\n",
    "    print('You passed the exam')   \n",
    "    print('Hello')"
   ]
  },
  {
   "cell_type": "code",
   "execution_count": 11,
   "id": "127019d3",
   "metadata": {},
   "outputs": [
    {
     "name": "stdout",
     "output_type": "stream",
     "text": [
      "Enter the marks: 54\n",
      "You passed the exam\n",
      "Hello\n"
     ]
    }
   ],
   "source": [
    "marks = int(input('Enter the marks: '))\n",
    "if marks<40:\n",
    "    print('You failed the exam')\n",
    "    print('Hi')\n",
    "else:\n",
    "    print('You passed the exam')   \n",
    "#This hello is outside the if else block\n",
    "print('Hello')"
   ]
  },
  {
   "cell_type": "code",
   "execution_count": 14,
   "id": "d52ac03d",
   "metadata": {},
   "outputs": [
    {
     "name": "stdout",
     "output_type": "stream",
     "text": [
      "Enter the marks: 79\n",
      "You got excellent marks\n"
     ]
    }
   ],
   "source": [
    "marks = int(input('Enter the marks: '))\n",
    "if marks<40:\n",
    "    print('You failed the exam')\n",
    "elif marks>=40 and marks<=60:\n",
    "    print('You got an average marks')\n",
    "else:\n",
    "    print('You got excellent marks')"
   ]
  },
  {
   "cell_type": "code",
   "execution_count": null,
   "id": "f2e33595",
   "metadata": {},
   "outputs": [],
   "source": [
    "if\n",
    "elif\n",
    "elif\n",
    ".\n",
    ".\n",
    ".\n",
    ".\n",
    ".\n",
    "else"
   ]
  },
  {
   "cell_type": "code",
   "execution_count": 17,
   "id": "56884230",
   "metadata": {},
   "outputs": [
    {
     "name": "stdout",
     "output_type": "stream",
     "text": [
      "Enter the marks: 76\n",
      "You got excellent marks\n"
     ]
    }
   ],
   "source": [
    "marks = int(input('Enter the marks: '))\n",
    "if marks<40:\n",
    "    print('You failed the exam')\n",
    "elif marks>=40 and marks<=60:\n",
    "    print('You got an average marks')\n",
    "elif marks>60:\n",
    "    print('You got excellent marks')"
   ]
  },
  {
   "cell_type": "markdown",
   "id": "e75640de",
   "metadata": {},
   "source": [
    "**Banking Examples for If and Else**"
   ]
  },
  {
   "cell_type": "markdown",
   "id": "c8ff2b28",
   "metadata": {},
   "source": [
    "1) Account Balance Check"
   ]
  },
  {
   "cell_type": "code",
   "execution_count": 19,
   "id": "0ab17ca8",
   "metadata": {},
   "outputs": [
    {
     "name": "stdout",
     "output_type": "stream",
     "text": [
      "Enter the account balance: 4550\n",
      "Your account is in good standing\n"
     ]
    }
   ],
   "source": [
    "account_balance = int(input('Enter the account balance: '))\n",
    "if account_balance>0:\n",
    "    print('Your account is in good standing')\n",
    "else:\n",
    "    print('Your account balance is negative, please take action')"
   ]
  },
  {
   "cell_type": "markdown",
   "id": "7379e015",
   "metadata": {},
   "source": [
    "2) Loan Eligibility"
   ]
  },
  {
   "cell_type": "code",
   "execution_count": 22,
   "id": "70639d98",
   "metadata": {},
   "outputs": [
    {
     "name": "stdout",
     "output_type": "stream",
     "text": [
      "Enter the income: 67000\n",
      "Enter the credit score: 877\n",
      "You are eligible for the loan, congratulations!!!\n"
     ]
    }
   ],
   "source": [
    "income = int(input('Enter the income: '))\n",
    "credit_score = int(input('Enter the credit score: '))\n",
    "\n",
    "if income>50000 and credit_score>750:\n",
    "    print('You are eligible for the loan, congratulations!!!')\n",
    "else:\n",
    "    print('You are not eligible for the loan, Sorry!!!')"
   ]
  },
  {
   "cell_type": "markdown",
   "id": "99cb5f21",
   "metadata": {},
   "source": [
    "3) Withdrawal Limit Check"
   ]
  },
  {
   "cell_type": "code",
   "execution_count": 24,
   "id": "50ecc6cf",
   "metadata": {},
   "outputs": [
    {
     "name": "stdout",
     "output_type": "stream",
     "text": [
      "Enter the amount you want to withdraw: 500\n",
      "Withdrawal Successful\n"
     ]
    }
   ],
   "source": [
    "withdrawal_amount = int(input('Enter the amount you want to withdraw: '))\n",
    "daily_limit = 1000\n",
    "\n",
    "if withdrawal_amount<=daily_limit:\n",
    "    print('Withdrawal Successful')\n",
    "else:\n",
    "    print('Withdrawal amount exceeds the daily limit')"
   ]
  },
  {
   "cell_type": "markdown",
   "id": "1107a5ab",
   "metadata": {},
   "source": [
    "4) Transaction Fee Calculations - Nested If else"
   ]
  },
  {
   "cell_type": "code",
   "execution_count": 29,
   "id": "7dd86efd",
   "metadata": {},
   "outputs": [
    {
     "name": "stdout",
     "output_type": "stream",
     "text": [
      "Enter the transaction amount: 4\n",
      "Enter the transaction type: withdrawal\n",
      "Total amount:  6\n"
     ]
    }
   ],
   "source": [
    "transaction_amount = int(input('Enter the transaction amount: '))\n",
    "transaction_type = input('Enter the transaction type: ')\n",
    "\n",
    "if transaction_type=='withdrawal':\n",
    "    if transaction_amount>1000:\n",
    "        transaction_fee = 5\n",
    "    elif transaction_amount<=1000:\n",
    "        transaction_fee = 2\n",
    "elif transaction_type=='deposit':\n",
    "    transaction_fee = 0\n",
    "else:\n",
    "    print('Please pass the correct option')\n",
    "    \n",
    "total_amount = transaction_amount+transaction_fee\n",
    "print('Total amount: ', total_amount)\n",
    "        "
   ]
  },
  {
   "cell_type": "markdown",
   "id": "ac0f36df",
   "metadata": {},
   "source": [
    "5) Tax calculator"
   ]
  },
  {
   "cell_type": "code",
   "execution_count": 37,
   "id": "79199f51",
   "metadata": {},
   "outputs": [
    {
     "name": "stdout",
     "output_type": "stream",
     "text": [
      "Enter the salary: 25000\n",
      "The total tax you have to pay is:  7500.0\n"
     ]
    }
   ],
   "source": [
    "income = int(input('Enter the salary: '))\n",
    "if income>=0 and income<=2500:\n",
    "    print('The total tax you have to pay is: ', income*0.00)\n",
    "elif income>2500 and income<=5000:\n",
    "    print('The total tax you have to pay is: ', income*0.05)\n",
    "elif income>5000 and income<=10000:\n",
    "    print('The total tax you have to pay is: ', income*0.10)\n",
    "elif income>10000 and income<=20000:\n",
    "    print('The total tax you have to pay is: ', income*0.20)\n",
    "elif income>20000:\n",
    "    print('The total tax you have to pay is: ', income*0.30)\n",
    "else:\n",
    "    print('Income cannot be negative')"
   ]
  },
  {
   "cell_type": "markdown",
   "id": "e2987590",
   "metadata": {},
   "source": [
    "**For Loops - When you want to iterate on something for example: Tuples, Lists, Sets, String....**"
   ]
  },
  {
   "cell_type": "code",
   "execution_count": null,
   "id": "9f850f0e",
   "metadata": {},
   "outputs": [],
   "source": [
    "for i in something:\n",
    "    getoutput"
   ]
  },
  {
   "cell_type": "code",
   "execution_count": 39,
   "id": "1350f3e7",
   "metadata": {},
   "outputs": [
    {
     "name": "stdout",
     "output_type": "stream",
     "text": [
      "A B C D E "
     ]
    }
   ],
   "source": [
    "stu_list = ['A','B','C','D','E']\n",
    "for i in stu_list:\n",
    "    print(i,end=' ')"
   ]
  },
  {
   "cell_type": "code",
   "execution_count": 42,
   "id": "66451fce",
   "metadata": {},
   "outputs": [
    {
     "name": "stdout",
     "output_type": "stream",
     "text": [
      "The Scholar"
     ]
    }
   ],
   "source": [
    "for i in 'The Scholar':\n",
    "    print(i,end='')"
   ]
  },
  {
   "cell_type": "markdown",
   "id": "6735ba07",
   "metadata": {},
   "source": [
    "**Banking Example - For Loops**"
   ]
  },
  {
   "cell_type": "markdown",
   "id": "ff44e517",
   "metadata": {},
   "source": [
    "1) Profit Ratio"
   ]
  },
  {
   "cell_type": "code",
   "execution_count": 51,
   "id": "d0de9e32",
   "metadata": {},
   "outputs": [],
   "source": [
    "sales = [3454,2234,5443,2321,444,566,7777,78888,88888,454543]\n",
    "profit = [455,333,221,122,44,33,33,44,544,44]"
   ]
  },
  {
   "cell_type": "markdown",
   "id": "2e8cd802",
   "metadata": {},
   "source": [
    "**We cannot divide a list by list**"
   ]
  },
  {
   "cell_type": "code",
   "execution_count": 44,
   "id": "dbac740c",
   "metadata": {},
   "outputs": [
    {
     "ename": "TypeError",
     "evalue": "unsupported operand type(s) for /: 'list' and 'list'",
     "output_type": "error",
     "traceback": [
      "\u001b[1;31m---------------------------------------------------------------------------\u001b[0m",
      "\u001b[1;31mTypeError\u001b[0m                                 Traceback (most recent call last)",
      "\u001b[1;32m~\\AppData\\Local\\Temp\\ipykernel_44752\\1026592185.py\u001b[0m in \u001b[0;36m<module>\u001b[1;34m\u001b[0m\n\u001b[1;32m----> 1\u001b[1;33m \u001b[0mprofit\u001b[0m\u001b[1;33m/\u001b[0m\u001b[0msales\u001b[0m\u001b[1;33m\u001b[0m\u001b[1;33m\u001b[0m\u001b[0m\n\u001b[0m",
      "\u001b[1;31mTypeError\u001b[0m: unsupported operand type(s) for /: 'list' and 'list'"
     ]
    }
   ],
   "source": [
    "profit/sales"
   ]
  },
  {
   "cell_type": "code",
   "execution_count": 47,
   "id": "c5c7c4a2",
   "metadata": {},
   "outputs": [
    {
     "name": "stdout",
     "output_type": "stream",
     "text": [
      "0.13173132599884194\n",
      "0.14905998209489704\n",
      "0.040602608855410616\n",
      "0.052563550193881946\n"
     ]
    }
   ],
   "source": [
    "for i in [0,1,2,3]:\n",
    "    print(profit[i]/sales[i])"
   ]
  },
  {
   "cell_type": "code",
   "execution_count": 54,
   "id": "301e081f",
   "metadata": {},
   "outputs": [],
   "source": [
    "profit_ratio = []\n",
    "for i in range(len(sales)):\n",
    "    profit_ratio.append(profit[i]/sales[i])"
   ]
  },
  {
   "cell_type": "code",
   "execution_count": 53,
   "id": "1c95c6e3",
   "metadata": {},
   "outputs": [
    {
     "data": {
      "text/plain": [
       "[0, 1, 2, 3, 4, 5, 6, 7, 8, 9]"
      ]
     },
     "execution_count": 53,
     "metadata": {},
     "output_type": "execute_result"
    }
   ],
   "source": [
    "list(range(0,len(sales)))"
   ]
  },
  {
   "cell_type": "code",
   "execution_count": 55,
   "id": "6126738e",
   "metadata": {},
   "outputs": [
    {
     "data": {
      "text/plain": [
       "[0.13173132599884194,\n",
       " 0.14905998209489704,\n",
       " 0.040602608855410616,\n",
       " 0.052563550193881946,\n",
       " 0.0990990990990991,\n",
       " 0.05830388692579505,\n",
       " 0.004243281471004243,\n",
       " 0.0005577527634114187,\n",
       " 0.006120061200612006,\n",
       " 9.68005227228227e-05]"
      ]
     },
     "execution_count": 55,
     "metadata": {},
     "output_type": "execute_result"
    }
   ],
   "source": [
    "profit_ratio"
   ]
  },
  {
   "cell_type": "markdown",
   "id": "15865ff3",
   "metadata": {},
   "source": [
    "2) Transaction History"
   ]
  },
  {
   "cell_type": "code",
   "execution_count": 56,
   "id": "5c4f1db5",
   "metadata": {},
   "outputs": [
    {
     "name": "stdout",
     "output_type": "stream",
     "text": [
      "Deposit:  50\n",
      "Withdraw:  20\n",
      "Deposit:  100\n",
      "Withdraw:  30\n",
      "Withdraw:  10\n"
     ]
    }
   ],
   "source": [
    "transaction_history = [50,-20,100,-30,-10]\n",
    "for i in transaction_history:\n",
    "    if i>0:\n",
    "        print('Deposit: ', i)\n",
    "    else:\n",
    "        print('Withdraw: ', abs(i))"
   ]
  },
  {
   "cell_type": "markdown",
   "id": "cc4d2f02",
   "metadata": {},
   "source": [
    "3) Account Summation"
   ]
  },
  {
   "cell_type": "code",
   "execution_count": 57,
   "id": "c3d77d1b",
   "metadata": {},
   "outputs": [
    {
     "name": "stdout",
     "output_type": "stream",
     "text": [
      "Total account balance: 6000\n"
     ]
    }
   ],
   "source": [
    "account_balance = [1000,2000,3000,2000,-5000,3000]\n",
    "total_balance = 0\n",
    "for balance in account_balance:\n",
    "    total_balance+=balance\n",
    "    \n",
    "print('Total account balance:', total_balance )"
   ]
  },
  {
   "cell_type": "markdown",
   "id": "3bbfca17",
   "metadata": {},
   "source": [
    "4) Interest Calculation"
   ]
  },
  {
   "cell_type": "code",
   "execution_count": 58,
   "id": "55977b34",
   "metadata": {},
   "outputs": [
    {
     "name": "stdout",
     "output_type": "stream",
     "text": [
      "Updated account balance:  [1050.0, 2100.0, 3150.0, 2100.0, 5250.0, 3150.0]\n"
     ]
    }
   ],
   "source": [
    "account_balance = [1000,2000,3000,2000,5000,3000]\n",
    "Interest_rate = 0.05\n",
    "\n",
    "#for i in account_balance:\n",
    "#    interest = Interest_rate*account_balance\n",
    "#    account_balance[]\n",
    " \n",
    "for i in range(len(account_balance)):\n",
    "    interest = Interest_rate*account_balance[i]\n",
    "    account_balance[i]+=interest\n",
    "    \n",
    "print('Updated account balance: ', account_balance)"
   ]
  },
  {
   "cell_type": "markdown",
   "id": "1fe28f08",
   "metadata": {},
   "source": [
    "4) Account closure"
   ]
  },
  {
   "cell_type": "code",
   "execution_count": 60,
   "id": "6de72584",
   "metadata": {},
   "outputs": [
    {
     "name": "stdout",
     "output_type": "stream",
     "text": [
      "Which account to close: 901234\n",
      "Account not found\n",
      "Account not found\n",
      "Account not found\n",
      "Closing account:  901234\n",
      "Remaining account:  [123456, 345678, 789012]\n"
     ]
    }
   ],
   "source": [
    "account_numbers = [123456,345678,789012,901234]\n",
    "account_to_close = int(input('Which account to close: '))\n",
    "\n",
    "for account in account_numbers:\n",
    "    if account==account_to_close:\n",
    "        print('Closing account: ', account)\n",
    "        account_numbers.remove(account)\n",
    "        break\n",
    "    else:\n",
    "        print('Account not found')\n",
    "        \n",
    "print('Remaining account: ', account_numbers)\n",
    "        "
   ]
  },
  {
   "cell_type": "code",
   "execution_count": 62,
   "id": "2c0c55d0",
   "metadata": {},
   "outputs": [
    {
     "name": "stdout",
     "output_type": "stream",
     "text": [
      "Which account to close: 901234\n",
      "Closing account:  901234\n",
      "Remaining account:  [123456, 345678, 789012]\n"
     ]
    }
   ],
   "source": [
    "account_numbers = [123456,345678,789012,901234]\n",
    "account_to_close = int(input('Which account to close: '))\n",
    "\n",
    "for account in account_numbers:\n",
    "    if account==account_to_close:\n",
    "        print('Closing account: ', account)\n",
    "        account_numbers.remove(account)\n",
    "        break\n",
    "        \n",
    "print('Remaining account: ', account_numbers)\n",
    "        "
   ]
  },
  {
   "cell_type": "markdown",
   "id": "6d2ee8ae",
   "metadata": {},
   "source": [
    "5) Account Statement"
   ]
  },
  {
   "cell_type": "code",
   "execution_count": 63,
   "id": "6545e48c",
   "metadata": {},
   "outputs": [],
   "source": [
    "account_transactions = [{'date':'2023-07-01', 'type':'Deposit', 'amount':100},\n",
    "                        {'date':'2023-07-02', 'type':'Withdraw', 'amount':50},\n",
    "                        {'date':'2023-07-03', 'type':'Deposit', 'amount':200},\n",
    "                        {'date':'2023-07-04', 'type':'Withdraw', 'amount':75}]"
   ]
  },
  {
   "cell_type": "code",
   "execution_count": 73,
   "id": "f3ed2ee3",
   "metadata": {},
   "outputs": [
    {
     "name": "stdout",
     "output_type": "stream",
     "text": [
      "Account Statement\n",
      "2023-07-01 - Deposit - 100\n",
      "2023-07-02 - Withdraw - 50\n",
      "2023-07-03 - Deposit - 200\n",
      "2023-07-04 - Withdraw - 75\n"
     ]
    }
   ],
   "source": [
    "print(\"Account Statement\")\n",
    "for transaction in account_transactions:\n",
    "    print(transaction['date'],\"-\",transaction['type'],\"-\",transaction['amount'])"
   ]
  },
  {
   "cell_type": "code",
   "execution_count": 75,
   "id": "fb24d474",
   "metadata": {},
   "outputs": [
    {
     "name": "stdout",
     "output_type": "stream",
     "text": [
      "2023-07-01 - Deposit - 100\n",
      "2023-07-02 - Withdraw - 50\n",
      "2023-07-03 - Deposit - 200\n",
      "2023-07-04 - Withdraw - 75\n"
     ]
    }
   ],
   "source": [
    "transaction_date = ['2023-07-01','2023-07-02','2023-07-03','2023-07-04']\n",
    "transaction_type = ['Deposit','Withdraw','Deposit','Withdraw']\n",
    "transaction_amount = [100,50,200,75]\n",
    "\n",
    "for (td,tt,ta) in zip(transaction_date,transaction_type,transaction_amount):\n",
    "    print(td,'-',tt,'-',ta)"
   ]
  },
  {
   "cell_type": "code",
   "execution_count": 76,
   "id": "b773abe2",
   "metadata": {},
   "outputs": [
    {
     "name": "stdout",
     "output_type": "stream",
     "text": [
      "2023-07-01 - Deposit - 100\n",
      "2023-07-02 - Withdraw - 50\n",
      "2023-07-03 - Deposit - 200\n",
      "2023-07-04 - Withdraw - 75\n"
     ]
    }
   ],
   "source": [
    "transaction_date = ['2023-07-01','2023-07-02','2023-07-03','2023-07-04','2023-07-05']\n",
    "transaction_type = ['Deposit','Withdraw','Deposit','Withdraw']\n",
    "transaction_amount = [100,50,200,75]\n",
    "\n",
    "for (td,tt,ta) in zip(transaction_date,transaction_type,transaction_amount):\n",
    "    print(td,'-',tt,'-',ta)"
   ]
  },
  {
   "cell_type": "code",
   "execution_count": 77,
   "id": "51a2fb71",
   "metadata": {},
   "outputs": [
    {
     "ename": "IndexError",
     "evalue": "list index out of range",
     "output_type": "error",
     "traceback": [
      "\u001b[1;31m---------------------------------------------------------------------------\u001b[0m",
      "\u001b[1;31mIndexError\u001b[0m                                Traceback (most recent call last)",
      "\u001b[1;32m~\\AppData\\Local\\Temp\\ipykernel_44752\\350376906.py\u001b[0m in \u001b[0;36m<module>\u001b[1;34m\u001b[0m\n\u001b[0;32m      3\u001b[0m \u001b[0mprofit_ratio\u001b[0m \u001b[1;33m=\u001b[0m \u001b[1;33m[\u001b[0m\u001b[1;33m]\u001b[0m\u001b[1;33m\u001b[0m\u001b[1;33m\u001b[0m\u001b[0m\n\u001b[0;32m      4\u001b[0m \u001b[1;32mfor\u001b[0m \u001b[0mi\u001b[0m \u001b[1;32min\u001b[0m \u001b[0mrange\u001b[0m\u001b[1;33m(\u001b[0m\u001b[0mlen\u001b[0m\u001b[1;33m(\u001b[0m\u001b[0msales\u001b[0m\u001b[1;33m)\u001b[0m\u001b[1;33m)\u001b[0m\u001b[1;33m:\u001b[0m\u001b[1;33m\u001b[0m\u001b[1;33m\u001b[0m\u001b[0m\n\u001b[1;32m----> 5\u001b[1;33m     \u001b[0mprofit_ratio\u001b[0m\u001b[1;33m.\u001b[0m\u001b[0mappend\u001b[0m\u001b[1;33m(\u001b[0m\u001b[0mprofit\u001b[0m\u001b[1;33m[\u001b[0m\u001b[0mi\u001b[0m\u001b[1;33m]\u001b[0m\u001b[1;33m/\u001b[0m\u001b[0msales\u001b[0m\u001b[1;33m[\u001b[0m\u001b[0mi\u001b[0m\u001b[1;33m]\u001b[0m\u001b[1;33m)\u001b[0m\u001b[1;33m\u001b[0m\u001b[1;33m\u001b[0m\u001b[0m\n\u001b[0m",
      "\u001b[1;31mIndexError\u001b[0m: list index out of range"
     ]
    }
   ],
   "source": [
    "sales = [3454,2234,5443,2321]\n",
    "profit = [455,333,221]\n",
    "profit_ratio = []\n",
    "for i in range(len(sales)):\n",
    "    profit_ratio.append(profit[i]/sales[i])"
   ]
  },
  {
   "cell_type": "markdown",
   "id": "371b4689",
   "metadata": {},
   "source": [
    "**While Loops - It will run till the time your condition is satisfied**"
   ]
  },
  {
   "cell_type": "code",
   "execution_count": null,
   "id": "6fd3d4c4",
   "metadata": {},
   "outputs": [],
   "source": [
    "while condition:\n",
    "    getoutput"
   ]
  },
  {
   "cell_type": "markdown",
   "id": "3009710b",
   "metadata": {},
   "source": [
    "**Below code will go for the infinite loop, because the condition will always be true**"
   ]
  },
  {
   "cell_type": "code",
   "execution_count": 78,
   "id": "64077ecd",
   "metadata": {},
   "outputs": [],
   "source": [
    "#while 1==1:\n",
    "#    print('Hi')"
   ]
  },
  {
   "cell_type": "code",
   "execution_count": 79,
   "id": "bb6f037d",
   "metadata": {},
   "outputs": [
    {
     "name": "stdout",
     "output_type": "stream",
     "text": [
      "Hello\n"
     ]
    }
   ],
   "source": [
    "while 1==2:\n",
    "    print('Hi')\n",
    "print('Hello')"
   ]
  },
  {
   "cell_type": "markdown",
   "id": "ca69584c",
   "metadata": {},
   "source": [
    "**Practical Example - While Loop**"
   ]
  },
  {
   "cell_type": "markdown",
   "id": "07150e85",
   "metadata": {},
   "source": [
    "1) Marketing campaign"
   ]
  },
  {
   "cell_type": "code",
   "execution_count": 80,
   "id": "90323d20",
   "metadata": {},
   "outputs": [
    {
     "name": "stdout",
     "output_type": "stream",
     "text": [
      "There are total: 5 coupouns left\n",
      "There are total: 4 coupouns left\n",
      "There are total: 3 coupouns left\n",
      "There are total: 2 coupouns left\n",
      "There are total: 1 coupouns left\n",
      "No coupouns left\n"
     ]
    }
   ],
   "source": [
    "coupouns = 5\n",
    "utilized = 0 \n",
    "\n",
    "while utilized<coupouns:\n",
    "    print('There are total:', coupouns-utilized, 'coupouns left')\n",
    "    utilized+=1\n",
    "print('No coupouns left')"
   ]
  },
  {
   "cell_type": "markdown",
   "id": "865d420b",
   "metadata": {},
   "source": [
    "2) Factorial of a number"
   ]
  },
  {
   "cell_type": "code",
   "execution_count": 85,
   "id": "222bcb4d",
   "metadata": {},
   "outputs": [
    {
     "name": "stdout",
     "output_type": "stream",
     "text": [
      "Enter the number: -10\n",
      "There is no factorial of a negative number\n"
     ]
    }
   ],
   "source": [
    "number = int(input('Enter the number: ')) \n",
    "\n",
    "if number<0:\n",
    "    print('There is no factorial of a negative number')\n",
    "else:\n",
    "    result = 1 \n",
    "    while number>=1:\n",
    "        result = result*number\n",
    "        number-=1\n",
    "    print(result)"
   ]
  },
  {
   "cell_type": "markdown",
   "id": "a4bedf76",
   "metadata": {},
   "source": [
    "3) Pin validation"
   ]
  },
  {
   "cell_type": "code",
   "execution_count": 88,
   "id": "8e341796",
   "metadata": {},
   "outputs": [
    {
     "name": "stdout",
     "output_type": "stream",
     "text": [
      "Enter your pin: 2222\n",
      "Pin accepted, Access Granted\n"
     ]
    }
   ],
   "source": [
    "correct_pin = 2222\n",
    "max_attempts = 3\n",
    "attempts = 0 \n",
    "\n",
    "while attempts<max_attempts:\n",
    "    pin = int(input('Enter your pin: '))\n",
    "    if pin==correct_pin:\n",
    "        print('Pin accepted, Access Granted')\n",
    "        break\n",
    "    else:\n",
    "        attempts+=1\n",
    "        print('Incorrect pin, Attempts remaining: ', max_attempts-attempts)\n",
    "        \n",
    "if attempts==max_attempts:\n",
    "    print('Max attempts reached, access denied')\n",
    "        "
   ]
  },
  {
   "cell_type": "markdown",
   "id": "90905d05",
   "metadata": {},
   "source": [
    "4) Account creation with unique account number"
   ]
  },
  {
   "cell_type": "code",
   "execution_count": 90,
   "id": "899ef50d",
   "metadata": {},
   "outputs": [
    {
     "name": "stdout",
     "output_type": "stream",
     "text": [
      "Account created successfully, account number:  8\n",
      "Account created successfully, account number:  [1, 5, 7, 9, 8]\n"
     ]
    }
   ],
   "source": [
    "import random\n",
    "existing_account_numbers = [1,5,7,9]\n",
    "new_account_number = random.randint(1,9)\n",
    "\n",
    "while new_account_number in existing_account_numbers:\n",
    "    new_account_number = random.randint(1,9)\n",
    "    \n",
    "existing_account_numbers.append(new_account_number)    \n",
    "print('Account created successfully, account number: ', new_account_number)\n",
    "print('Account created successfully, account number: ', existing_account_numbers)"
   ]
  },
  {
   "cell_type": "markdown",
   "id": "c4b3319f",
   "metadata": {},
   "source": [
    "5) Money withdrawal with balance validation"
   ]
  },
  {
   "cell_type": "code",
   "execution_count": 91,
   "id": "b6583afc",
   "metadata": {},
   "outputs": [
    {
     "name": "stdout",
     "output_type": "stream",
     "text": [
      "Enter the amount to withdraw: 2000\n",
      "Insufficient funds, available balance:  1000\n",
      "Enter the amount to withdraw: 50\n",
      "Invalid withdrawal amount, minimum withdrawal amount is:  100\n",
      "Enter the amount to withdraw: 200\n",
      "Withdrawal successful:  800.0\n"
     ]
    }
   ],
   "source": [
    "account_balance = 1000\n",
    "min_balance = 100\n",
    "\n",
    "withdrawal_amount = float(input('Enter the amount to withdraw: '))\n",
    "\n",
    "while withdrawal_amount>account_balance or withdrawal_amount<min_balance:\n",
    "    if withdrawal_amount>account_balance:\n",
    "        print(\"Insufficient funds, available balance: \", account_balance)\n",
    "    else:\n",
    "        print(\"Invalid withdrawal amount, minimum withdrawal amount is: \", min_balance)\n",
    "    withdrawal_amount = float(input('Enter the amount to withdraw: '))\n",
    "    \n",
    "account_balance -= withdrawal_amount\n",
    "print(\"Withdrawal successful: \", account_balance)"
   ]
  },
  {
   "cell_type": "markdown",
   "id": "6f9824d0",
   "metadata": {},
   "source": [
    "6) Interest Calculation "
   ]
  },
  {
   "cell_type": "code",
   "execution_count": 95,
   "id": "ba3648d4",
   "metadata": {},
   "outputs": [
    {
     "name": "stdout",
     "output_type": "stream",
     "text": [
      "Enter the amount which you need to invest: 500000\n",
      "Enter the interest rate: 0.10\n",
      "Enter the duration: 10\n",
      "Final account balance:  1296871.2300500001 after 10 years with the interest of  0.1\n"
     ]
    }
   ],
   "source": [
    "initial_investment = int(input('Enter the amount which you need to invest: '))\n",
    "interest_rate = float(input(\"Enter the interest rate: \"))\n",
    "duration = int(input(\"Enter the duration: \"))\n",
    "final_dur = duration\n",
    "while duration>=1:\n",
    "    interest = initial_investment*interest_rate\n",
    "    initial_investment+=interest\n",
    "    duration-=1\n",
    "    \n",
    "print(\"Final account balance: \", initial_investment, \"after\", final_dur, \"years with the interest of \", interest_rate )"
   ]
  }
 ],
 "metadata": {
  "kernelspec": {
   "display_name": "Python 3 (ipykernel)",
   "language": "python",
   "name": "python3"
  },
  "language_info": {
   "codemirror_mode": {
    "name": "ipython",
    "version": 3
   },
   "file_extension": ".py",
   "mimetype": "text/x-python",
   "name": "python",
   "nbconvert_exporter": "python",
   "pygments_lexer": "ipython3",
   "version": "3.9.13"
  }
 },
 "nbformat": 4,
 "nbformat_minor": 5
}

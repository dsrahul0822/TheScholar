{
 "cells": [
  {
   "cell_type": "markdown",
   "id": "3cad300c",
   "metadata": {},
   "source": [
    "**Filter()** - filter(function, list) - It will take two inputs one is the UDF (User Defined function) and second is one list or tuple or set\n",
    "If we are passing 5 values in the filter function it will give 5 or less than five values\n",
    "\n",
    "\n",
    "**Map()** - map(function, list) - It will take two inputs one is the UDF and other is the list, tuple, sets etc. \n",
    "If we pass 5 values in the map function it will return 5 values\n",
    "\n",
    "\n",
    "**Reduce()** - reduce(function, list) - It will take two inputs one is the UDF and other is the list, tuple, sets etc. \n",
    "If we pass 5 values in the reduce function it will return 1 value"
   ]
  },
  {
   "cell_type": "markdown",
   "id": "717434d9",
   "metadata": {},
   "source": [
    "**Filter()**"
   ]
  },
  {
   "cell_type": "markdown",
   "id": "8d6e4079",
   "metadata": {},
   "source": [
    "**Filtering the even numbers from the list**"
   ]
  },
  {
   "cell_type": "code",
   "execution_count": 5,
   "id": "bff43c36",
   "metadata": {},
   "outputs": [
    {
     "data": {
      "text/plain": [
       "[10, 14, 32, 22]"
      ]
     },
     "execution_count": 5,
     "metadata": {},
     "output_type": "execute_result"
    }
   ],
   "source": [
    "list_num = [10,11,14,21,23,32,22]\n",
    "list(filter(lambda x:x%2==0,list_num))"
   ]
  },
  {
   "cell_type": "code",
   "execution_count": 4,
   "id": "77b32823",
   "metadata": {},
   "outputs": [
    {
     "data": {
      "text/plain": [
       "True"
      ]
     },
     "execution_count": 4,
     "metadata": {},
     "output_type": "execute_result"
    }
   ],
   "source": [
    "evenodd = lambda x:x%2==0\n",
    "evenodd(10)"
   ]
  },
  {
   "cell_type": "markdown",
   "id": "158f5a30",
   "metadata": {},
   "source": [
    "**Filter account balance more than 5000**"
   ]
  },
  {
   "cell_type": "code",
   "execution_count": 6,
   "id": "b7a3235b",
   "metadata": {},
   "outputs": [],
   "source": [
    "accounts = [{'account_number':1234, 'Balance':5000},\n",
    "           {'account_number':2222, 'Balance':8000},\n",
    "           {'account_number':1111, 'Balance':4500},\n",
    "           {'account_number':1000, 'Balance':7000},\n",
    "           {'account_number':9999, 'Balance':1000}]"
   ]
  },
  {
   "cell_type": "code",
   "execution_count": 7,
   "id": "7e5ab47b",
   "metadata": {},
   "outputs": [
    {
     "data": {
      "text/plain": [
       "[{'account_number': 2222, 'Balance': 8000},\n",
       " {'account_number': 1000, 'Balance': 7000}]"
      ]
     },
     "execution_count": 7,
     "metadata": {},
     "output_type": "execute_result"
    }
   ],
   "source": [
    "list(filter(lambda acc:acc['Balance']>5000, accounts))"
   ]
  },
  {
   "cell_type": "markdown",
   "id": "37235066",
   "metadata": {},
   "source": [
    "**Map()**"
   ]
  },
  {
   "cell_type": "markdown",
   "id": "89217df7",
   "metadata": {},
   "source": [
    "**Double the numbers**"
   ]
  },
  {
   "cell_type": "code",
   "execution_count": 9,
   "id": "2938f53f",
   "metadata": {},
   "outputs": [],
   "source": [
    "list_num = [10,11,14,21,23,32,22]"
   ]
  },
  {
   "cell_type": "code",
   "execution_count": 10,
   "id": "4313cc6a",
   "metadata": {},
   "outputs": [],
   "source": [
    "def double(x):\n",
    "    return 2*x"
   ]
  },
  {
   "cell_type": "code",
   "execution_count": 11,
   "id": "90e9815e",
   "metadata": {},
   "outputs": [
    {
     "data": {
      "text/plain": [
       "[20, 22, 28, 42, 46, 64, 44]"
      ]
     },
     "execution_count": 11,
     "metadata": {},
     "output_type": "execute_result"
    }
   ],
   "source": [
    "list(map(double,list_num))"
   ]
  },
  {
   "cell_type": "code",
   "execution_count": 14,
   "id": "5f68b5b3",
   "metadata": {},
   "outputs": [
    {
     "data": {
      "text/plain": [
       "[20, 22, 28, 42, 46, 64, 44]"
      ]
     },
     "execution_count": 14,
     "metadata": {},
     "output_type": "execute_result"
    }
   ],
   "source": [
    "list(map(lambda x:x*2, list_num))"
   ]
  },
  {
   "cell_type": "markdown",
   "id": "831288cb",
   "metadata": {},
   "source": [
    "**Interest Calculations**"
   ]
  },
  {
   "cell_type": "code",
   "execution_count": 16,
   "id": "ede85ee3",
   "metadata": {},
   "outputs": [
    {
     "data": {
      "text/plain": [
       "[50.0, 100.0, 75.0, 250.0, 100.0, 150.0]"
      ]
     },
     "execution_count": 16,
     "metadata": {},
     "output_type": "execute_result"
    }
   ],
   "source": [
    "account_balance = [1000,2000,1500,5000,2000,3000]\n",
    "interest_rate = 0.05\n",
    "\n",
    "calculate_interest = lambda balance : balance * interest_rate\n",
    "\n",
    "list(map(calculate_interest,account_balance))"
   ]
  },
  {
   "cell_type": "markdown",
   "id": "0d68c215",
   "metadata": {},
   "source": [
    "**Reduce()**"
   ]
  },
  {
   "cell_type": "code",
   "execution_count": 21,
   "id": "034d282e",
   "metadata": {},
   "outputs": [
    {
     "data": {
      "text/plain": [
       "[10, 11, 14, 21, 23, 32, 22]"
      ]
     },
     "execution_count": 21,
     "metadata": {},
     "output_type": "execute_result"
    }
   ],
   "source": [
    "list_num"
   ]
  },
  {
   "cell_type": "code",
   "execution_count": 19,
   "id": "637b9e70",
   "metadata": {},
   "outputs": [
    {
     "data": {
      "text/plain": [
       "133"
      ]
     },
     "execution_count": 19,
     "metadata": {},
     "output_type": "execute_result"
    }
   ],
   "source": [
    "from functools import *\n",
    "reduce(lambda x,y:x+y,list_num)"
   ]
  },
  {
   "cell_type": "markdown",
   "id": "44de407d",
   "metadata": {},
   "source": [
    "**Total account balance**"
   ]
  },
  {
   "cell_type": "code",
   "execution_count": 22,
   "id": "568d08eb",
   "metadata": {},
   "outputs": [
    {
     "data": {
      "text/plain": [
       "11000"
      ]
     },
     "execution_count": 22,
     "metadata": {},
     "output_type": "execute_result"
    }
   ],
   "source": [
    "account_balance = [1000,2000,3000,-4000,-1000,10000]\n",
    "reduce(lambda acc1,acc2: acc1+acc2, account_balance)"
   ]
  },
  {
   "cell_type": "markdown",
   "id": "b3a1ba28",
   "metadata": {},
   "source": [
    "**Maximum account balance**"
   ]
  },
  {
   "cell_type": "code",
   "execution_count": 23,
   "id": "542c50d9",
   "metadata": {},
   "outputs": [
    {
     "data": {
      "text/plain": [
       "10000"
      ]
     },
     "execution_count": 23,
     "metadata": {},
     "output_type": "execute_result"
    }
   ],
   "source": [
    "reduce(lambda acc1,acc2:max(acc1,acc2), account_balance)"
   ]
  },
  {
   "cell_type": "markdown",
   "id": "5ad5c017",
   "metadata": {},
   "source": [
    "**Accumulated Interest Calculations**"
   ]
  },
  {
   "cell_type": "code",
   "execution_count": 25,
   "id": "f7834277",
   "metadata": {},
   "outputs": [
    {
     "name": "stdout",
     "output_type": "stream",
     "text": [
      "[1000, 2000, 3000, 4000, 1000, 10000]\n",
      "Total Interest:  1050.0\n"
     ]
    }
   ],
   "source": [
    "account_balance = [1000,2000,3000,4000,1000,10000]\n",
    "print(account_balance)\n",
    "interest = 0.05\n",
    "accumulated_interest = lambda acc1,acc2:acc1+(acc2*interest_rate)\n",
    "total_interest = reduce(accumulated_interest,account_balance,0)\n",
    "print(\"Total Interest: \", total_interest)"
   ]
  },
  {
   "cell_type": "markdown",
   "id": "b1a43344",
   "metadata": {},
   "source": [
    "# String Operations"
   ]
  },
  {
   "cell_type": "markdown",
   "id": "6a72deba",
   "metadata": {},
   "source": [
    "**strip(), lstrip(), rstrip()**\n",
    "\n",
    "We have 3 funtions strip(), lstrip() and rstrip(), if you want to remove values from both the side then we have the strip function and if you want to strip from the left side we can use the lstrip and from the right side we can use the rstrip \n",
    "\n",
    "If we have to take care of multiple characters we can go with multiple strip functions"
   ]
  },
  {
   "cell_type": "code",
   "execution_count": 35,
   "id": "7eaf12c3",
   "metadata": {},
   "outputs": [
    {
     "name": "stdout",
     "output_type": "stream",
     "text": [
      "Enter the city:     Surat$$$\n",
      "Your city Surat is present\n"
     ]
    }
   ],
   "source": [
    "cities = ['Surat','Ahmedabad','Mumbai','Delhi','Gurgaon']\n",
    "\n",
    "city = input('Enter the city: ').strip().strip('$')\n",
    "\n",
    "if city in cities:\n",
    "    print('Your city', city, 'is present')\n",
    "else:\n",
    "    print('Your city', city, 'is not present')"
   ]
  },
  {
   "cell_type": "code",
   "execution_count": 37,
   "id": "a501fb47",
   "metadata": {},
   "outputs": [
    {
     "name": "stdout",
     "output_type": "stream",
     "text": [
      "Enter the city: $$$Surat    \n",
      "Your city $$$Surat     is not present\n"
     ]
    }
   ],
   "source": [
    "cities = ['Surat','Ahmedabad','Mumbai','Delhi','Gurgaon']\n",
    "\n",
    "city = input('Enter the city: ').lstrip().rstrip('$')\n",
    "\n",
    "if city in cities:\n",
    "    print('Your city', city, 'is present')\n",
    "else:\n",
    "    print('Your city', city, 'is not present')"
   ]
  },
  {
   "cell_type": "markdown",
   "id": "62f43b16",
   "metadata": {},
   "source": [
    "**find(), rfind()**\n",
    "\n",
    "find and rfind will give the index from the start of the character which you are searching \n",
    "\n",
    "find and rfind will give -1 if the value is not present \n",
    "\n",
    "we can give the range also from where to where you have to search the character"
   ]
  },
  {
   "cell_type": "code",
   "execution_count": 38,
   "id": "d426b7a4",
   "metadata": {},
   "outputs": [
    {
     "data": {
      "text/plain": [
       "4"
      ]
     },
     "execution_count": 38,
     "metadata": {},
     "output_type": "execute_result"
    }
   ],
   "source": [
    "name = 'The Scholar'\n",
    "name.find('S')"
   ]
  },
  {
   "cell_type": "code",
   "execution_count": 39,
   "id": "f2191c9f",
   "metadata": {},
   "outputs": [
    {
     "data": {
      "text/plain": [
       "1"
      ]
     },
     "execution_count": 39,
     "metadata": {},
     "output_type": "execute_result"
    }
   ],
   "source": [
    "name.find('h')"
   ]
  },
  {
   "cell_type": "code",
   "execution_count": 40,
   "id": "42e0d9e1",
   "metadata": {},
   "outputs": [
    {
     "data": {
      "text/plain": [
       "6"
      ]
     },
     "execution_count": 40,
     "metadata": {},
     "output_type": "execute_result"
    }
   ],
   "source": [
    "name.find('h',5,9)"
   ]
  },
  {
   "cell_type": "code",
   "execution_count": 41,
   "id": "e93b50de",
   "metadata": {},
   "outputs": [
    {
     "data": {
      "text/plain": [
       "-1"
      ]
     },
     "execution_count": 41,
     "metadata": {},
     "output_type": "execute_result"
    }
   ],
   "source": [
    "name.find('V')"
   ]
  },
  {
   "cell_type": "code",
   "execution_count": 42,
   "id": "34db9f29",
   "metadata": {},
   "outputs": [
    {
     "data": {
      "text/plain": [
       "4"
      ]
     },
     "execution_count": 42,
     "metadata": {},
     "output_type": "execute_result"
    }
   ],
   "source": [
    "name = 'The Scholar'\n",
    "name.rfind('S')"
   ]
  },
  {
   "cell_type": "code",
   "execution_count": 43,
   "id": "787d096f",
   "metadata": {},
   "outputs": [
    {
     "data": {
      "text/plain": [
       "6"
      ]
     },
     "execution_count": 43,
     "metadata": {},
     "output_type": "execute_result"
    }
   ],
   "source": [
    "name = 'The Scholar'\n",
    "name.rfind('h')"
   ]
  },
  {
   "cell_type": "code",
   "execution_count": 44,
   "id": "efe65e8f",
   "metadata": {},
   "outputs": [
    {
     "data": {
      "text/plain": [
       "1"
      ]
     },
     "execution_count": 44,
     "metadata": {},
     "output_type": "execute_result"
    }
   ],
   "source": [
    "name = 'The Scholar'\n",
    "name.rfind('h',0,5)"
   ]
  },
  {
   "cell_type": "code",
   "execution_count": 45,
   "id": "055ec00b",
   "metadata": {},
   "outputs": [
    {
     "data": {
      "text/plain": [
       "-1"
      ]
     },
     "execution_count": 45,
     "metadata": {},
     "output_type": "execute_result"
    }
   ],
   "source": [
    "name = 'The Scholar'\n",
    "name.rfind('V')"
   ]
  },
  {
   "cell_type": "markdown",
   "id": "102db48c",
   "metadata": {},
   "source": [
    "**Finding the instances of the character in the string**"
   ]
  },
  {
   "cell_type": "code",
   "execution_count": 48,
   "id": "71125129",
   "metadata": {},
   "outputs": [
    {
     "name": "stdout",
     "output_type": "stream",
     "text": [
      "What are you looking for: l\n",
      "Found at index:  4\n",
      "Found at index:  6\n",
      "Found at index:  8\n"
     ]
    }
   ],
   "source": [
    "string = 'rahululul'\n",
    "\n",
    "lookingfor = input('What are you looking for: ')\n",
    "flag = False\n",
    "pos = -1\n",
    "n = len(string)\n",
    "while True:\n",
    "    pos = string.find(lookingfor,pos+1,n)\n",
    "    if pos==-1:\n",
    "        break\n",
    "    else:\n",
    "        print('Found at index: ', pos)\n",
    "        flag=True\n",
    "if flag==False:\n",
    "    print('Not Found')"
   ]
  },
  {
   "cell_type": "code",
   "execution_count": 54,
   "id": "c74d11be",
   "metadata": {},
   "outputs": [
    {
     "name": "stdout",
     "output_type": "stream",
     "text": [
      "What are you looking for: Java\n",
      "Not Found\n",
      "Your resume is invalid\n"
     ]
    }
   ],
   "source": [
    "resume = 'Python is powerful, Python is amazing, Python is the future, Python is Python'\n",
    "\n",
    "lookingfor = input('What are you looking for: ')\n",
    "flag = False\n",
    "pos = -1\n",
    "n = len(resume)\n",
    "count = 0\n",
    "while True:\n",
    "    pos = resume.find(lookingfor,pos+1,n)\n",
    "    if pos==-1:\n",
    "        break\n",
    "    else:\n",
    "        print('Found at index: ', pos)\n",
    "        flag=True\n",
    "        count+=1\n",
    "if flag==False:\n",
    "    print('Not Found')\n",
    "if count>2:\n",
    "    print('Your resume is valid')\n",
    "else:\n",
    "    print('Your resume is invalid')"
   ]
  },
  {
   "cell_type": "markdown",
   "id": "6d72d7c1",
   "metadata": {},
   "source": [
    "**Count()**"
   ]
  },
  {
   "cell_type": "code",
   "execution_count": 57,
   "id": "af361a55",
   "metadata": {},
   "outputs": [
    {
     "name": "stdout",
     "output_type": "stream",
     "text": [
      "Enter the skill you are looking for: Python\n",
      "Your resume is valid\n"
     ]
    }
   ],
   "source": [
    "skill = input('Enter the skill you are looking for: ')\n",
    "resume = 'Python is powerful, Python is amazing, Python is the future, Python is Python'\n",
    "if resume.count(skill)>2:\n",
    "    print('Your resume is valid')\n",
    "else:\n",
    "    print('Your resume is invalid')"
   ]
  },
  {
   "cell_type": "code",
   "execution_count": 58,
   "id": "f5c30653",
   "metadata": {},
   "outputs": [
    {
     "name": "stdout",
     "output_type": "stream",
     "text": [
      "Enter the skill you are looking for: Python\n",
      "Your resume is invalid\n"
     ]
    }
   ],
   "source": [
    "skill = input('Enter the skill you are looking for: ')\n",
    "resume = 'Python is powerful, Python is amazing, Python is the future, Python is Python'\n",
    "if resume.count(skill,50,100)>2:\n",
    "    print('Your resume is valid')\n",
    "else:\n",
    "    print('Your resume is invalid')"
   ]
  },
  {
   "cell_type": "code",
   "execution_count": 59,
   "id": "5fb06dc6",
   "metadata": {},
   "outputs": [
    {
     "data": {
      "text/plain": [
       "2"
      ]
     },
     "execution_count": 59,
     "metadata": {},
     "output_type": "execute_result"
    }
   ],
   "source": [
    "resume.count(skill,50,100)"
   ]
  },
  {
   "cell_type": "markdown",
   "id": "d6b3b71d",
   "metadata": {},
   "source": [
    "**replace()**"
   ]
  },
  {
   "cell_type": "code",
   "execution_count": 60,
   "id": "5db89f0d",
   "metadata": {},
   "outputs": [
    {
     "name": "stdout",
     "output_type": "stream",
     "text": [
      "Enter the skill you are looking for: Java\n"
     ]
    },
    {
     "data": {
      "text/plain": [
       "'Java is powerful, Java is amazing, Java is the future, Java is Java'"
      ]
     },
     "execution_count": 60,
     "metadata": {},
     "output_type": "execute_result"
    }
   ],
   "source": [
    "skill = input('What you want in the string: ')\n",
    "resume = 'Python is powerful, Python is amazing, Python is the future, Python is Python'\n",
    "resume.replace('Python',skill)"
   ]
  },
  {
   "cell_type": "markdown",
   "id": "c40389ab",
   "metadata": {},
   "source": [
    "**split()**"
   ]
  },
  {
   "cell_type": "code",
   "execution_count": 61,
   "id": "fce55486",
   "metadata": {},
   "outputs": [
    {
     "data": {
      "text/plain": [
       "['Rahul', 'Tiwari', 'Atharv']"
      ]
     },
     "execution_count": 61,
     "metadata": {},
     "output_type": "execute_result"
    }
   ],
   "source": [
    "name = 'Rahul Tiwari Atharv'\n",
    "name.split()"
   ]
  },
  {
   "cell_type": "code",
   "execution_count": 65,
   "id": "07c19dfd",
   "metadata": {},
   "outputs": [
    {
     "data": {
      "text/plain": [
       "['Rahul', 'Tiwari', 'is', 'a data scientist']"
      ]
     },
     "execution_count": 65,
     "metadata": {},
     "output_type": "execute_result"
    }
   ],
   "source": [
    "string = 'Rahul Tiwari is a data scientist'\n",
    "string.split(' ',3)"
   ]
  },
  {
   "cell_type": "markdown",
   "id": "30813edb",
   "metadata": {},
   "source": [
    "**Join()**"
   ]
  },
  {
   "cell_type": "code",
   "execution_count": 68,
   "id": "d8fc872e",
   "metadata": {},
   "outputs": [
    {
     "data": {
      "text/plain": [
       "'Rahul-Tiwari-Atharv'"
      ]
     },
     "execution_count": 68,
     "metadata": {},
     "output_type": "execute_result"
    }
   ],
   "source": [
    "list1 = ['Rahul', 'Tiwari', 'Atharv']\n",
    "'-'.join(list1)"
   ]
  },
  {
   "cell_type": "markdown",
   "id": "180d3aee",
   "metadata": {},
   "source": [
    "**upper()**"
   ]
  },
  {
   "cell_type": "code",
   "execution_count": 69,
   "id": "21c9d5b7",
   "metadata": {},
   "outputs": [
    {
     "data": {
      "text/plain": [
       "'RAHUL TIWARI IS A DATA SCIENTIST'"
      ]
     },
     "execution_count": 69,
     "metadata": {},
     "output_type": "execute_result"
    }
   ],
   "source": [
    "string = 'Rahul Tiwari is a data scientist'\n",
    "string.upper()"
   ]
  },
  {
   "cell_type": "markdown",
   "id": "42ec85b2",
   "metadata": {},
   "source": [
    "**lower()**"
   ]
  },
  {
   "cell_type": "code",
   "execution_count": 70,
   "id": "afb3dba2",
   "metadata": {},
   "outputs": [
    {
     "data": {
      "text/plain": [
       "'rahul tiwari is a data scientist'"
      ]
     },
     "execution_count": 70,
     "metadata": {},
     "output_type": "execute_result"
    }
   ],
   "source": [
    "string = 'Rahul Tiwari is a data scientist'\n",
    "string.lower()"
   ]
  },
  {
   "cell_type": "markdown",
   "id": "c9f5fd3a",
   "metadata": {},
   "source": [
    "**swapcase()**"
   ]
  },
  {
   "cell_type": "code",
   "execution_count": 71,
   "id": "b22eaf44",
   "metadata": {},
   "outputs": [
    {
     "data": {
      "text/plain": [
       "'rAHUL tIWARI IS A DATA SCIENTIST'"
      ]
     },
     "execution_count": 71,
     "metadata": {},
     "output_type": "execute_result"
    }
   ],
   "source": [
    "string = 'Rahul Tiwari is a data scientist'\n",
    "string.swapcase()"
   ]
  },
  {
   "cell_type": "markdown",
   "id": "f7370c53",
   "metadata": {},
   "source": [
    "**title()**"
   ]
  },
  {
   "cell_type": "code",
   "execution_count": 72,
   "id": "570c265d",
   "metadata": {},
   "outputs": [
    {
     "data": {
      "text/plain": [
       "'Rahul Tiwari Is A Data Scientist'"
      ]
     },
     "execution_count": 72,
     "metadata": {},
     "output_type": "execute_result"
    }
   ],
   "source": [
    "string = 'Rahul Tiwari is a data scientist'\n",
    "string.title()"
   ]
  },
  {
   "cell_type": "markdown",
   "id": "aff818f9",
   "metadata": {},
   "source": [
    "**capitalize()**"
   ]
  },
  {
   "cell_type": "code",
   "execution_count": 73,
   "id": "4e4c5900",
   "metadata": {},
   "outputs": [
    {
     "data": {
      "text/plain": [
       "'Rahul tiwari is a data scientist'"
      ]
     },
     "execution_count": 73,
     "metadata": {},
     "output_type": "execute_result"
    }
   ],
   "source": [
    "string = 'Rahul Tiwari is a data scientist'\n",
    "string.capitalize()"
   ]
  },
  {
   "cell_type": "markdown",
   "id": "256c148e",
   "metadata": {},
   "source": [
    "**startswith()**"
   ]
  },
  {
   "cell_type": "code",
   "execution_count": 76,
   "id": "edb4183a",
   "metadata": {},
   "outputs": [
    {
     "data": {
      "text/plain": [
       "False"
      ]
     },
     "execution_count": 76,
     "metadata": {},
     "output_type": "execute_result"
    }
   ],
   "source": [
    "string = 'Rahul Tiwari is a data scientist'\n",
    "string.startswith('r')"
   ]
  },
  {
   "cell_type": "markdown",
   "id": "fc8dffc1",
   "metadata": {},
   "source": [
    "**Endswith()**"
   ]
  },
  {
   "cell_type": "code",
   "execution_count": 79,
   "id": "69a8b651",
   "metadata": {},
   "outputs": [
    {
     "data": {
      "text/plain": [
       "True"
      ]
     },
     "execution_count": 79,
     "metadata": {},
     "output_type": "execute_result"
    }
   ],
   "source": [
    "string = 'Rahul Tiwari is a data scientist'\n",
    "string.endswith('tist')"
   ]
  },
  {
   "cell_type": "markdown",
   "id": "fee6cdd4",
   "metadata": {},
   "source": [
    "**isalnum(), isalpha(), isnumeric(), isupper(), islower(), istitle(), isspace()**"
   ]
  },
  {
   "cell_type": "code",
   "execution_count": 80,
   "id": "0f434171",
   "metadata": {},
   "outputs": [
    {
     "name": "stdout",
     "output_type": "stream",
     "text": [
      "True\n",
      "False\n",
      "False\n"
     ]
    }
   ],
   "source": [
    "data = 'rahul123'\n",
    "print(data.isalnum())\n",
    "print(data.isalpha())\n",
    "print(data.isnumeric())"
   ]
  },
  {
   "cell_type": "code",
   "execution_count": 81,
   "id": "23b893c8",
   "metadata": {},
   "outputs": [
    {
     "name": "stdout",
     "output_type": "stream",
     "text": [
      "True\n",
      "True\n",
      "False\n"
     ]
    }
   ],
   "source": [
    "data = 'rahul'\n",
    "print(data.isalnum())\n",
    "print(data.isalpha())\n",
    "print(data.isnumeric())"
   ]
  },
  {
   "cell_type": "code",
   "execution_count": 82,
   "id": "8ea192a0",
   "metadata": {},
   "outputs": [
    {
     "name": "stdout",
     "output_type": "stream",
     "text": [
      "True\n",
      "False\n",
      "True\n"
     ]
    }
   ],
   "source": [
    "data = '123'\n",
    "print(data.isalnum())\n",
    "print(data.isalpha())\n",
    "print(data.isnumeric())"
   ]
  },
  {
   "cell_type": "code",
   "execution_count": 83,
   "id": "09390251",
   "metadata": {},
   "outputs": [
    {
     "data": {
      "text/plain": [
       "True"
      ]
     },
     "execution_count": 83,
     "metadata": {},
     "output_type": "execute_result"
    }
   ],
   "source": [
    "data = 'rahul'\n",
    "data.islower()"
   ]
  },
  {
   "cell_type": "code",
   "execution_count": 84,
   "id": "e36b570e",
   "metadata": {},
   "outputs": [
    {
     "data": {
      "text/plain": [
       "True"
      ]
     },
     "execution_count": 84,
     "metadata": {},
     "output_type": "execute_result"
    }
   ],
   "source": [
    "data = 'RAHUL'\n",
    "data.isupper()"
   ]
  },
  {
   "cell_type": "code",
   "execution_count": 85,
   "id": "e49818f6",
   "metadata": {},
   "outputs": [
    {
     "data": {
      "text/plain": [
       "True"
      ]
     },
     "execution_count": 85,
     "metadata": {},
     "output_type": "execute_result"
    }
   ],
   "source": [
    "data = 'Rahul'\n",
    "data.istitle()"
   ]
  },
  {
   "cell_type": "code",
   "execution_count": 87,
   "id": "42e51a92",
   "metadata": {},
   "outputs": [
    {
     "data": {
      "text/plain": [
       "False"
      ]
     },
     "execution_count": 87,
     "metadata": {},
     "output_type": "execute_result"
    }
   ],
   "source": [
    "data = ' rahul tiwari'\n",
    "data.isspace()"
   ]
  },
  {
   "cell_type": "code",
   "execution_count": 88,
   "id": "ff635df6",
   "metadata": {},
   "outputs": [
    {
     "data": {
      "text/plain": [
       "True"
      ]
     },
     "execution_count": 88,
     "metadata": {},
     "output_type": "execute_result"
    }
   ],
   "source": [
    "data = '  '\n",
    "data.isspace()"
   ]
  },
  {
   "cell_type": "code",
   "execution_count": 89,
   "id": "311f8da1",
   "metadata": {},
   "outputs": [
    {
     "data": {
      "text/plain": [
       "True"
      ]
     },
     "execution_count": 89,
     "metadata": {},
     "output_type": "execute_result"
    }
   ],
   "source": [
    "data = 'rahul tiwari'\n",
    "data[5].isspace()"
   ]
  }
 ],
 "metadata": {
  "kernelspec": {
   "display_name": "Python 3 (ipykernel)",
   "language": "python",
   "name": "python3"
  },
  "language_info": {
   "codemirror_mode": {
    "name": "ipython",
    "version": 3
   },
   "file_extension": ".py",
   "mimetype": "text/x-python",
   "name": "python",
   "nbconvert_exporter": "python",
   "pygments_lexer": "ipython3",
   "version": "3.9.13"
  }
 },
 "nbformat": 4,
 "nbformat_minor": 5
}

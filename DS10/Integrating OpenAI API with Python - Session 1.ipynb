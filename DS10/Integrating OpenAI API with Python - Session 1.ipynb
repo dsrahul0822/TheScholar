{
 "cells": [
  {
   "cell_type": "code",
   "execution_count": 1,
   "id": "6c1b8590",
   "metadata": {},
   "outputs": [
    {
     "name": "stdout",
     "output_type": "stream",
     "text": [
      "Requirement already satisfied: openai in c:\\users\\rahul\\anaconda\\lib\\site-packages (0.27.8)\n",
      "Requirement already satisfied: requests>=2.20 in c:\\users\\rahul\\anaconda\\lib\\site-packages (from openai) (2.31.0)\n",
      "Requirement already satisfied: tqdm in c:\\users\\rahul\\anaconda\\lib\\site-packages (from openai) (4.65.0)\n",
      "Requirement already satisfied: aiohttp in c:\\users\\rahul\\anaconda\\lib\\site-packages (from openai) (3.8.3)\n",
      "Requirement already satisfied: charset-normalizer<4,>=2 in c:\\users\\rahul\\anaconda\\lib\\site-packages (from requests>=2.20->openai) (2.0.4)\n",
      "Requirement already satisfied: idna<4,>=2.5 in c:\\users\\rahul\\anaconda\\lib\\site-packages (from requests>=2.20->openai) (3.4)\n",
      "Requirement already satisfied: urllib3<3,>=1.21.1 in c:\\users\\rahul\\anaconda\\lib\\site-packages (from requests>=2.20->openai) (1.26.16)\n",
      "Requirement already satisfied: certifi>=2017.4.17 in c:\\users\\rahul\\anaconda\\lib\\site-packages (from requests>=2.20->openai) (2023.7.22)\n",
      "Requirement already satisfied: attrs>=17.3.0 in c:\\users\\rahul\\anaconda\\lib\\site-packages (from aiohttp->openai) (22.1.0)\n",
      "Requirement already satisfied: multidict<7.0,>=4.5 in c:\\users\\rahul\\anaconda\\lib\\site-packages (from aiohttp->openai) (6.0.2)\n",
      "Requirement already satisfied: async-timeout<5.0,>=4.0.0a3 in c:\\users\\rahul\\anaconda\\lib\\site-packages (from aiohttp->openai) (4.0.2)\n",
      "Requirement already satisfied: yarl<2.0,>=1.0 in c:\\users\\rahul\\anaconda\\lib\\site-packages (from aiohttp->openai) (1.8.1)\n",
      "Requirement already satisfied: frozenlist>=1.1.1 in c:\\users\\rahul\\anaconda\\lib\\site-packages (from aiohttp->openai) (1.3.3)\n",
      "Requirement already satisfied: aiosignal>=1.1.2 in c:\\users\\rahul\\anaconda\\lib\\site-packages (from aiohttp->openai) (1.2.0)\n",
      "Requirement already satisfied: colorama in c:\\users\\rahul\\anaconda\\lib\\site-packages (from tqdm->openai) (0.4.6)\n"
     ]
    }
   ],
   "source": [
    "!pip install openai"
   ]
  },
  {
   "cell_type": "code",
   "execution_count": 2,
   "id": "6d05d506",
   "metadata": {},
   "outputs": [],
   "source": [
    "import openai"
   ]
  },
  {
   "cell_type": "code",
   "execution_count": 3,
   "id": "60a23b56",
   "metadata": {},
   "outputs": [],
   "source": [
    "openai.api_key = 'PassYourAPIKey'"
   ]
  },
  {
   "cell_type": "code",
   "execution_count": 4,
   "id": "c1e48323",
   "metadata": {},
   "outputs": [],
   "source": [
    "# Simple function to call chatgpt with our prompts\n",
    "def get_completion(prompt, model=\"gpt-4\"):\n",
    "    messages = [{\"role\": \"user\", \"content\": prompt}]\n",
    "    response = openai.ChatCompletion.create(\n",
    "        model=model,\n",
    "        messages=messages,\n",
    "        temperature=0, # this is the degree of randomness of the model's output\n",
    "    )\n",
    "    return response.choices[0].message[\"content\"]"
   ]
  },
  {
   "cell_type": "code",
   "execution_count": 6,
   "id": "d6162e46",
   "metadata": {},
   "outputs": [
    {
     "data": {
      "text/plain": [
       "\"As an artificial intelligence, I don't have feelings, but I'm here and ready to assist you. How can I help you today?\""
      ]
     },
     "execution_count": 6,
     "metadata": {},
     "output_type": "execute_result"
    }
   ],
   "source": [
    "get_completion(\"How are you?\")"
   ]
  },
  {
   "cell_type": "markdown",
   "id": "8ba3fb8f",
   "metadata": {},
   "source": [
    "# Craft an Effective Prompts (Techniques for prompt Engineering)"
   ]
  },
  {
   "cell_type": "markdown",
   "id": "bf2911de",
   "metadata": {},
   "source": [
    "**Step by Step Process for iterative prompt development**\n",
    "\n",
    "1) Define the problem and desired output\n",
    "\n",
    "    a) Clearly articulate the problem you want the model to solve \n",
    "    \n",
    "    b) Determin the desired output or information you want from the model \n",
    "    \n",
    "2) Start with a basic prompt \n",
    "\n",
    "    a) Begin with a simple prompt to initiate the conversation \n",
    "    \n",
    "    b) Structure the prompt to provide context and guide the model \n",
    "    \n",
    "3) Evaluate the model's response \n",
    "\n",
    "    a) Analyze the generated response for relevance and accuracy\n",
    "    \n",
    "    b) Identify any potential issues, errors or area of improvement\n",
    "    \n",
    "4) Iteratively refine the prompt \n",
    "\n",
    "    a) Based on the evaluation you did, modify or improve the prompt \n",
    "    \n",
    "    b) Add additional instructions or constraints so that we can guide the model \n",
    "    \n",
    "5) Test and validate the updated prompt \n",
    "\n",
    "    a) Send the modified prompt to the model for generating the new response \n",
    "    \n",
    "    b) Evaluate the updated response and compare it with the previous one \n",
    "    \n",
    "6) Repeat the process \n",
    "\n",
    "    a) Continue iterating, refining and testing the prompt until the desired output is achieved \n",
    "    \n",
    "    b) Be mindful of the for potential biases, inconsistencies or limitations"
   ]
  },
  {
   "cell_type": "code",
   "execution_count": 7,
   "id": "0c0b27e5",
   "metadata": {},
   "outputs": [],
   "source": [
    "laptop_descriptions = \"\"\"\n",
    "1. Acer Aspire 5:\n",
    "   - Description: The Acer Aspire 5 is a budget-friendly laptop suitable for everyday tasks and light productivity. It offers a balance between price and performance.\n",
    "   - Specifications: 15.6-inch Full HD display, Intel Core i5 processor, 8GB RAM, 256GB SSD, Intel UHD Graphics, Windows 10.\n",
    "\n",
    "2. Dell Inspiron 15 5000:\n",
    "   - Description: The Dell Inspiron 15 5000 is a mid-range laptop that provides a decent performance for general usage and multimedia tasks. It offers good value for its price.\n",
    "   - Specifications: 15.6-inch Full HD display, Intel Core i7 processor, 16GB RAM, 512GB SSD, Intel UHD Graphics, Windows 10.\n",
    "\n",
    "3. HP Spectre x360:\n",
    "   - Description: The HP Spectre x360 is a premium 2-in-1 convertible laptop that excels in both design and performance. It offers versatility and high-end features.\n",
    "   - Specifications: 13.3-inch 4K touchscreen display, Intel Core i7 processor, 16GB RAM, 1TB SSD, Intel Iris Xe Graphics, Windows 10.\n",
    "\n",
    "4. Apple MacBook Pro:\n",
    "   - Description: The Apple MacBook Pro is a high-end laptop renowned for its sleek design, exceptional performance, and excellent build quality. It is favored by professionals and creatives.\n",
    "   - Specifications: 16-inch Retina display, Intel Core i9 processor, 32GB RAM, 1TB SSD, AMD Radeon Pro 5500M graphics, macOS.\n",
    "\n",
    "5. Razer Blade 15:\n",
    "   - Description: The Razer Blade 15 is a gaming laptop that combines powerful hardware with a slim and stylish design. It is ideal for gamers and content creators who require top-notch performance.\n",
    "   - Specifications: 15.6-inch Full HD display (upgradable to 4K), Intel Core i7 processor, 16GB RAM, 1TB SSD, NVIDIA GeForce RTX 3060 graphics, Windows 10.\n",
    "\n",
    "\"\"\""
   ]
  },
  {
   "cell_type": "code",
   "execution_count": 9,
   "id": "df79a300",
   "metadata": {},
   "outputs": [
    {
     "name": "stdout",
     "output_type": "stream",
     "text": [
      "\n",
      "1. Acer Aspire 5:\n",
      "   - Description: The Acer Aspire 5 is a budget-friendly laptop suitable for everyday tasks and light productivity. It offers a balance between price and performance.\n",
      "   - Specifications: 15.6-inch Full HD display, Intel Core i5 processor, 8GB RAM, 256GB SSD, Intel UHD Graphics, Windows 10.\n",
      "\n",
      "2. Dell Inspiron 15 5000:\n",
      "   - Description: The Dell Inspiron 15 5000 is a mid-range laptop that provides a decent performance for general usage and multimedia tasks. It offers good value for its price.\n",
      "   - Specifications: 15.6-inch Full HD display, Intel Core i7 processor, 16GB RAM, 512GB SSD, Intel UHD Graphics, Windows 10.\n",
      "\n",
      "3. HP Spectre x360:\n",
      "   - Description: The HP Spectre x360 is a premium 2-in-1 convertible laptop that excels in both design and performance. It offers versatility and high-end features.\n",
      "   - Specifications: 13.3-inch 4K touchscreen display, Intel Core i7 processor, 16GB RAM, 1TB SSD, Intel Iris Xe Graphics, Windows 10.\n",
      "\n",
      "4. Apple MacBook Pro:\n",
      "   - Description: The Apple MacBook Pro is a high-end laptop renowned for its sleek design, exceptional performance, and excellent build quality. It is favored by professionals and creatives.\n",
      "   - Specifications: 16-inch Retina display, Intel Core i9 processor, 32GB RAM, 1TB SSD, AMD Radeon Pro 5500M graphics, macOS.\n",
      "\n",
      "5. Razer Blade 15:\n",
      "   - Description: The Razer Blade 15 is a gaming laptop that combines powerful hardware with a slim and stylish design. It is ideal for gamers and content creators who require top-notch performance.\n",
      "   - Specifications: 15.6-inch Full HD display (upgradable to 4K), Intel Core i7 processor, 16GB RAM, 1TB SSD, NVIDIA GeForce RTX 3060 graphics, Windows 10.\n",
      "\n",
      "\n"
     ]
    }
   ],
   "source": [
    "print(laptop_descriptions)"
   ]
  },
  {
   "cell_type": "code",
   "execution_count": 12,
   "id": "eb64dac8",
   "metadata": {},
   "outputs": [],
   "source": [
    "prompt = f\"\"\"your task is to help a customer choose a laptop, suggest laptops based on the laptops\n",
    "information provided below delimited by ###\n",
    "laptops: ###{laptop_descriptions}###\"\"\""
   ]
  },
  {
   "cell_type": "code",
   "execution_count": 13,
   "id": "082ee0a2",
   "metadata": {},
   "outputs": [
    {
     "data": {
      "text/plain": [
       "'your task is to help a customer choose a laptop, suggest laptops based on the laptops\\ninformation provided below delimited by ###\\nlaptops: ###\\n1. Acer Aspire 5:\\n   - Description: The Acer Aspire 5 is a budget-friendly laptop suitable for everyday tasks and light productivity. It offers a balance between price and performance.\\n   - Specifications: 15.6-inch Full HD display, Intel Core i5 processor, 8GB RAM, 256GB SSD, Intel UHD Graphics, Windows 10.\\n\\n2. Dell Inspiron 15 5000:\\n   - Description: The Dell Inspiron 15 5000 is a mid-range laptop that provides a decent performance for general usage and multimedia tasks. It offers good value for its price.\\n   - Specifications: 15.6-inch Full HD display, Intel Core i7 processor, 16GB RAM, 512GB SSD, Intel UHD Graphics, Windows 10.\\n\\n3. HP Spectre x360:\\n   - Description: The HP Spectre x360 is a premium 2-in-1 convertible laptop that excels in both design and performance. It offers versatility and high-end features.\\n   - Specifications: 13.3-inch 4K touchscreen display, Intel Core i7 processor, 16GB RAM, 1TB SSD, Intel Iris Xe Graphics, Windows 10.\\n\\n4. Apple MacBook Pro:\\n   - Description: The Apple MacBook Pro is a high-end laptop renowned for its sleek design, exceptional performance, and excellent build quality. It is favored by professionals and creatives.\\n   - Specifications: 16-inch Retina display, Intel Core i9 processor, 32GB RAM, 1TB SSD, AMD Radeon Pro 5500M graphics, macOS.\\n\\n5. Razer Blade 15:\\n   - Description: The Razer Blade 15 is a gaming laptop that combines powerful hardware with a slim and stylish design. It is ideal for gamers and content creators who require top-notch performance.\\n   - Specifications: 15.6-inch Full HD display (upgradable to 4K), Intel Core i7 processor, 16GB RAM, 1TB SSD, NVIDIA GeForce RTX 3060 graphics, Windows 10.\\n\\n###'"
      ]
     },
     "execution_count": 13,
     "metadata": {},
     "output_type": "execute_result"
    }
   ],
   "source": [
    "prompt"
   ]
  },
  {
   "cell_type": "code",
   "execution_count": 14,
   "id": "48aff6ed",
   "metadata": {},
   "outputs": [
    {
     "name": "stdout",
     "output_type": "stream",
     "text": [
      "Sure, I'd be happy to help you choose a laptop. To better assist you, could you please provide more information about your needs and preferences? Here are some questions that might help:\n",
      "\n",
      "1. What will you primarily use the laptop for? (e.g., everyday tasks, gaming, professional work, multimedia tasks, etc.)\n",
      "2. What is your budget range?\n",
      "3. Do you have a preference for a specific operating system? (e.g., Windows, macOS)\n",
      "4. Do you need a high-resolution display or a specific screen size?\n",
      "5. Is the laptop's design and weight important to you?\n",
      "6. Do you need a laptop with high-end features and top-notch performance, or would a budget-friendly or mid-range laptop suffice? \n",
      "\n",
      "Once I have this information, I can suggest the most suitable laptop(s) for you from the list.\n"
     ]
    }
   ],
   "source": [
    "print(get_completion(prompt))"
   ]
  },
  {
   "cell_type": "code",
   "execution_count": 15,
   "id": "4b6d6c74",
   "metadata": {},
   "outputs": [],
   "source": [
    "prompt = f\"\"\"your task is to help a customer choose a laptop, suggest laptops based on the laptops\n",
    "information provided below delimited by ###\n",
    "laptops: ###{laptop_descriptions}###\n",
    "customer will provide his requirements and based on that check if the laptop meets the requirements \n",
    "and suggest the laptop. \n",
    "Customer: I want a laptop in which I can play games\n",
    "\"\"\""
   ]
  },
  {
   "cell_type": "code",
   "execution_count": 16,
   "id": "f3efa8d1",
   "metadata": {},
   "outputs": [
    {
     "name": "stdout",
     "output_type": "stream",
     "text": [
      "Based on your requirement, I would suggest the Razer Blade 15. It is a gaming laptop with powerful hardware, including an Intel Core i7 processor, 16GB RAM, 1TB SSD, and NVIDIA GeForce RTX 3060 graphics. This should provide you with a smooth and immersive gaming experience.\n"
     ]
    }
   ],
   "source": [
    "print(get_completion(prompt))"
   ]
  },
  {
   "cell_type": "code",
   "execution_count": 17,
   "id": "061a9958",
   "metadata": {},
   "outputs": [],
   "source": [
    "prompt = f\"\"\"your task is to help a customer choose a laptop, suggest laptops based on the laptops\n",
    "information provided below delimited by ###\n",
    "laptops: ###{laptop_descriptions}###\n",
    "customer will provide his requirements and based on that check if the laptop meets the requirements \n",
    "and suggest the laptop. Give the one liner summary and give all the specs of the laptop in the \n",
    "tabular format\n",
    "Customer: I want a laptop in which I can play games\n",
    "\"\"\""
   ]
  },
  {
   "cell_type": "code",
   "execution_count": 18,
   "id": "5f11611f",
   "metadata": {},
   "outputs": [
    {
     "name": "stdout",
     "output_type": "stream",
     "text": [
      "Based on your requirement, I would suggest the Razer Blade 15. It's a gaming laptop that combines powerful hardware with a slim and stylish design, ideal for gamers who require top-notch performance.\n",
      "\n",
      "Here are the specifications of the Razer Blade 15:\n",
      "\n",
      "| Specification | Detail |\n",
      "| --- | --- |\n",
      "| Display | 15.6-inch Full HD display (upgradable to 4K) |\n",
      "| Processor | Intel Core i7 |\n",
      "| RAM | 16GB |\n",
      "| Storage | 1TB SSD |\n",
      "| Graphics | NVIDIA GeForce RTX 3060 |\n",
      "| Operating System | Windows 10 |\n"
     ]
    }
   ],
   "source": [
    "print(get_completion(prompt))"
   ]
  },
  {
   "cell_type": "markdown",
   "id": "12b462a1",
   "metadata": {},
   "source": [
    "# Shaping text with ChatGPT: The power of transformation (Transforming) "
   ]
  },
  {
   "cell_type": "code",
   "execution_count": 19,
   "id": "82ccc85b",
   "metadata": {},
   "outputs": [],
   "source": [
    "# Example: A small real world use case where the chatbot is used as a nlp tool to extract useful information from a\n",
    "# customer query\n",
    "\n",
    "# ChatBot to help a customer on online ticket booking website\n",
    "\n",
    "# Prompt\n",
    "\n",
    "prompt = f\"\"\"\n",
    "Your task is to help a customer book a flight ticket, Ask the customer for the source and \n",
    "destination of the flight.\n",
    "with the date of travel and number of passengers.\n",
    "Finally give the output in the below json format. Only output the json and nothing else.\n",
    "\"souce: \"source\",\n",
    "\"destination\": \"destination\",\n",
    "\"date\": \"date\",\n",
    "\"passengers\": \"passengers\"\n",
    "Customer: I want to book a evening flight ticket from Bangalore to Delhi on 12th of \n",
    "August for 2 passengers.\n",
    "\"\"\""
   ]
  },
  {
   "cell_type": "code",
   "execution_count": 20,
   "id": "909480db",
   "metadata": {},
   "outputs": [
    {
     "name": "stdout",
     "output_type": "stream",
     "text": [
      "{\n",
      "\"source\": \"Bangalore\",\n",
      "\"destination\": \"Delhi\",\n",
      "\"date\": \"12th of August\",\n",
      "\"passengers\": \"2\"\n",
      "}\n"
     ]
    }
   ],
   "source": [
    "print(get_completion(prompt))"
   ]
  },
  {
   "cell_type": "code",
   "execution_count": 21,
   "id": "80d2f174",
   "metadata": {},
   "outputs": [],
   "source": [
    "output = get_completion(prompt)"
   ]
  },
  {
   "cell_type": "code",
   "execution_count": 23,
   "id": "8741d380",
   "metadata": {},
   "outputs": [
    {
     "name": "stdout",
     "output_type": "stream",
     "text": [
      "{\n",
      "\"source\": \"Bangalore\",\n",
      "\"destination\": \"Delhi\",\n",
      "\"date\": \"12th of August\",\n",
      "\"passengers\": \"2\"\n",
      "}\n"
     ]
    }
   ],
   "source": [
    "print(output)"
   ]
  },
  {
   "cell_type": "code",
   "execution_count": 24,
   "id": "e0ad2d34",
   "metadata": {},
   "outputs": [
    {
     "name": "stdout",
     "output_type": "stream",
     "text": [
      "{'source': 'Bangalore', 'destination': 'Delhi', 'date': '12th of August', 'passengers': '2'} <class 'dict'>\n"
     ]
    }
   ],
   "source": [
    "import json \n",
    "json_output = json.loads(output)\n",
    "print(json_output,type(json_output))"
   ]
  },
  {
   "cell_type": "code",
   "execution_count": 25,
   "id": "f31eb403",
   "metadata": {},
   "outputs": [],
   "source": [
    "# ChatGPT can translate between formats. The prompt should describe the input and output formats\n",
    "# Convert the json output to HTML\n",
    "\n",
    "prompt = f\"\"\"\n",
    "Convert the following json to HTML format with arrow symbol for source and destination and \n",
    "date symbol for date and passenger symbol for passenger.\n",
    "{output}\n",
    "\"\"\""
   ]
  },
  {
   "cell_type": "code",
   "execution_count": 26,
   "id": "0a8ae2a7",
   "metadata": {},
   "outputs": [
    {
     "name": "stdout",
     "output_type": "stream",
     "text": [
      "<!DOCTYPE html>\n",
      "<html>\n",
      "<body>\n",
      "\n",
      "<h2>Travel Details</h2>\n",
      "\n",
      "<p>&#10148; Source: Bangalore</p>\n",
      "<p>&#10148; Destination: Delhi</p>\n",
      "<p>&#128197; Date: 12th of August</p>\n",
      "<p>&#128100; Passengers: 2</p>\n",
      "\n",
      "</body>\n",
      "</html>\n"
     ]
    }
   ],
   "source": [
    "output_html = get_completion(prompt)\n",
    "print(output_html)"
   ]
  },
  {
   "cell_type": "code",
   "execution_count": 27,
   "id": "d06ea01d",
   "metadata": {},
   "outputs": [
    {
     "data": {
      "text/html": [
       "<!DOCTYPE html>\n",
       "<html>\n",
       "<body>\n",
       "\n",
       "<h2>Travel Details</h2>\n",
       "\n",
       "<p>&#10148; Source: Bangalore</p>\n",
       "<p>&#10148; Destination: Delhi</p>\n",
       "<p>&#128197; Date: 12th of August</p>\n",
       "<p>&#128100; Passengers: 2</p>\n",
       "\n",
       "</body>\n",
       "</html>"
      ],
      "text/plain": [
       "<IPython.core.display.HTML object>"
      ]
     },
     "metadata": {},
     "output_type": "display_data"
    }
   ],
   "source": [
    "from IPython.display import display, Markdown,Latex,HTML,JSON\n",
    "display(HTML(output_html))"
   ]
  },
  {
   "cell_type": "markdown",
   "id": "ea65a7ef",
   "metadata": {},
   "source": [
    "# Universal Translator: ChatGPT can translate text from one language to another"
   ]
  },
  {
   "cell_type": "code",
   "execution_count": 30,
   "id": "89064c49",
   "metadata": {},
   "outputs": [],
   "source": [
    "# Example: (Language Detection + Translation)\n",
    "\n",
    "# ChatBot to help a customer on online ticket booking website in his native language\n",
    "\n",
    "# Prompt\n",
    "\n",
    "prompt = f\"\"\"\n",
    "Your task is to help a customer book a flight ticket, Customer will provide the source \n",
    "and destination of the flight.\n",
    "with the date of travel and number of passengers in his native language.\n",
    "Your task is to determine the language of the customer and translate it to english and \n",
    "then give the output in the below json format. Only output the json and nothing else.\n",
    "\"source: \"source\",\n",
    "\"destination\": \"destination\",\n",
    "\"date\": \"date\",\n",
    "\"passengers\": \"passengers\"\n",
    "Customer: मैं बंगलौर से दिल्ली के लिए 12 अगस्त को 5 यात्रियों के लिए शाम के फ्लाइट टिकट बुक करना चाहता हूं।\n",
    "\"\"\""
   ]
  },
  {
   "cell_type": "code",
   "execution_count": 31,
   "id": "f1746b8b",
   "metadata": {},
   "outputs": [
    {
     "name": "stdout",
     "output_type": "stream",
     "text": [
      "{\n",
      "\"source\": \"Bangalore\",\n",
      "\"destination\": \"Delhi\",\n",
      "\"date\": \"12th August\",\n",
      "\"passengers\": \"5\"\n",
      "}\n"
     ]
    }
   ],
   "source": [
    "print(get_completion(prompt))"
   ]
  },
  {
   "cell_type": "code",
   "execution_count": 32,
   "id": "d74c2482",
   "metadata": {},
   "outputs": [],
   "source": [
    "# Prompt 2 (Customer is from France)\n",
    "\n",
    "prompt = f\"\"\"\n",
    "Your task is to help a customer book a flight ticket, Customer will provide the source and destination of the flight.\n",
    "with the date of travel and number of passengers in his native language.\n",
    "Your task is to determine the language of the customer and translate it to english and then give the output in the below json format. Only output the json and nothing else.\n",
    "\"souce: \"source in english\",\n",
    "\"destination\": \"destination in english\",\n",
    "\"date\": \"date in english\",\n",
    "\"passengers\": \"passengers\"\n",
    "Customer: Je veux réserver un billet d'avion de Paris à Delhi le 12 août pour 2 passagers.\n",
    "\"\"\""
   ]
  },
  {
   "cell_type": "code",
   "execution_count": 33,
   "id": "c9c49861",
   "metadata": {},
   "outputs": [
    {
     "name": "stdout",
     "output_type": "stream",
     "text": [
      "{\n",
      "\"source\": \"Paris\",\n",
      "\"destination\": \"Delhi\",\n",
      "\"date\": \"August 12\",\n",
      "\"passengers\": \"2\"\n",
      "}\n"
     ]
    }
   ],
   "source": [
    "print(get_completion(prompt))"
   ]
  },
  {
   "cell_type": "markdown",
   "id": "495bc23b",
   "metadata": {},
   "source": [
    "# Going Beyound Limits: Amplifying Responses with ChatGPT (Expanding)"
   ]
  },
  {
   "cell_type": "markdown",
   "id": "09b60dbb",
   "metadata": {},
   "source": [
    "Elaborative Responses \n",
    "\n",
    "Creative writing\n",
    "\n",
    "Detailed Explanations \n",
    "\n",
    "Contextual expansion "
   ]
  },
  {
   "cell_type": "code",
   "execution_count": 34,
   "id": "570c2b9a",
   "metadata": {},
   "outputs": [],
   "source": [
    "# ChatBot to send a automated email to the customer based on the review provided by the customer on the website for the\n",
    "# flight booking experience\n",
    "\n",
    "\n",
    "positive_review = \"\"\"\n",
    "I had a great experience booking my flight ticket on your website. \n",
    "The website is very user friendly and the booking process is very smooth.\n",
    "\"\"\"\n",
    "\n",
    "# Prompt\n",
    "\n",
    "prompt = f\"\"\"\n",
    "You are a customer service AI assistant for a online flight booking website.\n",
    "Your task is to send an email reply to a valued customer.\n",
    "Given the customer review delimited by ###, \\\n",
    "Generate a reply to thank the customer for their review.\n",
    "If the sentiment is positive or neutral, thank them for \\\n",
    "their review.\n",
    "If the sentiment is negative, apologize and suggest that \\\n",
    "they can reach out to customer service.\n",
    "Make sure to use specific details from the review.\n",
    "Write in a concise and professional tone.\n",
    "Sign the email as AI Customer Agent\n",
    "Customer review: ###{positive_review}###\n",
    "\"\"\""
   ]
  },
  {
   "cell_type": "code",
   "execution_count": 35,
   "id": "36186272",
   "metadata": {},
   "outputs": [
    {
     "name": "stdout",
     "output_type": "stream",
     "text": [
      "Subject: Thank You for Your Positive Review\n",
      "\n",
      "Dear Valued Customer,\n",
      "\n",
      "Thank you for taking the time to share your positive experience with our online flight booking service. We are delighted to hear that you found our website user-friendly and the booking process smooth.\n",
      "\n",
      "Your feedback is greatly appreciated as it helps us to continually improve our services and provide the best possible experience for our customers. \n",
      "\n",
      "Once again, thank you for your kind words. We look forward to assisting you with your future travel plans.\n",
      "\n",
      "Best Regards,\n",
      "\n",
      "AI Customer Agent\n"
     ]
    }
   ],
   "source": [
    "print(get_completion(prompt))"
   ]
  },
  {
   "cell_type": "code",
   "execution_count": 36,
   "id": "324ba6f1",
   "metadata": {},
   "outputs": [],
   "source": [
    "# Negative Review\n",
    "\n",
    "negative_review = \"My recent experience with this flight booking website was highly disappointing.\\\n",
    "The prices were not competitive compared to other platforms, and I encountered trouble with my credit card during the booking process. \\\n",
    "I cannot recommend this website due to these issues. Seek out alternatives for a smoother and better-priced booking experience.\"\n",
    "\n",
    "# Prompt\n",
    "\n",
    "prompt = f\"\"\"\n",
    "You are a customer service AI assistant for a online flight booking website.\n",
    "Your task is to send an email reply to a valued customer.\n",
    "Given the customer review delimited by ###, \\\n",
    "Generate a reply to thank the customer for their review.\n",
    "If the sentiment is positive or neutral, thank them for \\\n",
    "their review.\n",
    "If the sentiment is negative, apologize and suggest that \\\n",
    "they can reach out to customer service.\n",
    "Make sure to use specific details from the review.\n",
    "Write in a concise and professional tone.\n",
    "Sign the email as AI Customer Agent\n",
    "Customer review: ###{negative_review}###\n",
    "\"\"\""
   ]
  },
  {
   "cell_type": "code",
   "execution_count": 37,
   "id": "db9136a6",
   "metadata": {},
   "outputs": [
    {
     "name": "stdout",
     "output_type": "stream",
     "text": [
      "Subject: Your Recent Experience with Our Flight Booking Service\n",
      "\n",
      "Dear Valued Customer,\n",
      "\n",
      "Thank you for taking the time to share your recent experience with our flight booking service. We sincerely apologize for the inconvenience you faced during your booking process and for not meeting your expectations in terms of pricing.\n",
      "\n",
      "We understand how frustrating it can be to encounter issues, especially when it comes to payment methods. We are currently working on improving our system to ensure a smoother booking process for our customers. Your feedback is invaluable in this regard.\n",
      "\n",
      "We also strive to offer competitive prices and we're sorry to hear that you found better options elsewhere. We will certainly look into this matter and make necessary adjustments to provide better value to our customers.\n",
      "\n",
      "We would appreciate the opportunity to rectify this situation. Please feel free to reach out to our customer service team at your earliest convenience. We are committed to providing you with the best possible service and ensuring your satisfaction.\n",
      "\n",
      "Once again, we apologize for any inconvenience caused and thank you for your feedback. We hope to serve you better in the future.\n",
      "\n",
      "Best Regards,\n",
      "\n",
      "AI Customer Agent\n"
     ]
    }
   ],
   "source": [
    "print(get_completion(prompt))"
   ]
  },
  {
   "cell_type": "code",
   "execution_count": 38,
   "id": "cb311007",
   "metadata": {},
   "outputs": [],
   "source": [
    "# Mixed Review\n",
    "\n",
    "mixed_review = \"My experience with this flight booking website had both positive and negative aspects. \\\n",
    "The user interface was user-friendly and offered a decent selection of airlines. \\\n",
    "However, the pricing was not competitive, and I faced payment issues during the booking process. \\\n",
    "Consider alternatives for better deals and smoother transactions.\"\n",
    "\n",
    "\n",
    "# Prompt\n",
    "\n",
    "prompt = f\"\"\"\n",
    "You are a customer service AI assistant for a online flight booking website.\n",
    "Your task is to send an email reply to a valued customer.\n",
    "Given the customer review delimited by ###, \\\n",
    "Generate a reply to thank the customer for their review.\n",
    "If the sentiment is positive or neutral, thank them for \\\n",
    "their review.\n",
    "If the sentiment is negative, apologize and suggest that \\\n",
    "they can reach out to customer service.\n",
    "Make sure to use specific details from the review.\n",
    "Write in a concise and professional tone.\n",
    "Sign the email as AI Customer Agent\n",
    "Customer review: ###{mixed_review}###\n",
    "\"\"\""
   ]
  },
  {
   "cell_type": "code",
   "execution_count": 39,
   "id": "730eacc0",
   "metadata": {},
   "outputs": [
    {
     "name": "stdout",
     "output_type": "stream",
     "text": [
      "Subject: Your Recent Experience with Our Flight Booking Website\n",
      "\n",
      "Dear Valued Customer,\n",
      "\n",
      "Thank you for taking the time to share your experience with our flight booking website. We appreciate your feedback and are glad to hear that you found our user interface user-friendly and our selection of airlines satisfactory.\n",
      "\n",
      "We sincerely apologize for the issues you faced with our pricing and payment process. We understand how important it is to offer competitive pricing and a smooth transaction process, and we regret that we did not meet your expectations in these areas. \n",
      "\n",
      "Your feedback is invaluable to us as we strive to improve our services. We assure you that we will take your comments into consideration and work diligently to enhance our pricing strategy and payment process.\n",
      "\n",
      "Should you encounter any further issues or have any queries, please do not hesitate to reach out to our customer service team. We are here to assist you 24/7.\n",
      "\n",
      "Thank you once again for your feedback. We hope to serve you better in the future.\n",
      "\n",
      "Best Regards,\n",
      "\n",
      "AI Customer Agent\n"
     ]
    }
   ],
   "source": [
    "print(get_completion(prompt))"
   ]
  }
 ],
 "metadata": {
  "kernelspec": {
   "display_name": "Python 3 (ipykernel)",
   "language": "python",
   "name": "python3"
  },
  "language_info": {
   "codemirror_mode": {
    "name": "ipython",
    "version": 3
   },
   "file_extension": ".py",
   "mimetype": "text/x-python",
   "name": "python",
   "nbconvert_exporter": "python",
   "pygments_lexer": "ipython3",
   "version": "3.11.4"
  }
 },
 "nbformat": 4,
 "nbformat_minor": 5
}
